{
 "cells": [
  {
   "cell_type": "code",
   "execution_count": 2,
   "metadata": {},
   "outputs": [],
   "source": [
    "from tlspt.datamodules.components.numpy_dataset import NumpyDataset\n",
    "from tlspt.datamodules.components.base_site import BaseSiteDataset\n",
    "from tlspt.datamodules.components.octree_dataset import OctreeDataset\n",
    "from tlspt.transforms import TLSSampler, UniformDownsample\n",
    "from tlspt.models.pointmae.pointmae import PointMAE\n",
    "from torch.utils.data import DataLoader\n",
    "import torch\n",
    "from matplotlib import pyplot as plt\n",
    "\n",
    "import numpy as np"
   ]
  },
  {
   "cell_type": "code",
   "execution_count": 5,
   "metadata": {},
   "outputs": [
    {
     "name": "stderr",
     "output_type": "stream",
     "text": [
      "\u001b[32m2024-11-24 15:03:10.029\u001b[0m | \u001b[1mINFO    \u001b[0m | \u001b[36mtlspt.datamodules.components.base_site\u001b[0m:\u001b[36m__init__\u001b[0m:\u001b[36m49\u001b[0m - \u001b[1mOctreeDataset(../data/plot_octrees/allen-spain/octrees/allen-spain-plot_splits-tr0.7-val0.15-te0.15_seed0.csv, train, 1.5): reading splits from ../data/plot_octrees/allen-spain/octrees/allen-spain-plot_splits-tr0.7-val0.15-te0.15_seed0.csv\u001b[0m\n",
      "\u001b[32m2024-11-24 15:03:10.112\u001b[0m | \u001b[1mINFO    \u001b[0m | \u001b[36mtlspt.datamodules.components.base_site\u001b[0m:\u001b[36m__init__\u001b[0m:\u001b[36m56\u001b[0m - \u001b[1mOctreeDataset(../data/plot_octrees/allen-spain/octrees/allen-spain-plot_splits-tr0.7-val0.15-te0.15_seed0.csv, train, 1.5): looking for 14 folders in ../data/plot_octrees/allen-spain/octrees/\u001b[0m\n",
      "\u001b[32m2024-11-24 15:03:10.334\u001b[0m | \u001b[1mINFO    \u001b[0m | \u001b[36mtlspt.datamodules.components.base_site\u001b[0m:\u001b[36m__init__\u001b[0m:\u001b[36m64\u001b[0m - \u001b[1mOctreeDataset(../data/plot_octrees/allen-spain/octrees/allen-spain-plot_splits-tr0.7-val0.15-te0.15_seed0.csv, train, 1.5): found 14 plots for 'train' out of 14 plots defined in split file\u001b[0m\n",
      "\u001b[32m2024-11-24 15:03:10.907\u001b[0m | \u001b[1mINFO    \u001b[0m | \u001b[36mtlspt.structures.file_octree\u001b[0m:\u001b[36m__init__\u001b[0m:\u001b[36m155\u001b[0m - \u001b[1mInitializing octree from <class 'str'> ../data/plot_octrees/allen-spain/octrees/SPA01_1,5m/SPA01.json\u001b[0m\n",
      "\u001b[32m2024-11-24 15:03:10.987\u001b[0m | \u001b[1mINFO    \u001b[0m | \u001b[36mtlspt.structures.file_octree\u001b[0m:\u001b[36m__init__\u001b[0m:\u001b[36m155\u001b[0m - \u001b[1mInitializing octree from <class 'str'> ../data/plot_octrees/allen-spain/octrees/SPA04_1,5m/SPA04.json\u001b[0m\n",
      "\u001b[32m2024-11-24 15:03:11.065\u001b[0m | \u001b[1mINFO    \u001b[0m | \u001b[36mtlspt.structures.file_octree\u001b[0m:\u001b[36m__init__\u001b[0m:\u001b[36m155\u001b[0m - \u001b[1mInitializing octree from <class 'str'> ../data/plot_octrees/allen-spain/octrees/SPA05_1,5m/SPA05.json\u001b[0m\n",
      "\u001b[32m2024-11-24 15:03:11.146\u001b[0m | \u001b[1mINFO    \u001b[0m | \u001b[36mtlspt.structures.file_octree\u001b[0m:\u001b[36m__init__\u001b[0m:\u001b[36m155\u001b[0m - \u001b[1mInitializing octree from <class 'str'> ../data/plot_octrees/allen-spain/octrees/SPA06_1,5m/SPA06.json\u001b[0m\n",
      "\u001b[32m2024-11-24 15:03:11.255\u001b[0m | \u001b[1mINFO    \u001b[0m | \u001b[36mtlspt.structures.file_octree\u001b[0m:\u001b[36m__init__\u001b[0m:\u001b[36m155\u001b[0m - \u001b[1mInitializing octree from <class 'str'> ../data/plot_octrees/allen-spain/octrees/SPA13_1,5m/SPA13.json\u001b[0m\n",
      "\u001b[32m2024-11-24 15:03:11.300\u001b[0m | \u001b[1mINFO    \u001b[0m | \u001b[36mtlspt.structures.file_octree\u001b[0m:\u001b[36m__init__\u001b[0m:\u001b[36m155\u001b[0m - \u001b[1mInitializing octree from <class 'str'> ../data/plot_octrees/allen-spain/octrees/SPA16_1,5m/SPA16.json\u001b[0m\n",
      "\u001b[32m2024-11-24 15:03:11.355\u001b[0m | \u001b[1mINFO    \u001b[0m | \u001b[36mtlspt.structures.file_octree\u001b[0m:\u001b[36m__init__\u001b[0m:\u001b[36m155\u001b[0m - \u001b[1mInitializing octree from <class 'str'> ../data/plot_octrees/allen-spain/octrees/SPA17_1,5m/SPA17.json\u001b[0m\n",
      "\u001b[32m2024-11-24 15:03:11.407\u001b[0m | \u001b[1mINFO    \u001b[0m | \u001b[36mtlspt.structures.file_octree\u001b[0m:\u001b[36m__init__\u001b[0m:\u001b[36m155\u001b[0m - \u001b[1mInitializing octree from <class 'str'> ../data/plot_octrees/allen-spain/octrees/SPA23_1,5m/SPA23.json\u001b[0m\n",
      "\u001b[32m2024-11-24 15:03:11.437\u001b[0m | \u001b[1mINFO    \u001b[0m | \u001b[36mtlspt.structures.file_octree\u001b[0m:\u001b[36m__init__\u001b[0m:\u001b[36m155\u001b[0m - \u001b[1mInitializing octree from <class 'str'> ../data/plot_octrees/allen-spain/octrees/SPA25_1,5m/SPA25.json\u001b[0m\n",
      "\u001b[32m2024-11-24 15:03:11.632\u001b[0m | \u001b[1mINFO    \u001b[0m | \u001b[36mtlspt.structures.file_octree\u001b[0m:\u001b[36m__init__\u001b[0m:\u001b[36m155\u001b[0m - \u001b[1mInitializing octree from <class 'str'> ../data/plot_octrees/allen-spain/octrees/SPA26_1,5m/SPA26.json\u001b[0m\n",
      "\u001b[32m2024-11-24 15:03:11.697\u001b[0m | \u001b[1mINFO    \u001b[0m | \u001b[36mtlspt.structures.file_octree\u001b[0m:\u001b[36m__init__\u001b[0m:\u001b[36m155\u001b[0m - \u001b[1mInitializing octree from <class 'str'> ../data/plot_octrees/allen-spain/octrees/SPA27_1,5m/SPA27.json\u001b[0m\n",
      "\u001b[32m2024-11-24 15:03:11.726\u001b[0m | \u001b[1mINFO    \u001b[0m | \u001b[36mtlspt.structures.file_octree\u001b[0m:\u001b[36m__init__\u001b[0m:\u001b[36m155\u001b[0m - \u001b[1mInitializing octree from <class 'str'> ../data/plot_octrees/allen-spain/octrees/SPA32_1,5m/SPA32.json\u001b[0m\n",
      "\u001b[32m2024-11-24 15:03:11.774\u001b[0m | \u001b[1mINFO    \u001b[0m | \u001b[36mtlspt.structures.file_octree\u001b[0m:\u001b[36m__init__\u001b[0m:\u001b[36m155\u001b[0m - \u001b[1mInitializing octree from <class 'str'> ../data/plot_octrees/allen-spain/octrees/SPA35_1,5m/SPA35.json\u001b[0m\n",
      "\u001b[32m2024-11-24 15:03:11.812\u001b[0m | \u001b[1mINFO    \u001b[0m | \u001b[36mtlspt.structures.file_octree\u001b[0m:\u001b[36m__init__\u001b[0m:\u001b[36m155\u001b[0m - \u001b[1mInitializing octree from <class 'str'> ../data/plot_octrees/allen-spain/octrees/SPA36_1,5m/SPA36.json\u001b[0m\n",
      "\u001b[32m2024-11-24 15:03:11.989\u001b[0m | \u001b[1mINFO    \u001b[0m | \u001b[36mtlspt.utils\u001b[0m:\u001b[36m__init__\u001b[0m:\u001b[36m37\u001b[0m - \u001b[1mCreating directory for stats_file ../data/plot_octrees/allen-spain/octrees/stats/stats_128a15cc4e5f0.pkl\u001b[0m\n"
     ]
    }
   ],
   "source": [
    "site_dataset = OctreeDataset(split_file='../data/plot_octrees/allen-spain/octrees/allen-spain-plot_splits-tr0.7-val0.15-te0.15_seed0.csv',\n",
    "                                 split='train',\n",
    "                                 feature_names=None,\n",
    "                                 features_to_normalize=['red', 'green', 'blue'],\n",
    "                                 scale=1.5,\n",
    "                                 transform=UniformDownsample(num_points=8192))\n",
    "\n",
    "site_dataloader = DataLoader(site_dataset, batch_size=8, shuffle=True)"
   ]
  },
  {
   "cell_type": "code",
   "execution_count": 6,
   "metadata": {},
   "outputs": [
    {
     "name": "stderr",
     "output_type": "stream",
     "text": [
      "\u001b[32m2024-11-24 15:03:15.157\u001b[0m | \u001b[1mINFO    \u001b[0m | \u001b[36mtlspt.utils\u001b[0m:\u001b[36mprepare_data\u001b[0m:\u001b[36m45\u001b[0m - \u001b[1mNo features to normalize\u001b[0m\n"
     ]
    }
   ],
   "source": [
    "site_dataset.prepare_data(force_compute=False)"
   ]
  },
  {
   "cell_type": "code",
   "execution_count": 7,
   "metadata": {},
   "outputs": [
    {
     "data": {
      "text/plain": [
       "{'points': tensor([[-0.0490, -0.7468, -0.1046],\n",
       "         [ 0.0396, -0.2320,  0.0827],\n",
       "         [ 0.3818,  0.4459, -0.0212],\n",
       "         ...,\n",
       "         [-0.1105, -0.6332,  0.0235],\n",
       "         [ 0.1133, -0.2267,  0.0674],\n",
       "         [-0.1596, -0.9737, -0.1474]]),\n",
       " 'lengths': 3594}"
      ]
     },
     "execution_count": 7,
     "metadata": {},
     "output_type": "execute_result"
    }
   ],
   "source": [
    "site_dataset[0]"
   ]
  },
  {
   "cell_type": "code",
   "execution_count": 9,
   "metadata": {},
   "outputs": [
    {
     "data": {
      "text/plain": [
       "torch.Size([8192, 3])"
      ]
     },
     "execution_count": 9,
     "metadata": {},
     "output_type": "execute_result"
    }
   ],
   "source": [
    "site_dataset[0]['points'].shape"
   ]
  },
  {
   "cell_type": "code",
   "execution_count": 11,
   "metadata": {},
   "outputs": [],
   "source": [
    "model = PointMAE(neighbor_alg='ball_query', ball_radius=0.2)"
   ]
  },
  {
   "cell_type": "code",
   "execution_count": 12,
   "metadata": {},
   "outputs": [],
   "source": [
    "batch = next(iter(site_dataloader))"
   ]
  },
  {
   "cell_type": "code",
   "execution_count": 13,
   "metadata": {},
   "outputs": [
    {
     "data": {
      "text/plain": [
       "dict"
      ]
     },
     "execution_count": 13,
     "metadata": {},
     "output_type": "execute_result"
    }
   ],
   "source": [
    "type(batch)"
   ]
  },
  {
   "cell_type": "code",
   "execution_count": 14,
   "metadata": {},
   "outputs": [
    {
     "data": {
      "text/plain": [
       "torch.Size([8, 8192, 3])"
      ]
     },
     "execution_count": 14,
     "metadata": {},
     "output_type": "execute_result"
    }
   ],
   "source": [
    "batch['points'].shape"
   ]
  },
  {
   "cell_type": "code",
   "execution_count": 15,
   "metadata": {},
   "outputs": [],
   "source": [
    "test_out = model(batch)"
   ]
  },
  {
   "cell_type": "code",
   "execution_count": 17,
   "metadata": {},
   "outputs": [],
   "source": [
    "patches, centers = model.group(batch['points'], batch['lengths'])"
   ]
  },
  {
   "cell_type": "code",
   "execution_count": 18,
   "metadata": {},
   "outputs": [
    {
     "data": {
      "text/plain": [
       "torch.Size([8, 64, 32, 3])"
      ]
     },
     "execution_count": 18,
     "metadata": {},
     "output_type": "execute_result"
    }
   ],
   "source": [
    "patches.shape"
   ]
  },
  {
   "cell_type": "code",
   "execution_count": 19,
   "metadata": {},
   "outputs": [
    {
     "data": {
      "text/plain": [
       "torch.Size([8, 64, 3])"
      ]
     },
     "execution_count": 19,
     "metadata": {},
     "output_type": "execute_result"
    }
   ],
   "source": [
    "centers.shape"
   ]
  },
  {
   "cell_type": "code",
   "execution_count": 21,
   "metadata": {},
   "outputs": [],
   "source": [
    "masked_idx, unmasked_idx = model.mask_generator(\n",
    "    centers\n",
    ")  # Ge"
   ]
  },
  {
   "cell_type": "code",
   "execution_count": 29,
   "metadata": {},
   "outputs": [
    {
     "name": "stdout",
     "output_type": "stream",
     "text": [
      "tensor([[ 7, 56, 46, 38,  5, 35, 49,  3, 58, 16, 40, 29, 12, 11,  6, 21, 23, 43,\n",
      "         47, 22, 19, 10, 53, 24,  8, 36, 52, 59, 28, 39, 60, 26, 63, 37, 41, 55,\n",
      "         27,  4],\n",
      "        [30, 26, 54,  7, 62, 22, 17,  3, 12, 20, 13, 49, 28, 18, 11, 43, 16, 34,\n",
      "         60, 53, 47, 46, 24, 23, 63, 39, 15, 19, 52, 35,  8, 38, 10, 25, 50, 41,\n",
      "         36, 58],\n",
      "        [20, 58, 10, 39, 36, 11, 15, 44, 61, 22,  6, 21, 52,  5, 28, 45, 26, 43,\n",
      "         23,  3, 14, 53, 38, 56, 50, 25,  4, 12, 51, 63, 37, 29, 48, 17, 47, 54,\n",
      "         41,  7],\n",
      "        [36, 38, 11, 22, 29, 46, 26, 42, 28, 48,  5, 53, 40,  3,  1, 27, 20, 15,\n",
      "         49, 60, 55, 23,  4,  6, 30, 59, 45, 54, 61, 52, 41, 33, 51, 58, 21, 44,\n",
      "         43, 12],\n",
      "        [60, 10, 39, 47, 15, 22,  6, 62,  8, 28, 19,  5, 45, 38, 33, 13, 11, 23,\n",
      "          9, 36, 58, 61, 50, 49,  0, 53, 27, 16, 63, 59, 12, 46, 51, 52, 29, 30,\n",
      "         44, 25],\n",
      "        [39, 12, 56, 13, 31,  2, 51, 17,  3,  0, 53, 20, 32, 43, 62, 24,  8, 27,\n",
      "         16, 60, 28, 49,  7, 30, 36, 23, 52,  4, 59, 50, 10, 26, 15, 46,  6, 41,\n",
      "         22, 44],\n",
      "        [23, 38, 45, 15,  6, 50, 53,  0, 43,  8, 19, 25, 58,  1, 49, 34, 35, 63,\n",
      "         54, 56, 51,  9, 31, 20, 30, 57, 16, 55, 59, 60, 28, 61, 24, 42, 39, 27,\n",
      "          5, 37],\n",
      "        [49, 29,  4,  5, 13,  8, 31, 40, 48, 46, 23, 35, 51,  7, 27, 28, 41, 38,\n",
      "         17, 34, 14, 22, 47, 55, 43, 45, 16, 61, 54, 53, 57, 63,  1, 21,  9, 59,\n",
      "         11,  2]])\n",
      "torch.Size([8, 38])\n"
     ]
    }
   ],
   "source": [
    "print(masked_idx)\n",
    "print(masked_idx.shape)"
   ]
  },
  {
   "cell_type": "code",
   "execution_count": 30,
   "metadata": {},
   "outputs": [
    {
     "name": "stdout",
     "output_type": "stream",
     "text": [
      "tensor([[34, 44, 31,  9, 14,  2, 45, 15, 30, 20, 62, 61, 17, 48, 51, 42, 57, 50,\n",
      "         33, 18,  0, 25, 54,  1, 32, 13],\n",
      "        [ 6, 59, 33, 31, 48,  1, 55, 56, 57,  4, 32, 42, 27,  0, 21, 37,  2, 40,\n",
      "          9, 45, 29, 44,  5, 51, 61, 14],\n",
      "        [ 0,  9, 33, 59,  1, 62, 31, 49, 30,  8, 27, 13,  2, 42, 16, 60, 18, 55,\n",
      "         32, 24, 46, 35, 19, 57, 40, 34],\n",
      "        [37, 50, 25, 32,  8, 47, 56,  7,  0, 62, 18,  9, 24, 57, 16, 13,  2, 31,\n",
      "         14, 63, 35, 34, 19, 39, 17, 10],\n",
      "        [42, 18,  3, 31, 54, 17, 40, 35, 21, 41,  4, 14,  7, 34, 55, 48,  1,  2,\n",
      "         57, 56, 24, 37, 20, 43, 26, 32],\n",
      "        [18, 21, 61, 48, 57, 54, 40, 19, 58, 14, 35, 42, 37,  5,  1, 34, 38, 55,\n",
      "         45,  9, 25, 29, 63, 33, 11, 47],\n",
      "        [21, 26, 46,  3, 62, 41, 12,  4, 33, 17, 44, 13, 18, 48, 14, 36, 52, 11,\n",
      "         22, 32, 10, 29,  2, 47,  7, 40],\n",
      "        [ 3, 44, 24, 12, 36, 50, 30, 19, 39, 60, 52,  0, 15, 20, 62, 26, 32, 10,\n",
      "         58,  6, 37, 33, 42, 56, 18, 25]])\n",
      "torch.Size([8, 26])\n"
     ]
    }
   ],
   "source": [
    "print(unmasked_idx)\n",
    "print(unmasked_idx.shape)"
   ]
  },
  {
   "cell_type": "code",
   "execution_count": 31,
   "metadata": {},
   "outputs": [],
   "source": [
    "x_vis, vis_pos_embeddings = model.forward_encoder(\n",
    "    patches, centers, unmasked_idx\n",
    ")  # x_vis: (batch, centers, transformer_dim), mask: (batch, centers)"
   ]
  },
  {
   "cell_type": "code",
   "execution_count": 32,
   "metadata": {},
   "outputs": [
    {
     "data": {
      "text/plain": [
       "torch.Size([8, 26, 384])"
      ]
     },
     "execution_count": 32,
     "metadata": {},
     "output_type": "execute_result"
    }
   ],
   "source": [
    "x_vis.shape"
   ]
  },
  {
   "cell_type": "code",
   "execution_count": 33,
   "metadata": {},
   "outputs": [
    {
     "data": {
      "text/plain": [
       "torch.Size([8, 26, 384])"
      ]
     },
     "execution_count": 33,
     "metadata": {},
     "output_type": "execute_result"
    }
   ],
   "source": [
    "vis_pos_embeddings.shape"
   ]
  },
  {
   "cell_type": "code",
   "execution_count": 34,
   "metadata": {},
   "outputs": [
    {
     "name": "stdout",
     "output_type": "stream",
     "text": [
      "torch.Size([8, 38, 3])\n",
      "torch.Size([8, 38, 384])\n"
     ]
    }
   ],
   "source": [
    "from tlspt.models.utils import get_at_index\n",
    "masked_centers = get_at_index(\n",
    "    centers, masked_idx\n",
    ")  # Masked centers. (batch, m*centers, 3)\n",
    "masked_pos_embeddings = model.pos_encoder(\n",
    "    masked_centers\n",
    ")  # batch, m*centers, transformer_dim\n",
    "print(masked_centers.shape)\n",
    "print(masked_pos_embeddings.shape)"
   ]
  },
  {
   "cell_type": "code",
   "execution_count": 37,
   "metadata": {},
   "outputs": [
    {
     "name": "stdout",
     "output_type": "stream",
     "text": [
      "torch.Size([8, 38, 384])\n"
     ]
    }
   ],
   "source": [
    "B, N, _ = masked_pos_embeddings.shape\n",
    "mask_tokens = model.mask_token.expand(B, N, -1)\n",
    "print(mask_tokens.shape)"
   ]
  },
  {
   "cell_type": "code",
   "execution_count": 38,
   "metadata": {},
   "outputs": [
    {
     "name": "stdout",
     "output_type": "stream",
     "text": [
      "torch.Size([8, 64, 384])\n"
     ]
    }
   ],
   "source": [
    "x_full = torch.cat((x_vis, mask_tokens), dim=1)\n",
    "print(x_full.shape)"
   ]
  },
  {
   "cell_type": "code",
   "execution_count": 39,
   "metadata": {},
   "outputs": [
    {
     "name": "stdout",
     "output_type": "stream",
     "text": [
      "torch.Size([8, 64, 384])\n"
     ]
    }
   ],
   "source": [
    "full_pos_embeddings = torch.cat((vis_pos_embeddings, masked_pos_embeddings), dim=1)\n",
    "print(full_pos_embeddings.shape)"
   ]
  },
  {
   "cell_type": "code",
   "execution_count": 40,
   "metadata": {},
   "outputs": [
    {
     "name": "stdout",
     "output_type": "stream",
     "text": [
      "torch.Size([8, 38, 32, 3])\n"
     ]
    }
   ],
   "source": [
    "x_hat = model.forward_decoder(x_full, full_pos_embeddings, N)\n",
    "print(x_hat.shape)"
   ]
  },
  {
   "cell_type": "code",
   "execution_count": 41,
   "metadata": {},
   "outputs": [
    {
     "name": "stdout",
     "output_type": "stream",
     "text": [
      "torch.Size([8, 38, 32, 3])\n"
     ]
    }
   ],
   "source": [
    "x_gt = get_at_index(patches, masked_idx)\n",
    "print(x_gt.shape)"
   ]
  },
  {
   "cell_type": "code",
   "execution_count": 42,
   "metadata": {},
   "outputs": [],
   "source": [
    "loss = model.get_loss(x_hat, x_gt)"
   ]
  },
  {
   "cell_type": "code",
   "execution_count": 43,
   "metadata": {},
   "outputs": [
    {
     "data": {
      "text/plain": [
       "tensor(0.9476, grad_fn=<DivBackward0>)"
      ]
     },
     "execution_count": 43,
     "metadata": {},
     "output_type": "execute_result"
    }
   ],
   "source": [
    "loss"
   ]
  }
 ],
 "metadata": {
  "kernelspec": {
   "display_name": "tlspt",
   "language": "python",
   "name": "python3"
  },
  "language_info": {
   "codemirror_mode": {
    "name": "ipython",
    "version": 3
   },
   "file_extension": ".py",
   "mimetype": "text/x-python",
   "name": "python",
   "nbconvert_exporter": "python",
   "pygments_lexer": "ipython3",
   "version": "3.9.20"
  }
 },
 "nbformat": 4,
 "nbformat_minor": 2
}
