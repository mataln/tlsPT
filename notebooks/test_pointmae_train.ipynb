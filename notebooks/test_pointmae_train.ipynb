{
 "cells": [
  {
   "cell_type": "code",
   "execution_count": 1,
   "metadata": {},
   "outputs": [],
   "source": [
    "from tlspt.datamodules.components.numpy_dataset import NumpyDataset\n",
    "from tlspt.datamodules.components.base_site import BaseSiteDataset\n",
    "from tlspt.datamodules.components.octree_dataset import OctreeDataset\n",
    "from tlspt.datamodules.components.merged_dataset import MergedOctreeDataset\n",
    "from tlspt.transforms import TLSSampler, UniformDownsample\n",
    "from tlspt.models.pointmae.pointmae import PointMAE\n",
    "from torch.utils.data import DataLoader\n",
    "import torch\n",
    "from matplotlib import pyplot as plt\n",
    "\n",
    "import numpy as np"
   ]
  },
  {
   "cell_type": "code",
   "execution_count": 2,
   "metadata": {},
   "outputs": [
    {
     "name": "stderr",
     "output_type": "stream",
     "text": [
      "\u001b[32m2024-11-20 17:42:44.926\u001b[0m | \u001b[1mINFO    \u001b[0m | \u001b[36mtlspt.datamodules.components.base_site\u001b[0m:\u001b[36m__init__\u001b[0m:\u001b[36m49\u001b[0m - \u001b[1mOctreeDataset(/home/matt/work/tlsPT/data/plot_octrees/allen-finland/octrees/allen-finland-plot_splits-tr0.7-val0.15-te0.15_seed0.csv, train, 1.5): reading splits from /home/matt/work/tlsPT/data/plot_octrees/allen-finland/octrees/allen-finland-plot_splits-tr0.7-val0.15-te0.15_seed0.csv\u001b[0m\n",
      "\u001b[32m2024-11-20 17:42:44.929\u001b[0m | \u001b[1mINFO    \u001b[0m | \u001b[36mtlspt.datamodules.components.base_site\u001b[0m:\u001b[36m__init__\u001b[0m:\u001b[36m56\u001b[0m - \u001b[1mOctreeDataset(/home/matt/work/tlsPT/data/plot_octrees/allen-finland/octrees/allen-finland-plot_splits-tr0.7-val0.15-te0.15_seed0.csv, train, 1.5): looking for 12 folders in /home/matt/work/tlsPT/data/plot_octrees/allen-finland/octrees/\u001b[0m\n",
      "\u001b[32m2024-11-20 17:42:44.930\u001b[0m | \u001b[1mINFO    \u001b[0m | \u001b[36mtlspt.datamodules.components.base_site\u001b[0m:\u001b[36m__init__\u001b[0m:\u001b[36m64\u001b[0m - \u001b[1mOctreeDataset(/home/matt/work/tlsPT/data/plot_octrees/allen-finland/octrees/allen-finland-plot_splits-tr0.7-val0.15-te0.15_seed0.csv, train, 1.5): found 12 plots for 'train' out of 12 plots defined in split file\u001b[0m\n",
      "\u001b[32m2024-11-20 17:42:44.931\u001b[0m | \u001b[1mINFO    \u001b[0m | \u001b[36mtlspt.structures.file_octree\u001b[0m:\u001b[36m__init__\u001b[0m:\u001b[36m151\u001b[0m - \u001b[1mInitializing octree from <class 'str'> /home/matt/work/tlsPT/data/plot_octrees/allen-finland/octrees/FIN02_1,5m/FIN02.json\u001b[0m\n",
      "\u001b[32m2024-11-20 17:42:45.108\u001b[0m | \u001b[1mINFO    \u001b[0m | \u001b[36mtlspt.structures.file_octree\u001b[0m:\u001b[36m__init__\u001b[0m:\u001b[36m151\u001b[0m - \u001b[1mInitializing octree from <class 'str'> /home/matt/work/tlsPT/data/plot_octrees/allen-finland/octrees/FIN04_1,5m/FIN04.json\u001b[0m\n",
      "\u001b[32m2024-11-20 17:42:45.165\u001b[0m | \u001b[1mINFO    \u001b[0m | \u001b[36mtlspt.structures.file_octree\u001b[0m:\u001b[36m__init__\u001b[0m:\u001b[36m151\u001b[0m - \u001b[1mInitializing octree from <class 'str'> /home/matt/work/tlsPT/data/plot_octrees/allen-finland/octrees/FIN09_1,5m/FIN09.json\u001b[0m\n",
      "\u001b[32m2024-11-20 17:42:45.212\u001b[0m | \u001b[1mINFO    \u001b[0m | \u001b[36mtlspt.structures.file_octree\u001b[0m:\u001b[36m__init__\u001b[0m:\u001b[36m151\u001b[0m - \u001b[1mInitializing octree from <class 'str'> /home/matt/work/tlsPT/data/plot_octrees/allen-finland/octrees/FIN10_1,5m/FIN10.json\u001b[0m\n",
      "\u001b[32m2024-11-20 17:42:45.265\u001b[0m | \u001b[1mINFO    \u001b[0m | \u001b[36mtlspt.structures.file_octree\u001b[0m:\u001b[36m__init__\u001b[0m:\u001b[36m151\u001b[0m - \u001b[1mInitializing octree from <class 'str'> /home/matt/work/tlsPT/data/plot_octrees/allen-finland/octrees/FIN12_1,5m/FIN12.json\u001b[0m\n",
      "\u001b[32m2024-11-20 17:42:45.317\u001b[0m | \u001b[1mINFO    \u001b[0m | \u001b[36mtlspt.structures.file_octree\u001b[0m:\u001b[36m__init__\u001b[0m:\u001b[36m151\u001b[0m - \u001b[1mInitializing octree from <class 'str'> /home/matt/work/tlsPT/data/plot_octrees/allen-finland/octrees/FIN13_1,5m/FIN13.json\u001b[0m\n",
      "\u001b[32m2024-11-20 17:42:45.490\u001b[0m | \u001b[1mINFO    \u001b[0m | \u001b[36mtlspt.structures.file_octree\u001b[0m:\u001b[36m__init__\u001b[0m:\u001b[36m151\u001b[0m - \u001b[1mInitializing octree from <class 'str'> /home/matt/work/tlsPT/data/plot_octrees/allen-finland/octrees/FIN15_1,5m/FIN15.json\u001b[0m\n",
      "\u001b[32m2024-11-20 17:42:45.548\u001b[0m | \u001b[1mINFO    \u001b[0m | \u001b[36mtlspt.structures.file_octree\u001b[0m:\u001b[36m__init__\u001b[0m:\u001b[36m151\u001b[0m - \u001b[1mInitializing octree from <class 'str'> /home/matt/work/tlsPT/data/plot_octrees/allen-finland/octrees/FIN21_1,5m/FIN21.json\u001b[0m\n",
      "\u001b[32m2024-11-20 17:42:45.616\u001b[0m | \u001b[1mINFO    \u001b[0m | \u001b[36mtlspt.structures.file_octree\u001b[0m:\u001b[36m__init__\u001b[0m:\u001b[36m151\u001b[0m - \u001b[1mInitializing octree from <class 'str'> /home/matt/work/tlsPT/data/plot_octrees/allen-finland/octrees/FIN24_1,5m/FIN24.json\u001b[0m\n",
      "\u001b[32m2024-11-20 17:42:45.678\u001b[0m | \u001b[1mINFO    \u001b[0m | \u001b[36mtlspt.structures.file_octree\u001b[0m:\u001b[36m__init__\u001b[0m:\u001b[36m151\u001b[0m - \u001b[1mInitializing octree from <class 'str'> /home/matt/work/tlsPT/data/plot_octrees/allen-finland/octrees/FIN25_1,5m/FIN25.json\u001b[0m\n",
      "\u001b[32m2024-11-20 17:42:45.730\u001b[0m | \u001b[1mINFO    \u001b[0m | \u001b[36mtlspt.structures.file_octree\u001b[0m:\u001b[36m__init__\u001b[0m:\u001b[36m151\u001b[0m - \u001b[1mInitializing octree from <class 'str'> /home/matt/work/tlsPT/data/plot_octrees/allen-finland/octrees/FIN27_1,5m/FIN27.json\u001b[0m\n",
      "\u001b[32m2024-11-20 17:42:45.913\u001b[0m | \u001b[1mINFO    \u001b[0m | \u001b[36mtlspt.structures.file_octree\u001b[0m:\u001b[36m__init__\u001b[0m:\u001b[36m151\u001b[0m - \u001b[1mInitializing octree from <class 'str'> /home/matt/work/tlsPT/data/plot_octrees/allen-finland/octrees/FIN28_1,5m/FIN28.json\u001b[0m\n",
      "\u001b[32m2024-11-20 17:42:46.218\u001b[0m | \u001b[1mINFO    \u001b[0m | \u001b[36mtlspt.utils\u001b[0m:\u001b[36m__init__\u001b[0m:\u001b[36m37\u001b[0m - \u001b[1mCreating directory for stats_file /home/matt/work/tlsPT/data/plot_octrees/allen-finland/octrees/stats/stats_02c8209fb3405.pkl\u001b[0m\n",
      "\u001b[32m2024-11-20 17:42:46.219\u001b[0m | \u001b[1mINFO    \u001b[0m | \u001b[36mtlspt.datamodules.components.base_site\u001b[0m:\u001b[36m__init__\u001b[0m:\u001b[36m49\u001b[0m - \u001b[1mOctreeDataset(/home/matt/work/tlsPT/data/plot_octrees/allen-poland/octrees/allen-poland-plot_splits-tr0.7-val0.15-te0.15_seed0.csv, train, 1.5): reading splits from /home/matt/work/tlsPT/data/plot_octrees/allen-poland/octrees/allen-poland-plot_splits-tr0.7-val0.15-te0.15_seed0.csv\u001b[0m\n",
      "\u001b[32m2024-11-20 17:42:46.221\u001b[0m | \u001b[1mINFO    \u001b[0m | \u001b[36mtlspt.datamodules.components.base_site\u001b[0m:\u001b[36m__init__\u001b[0m:\u001b[36m56\u001b[0m - \u001b[1mOctreeDataset(/home/matt/work/tlsPT/data/plot_octrees/allen-poland/octrees/allen-poland-plot_splits-tr0.7-val0.15-te0.15_seed0.csv, train, 1.5): looking for 14 folders in /home/matt/work/tlsPT/data/plot_octrees/allen-poland/octrees/\u001b[0m\n",
      "\u001b[32m2024-11-20 17:42:46.222\u001b[0m | \u001b[33m\u001b[1mWARNING \u001b[0m | \u001b[36mtlspt.datamodules.components.base_site\u001b[0m:\u001b[36mcheck_discrepancies_between_expected_files_and_folder_files\u001b[0m:\u001b[36m108\u001b[0m - \u001b[33m\u001b[1mOctreeDataset(/home/matt/work/tlsPT/data/plot_octrees/allen-poland/octrees/allen-poland-plot_splits-tr0.7-val0.15-te0.15_seed0.csv, train, 1.5): There are 1 discrepancies\u001b[0m\n",
      "\u001b[32m2024-11-20 17:42:46.222\u001b[0m | \u001b[1mINFO    \u001b[0m | \u001b[36mtlspt.datamodules.components.base_site\u001b[0m:\u001b[36m__init__\u001b[0m:\u001b[36m64\u001b[0m - \u001b[1mOctreeDataset(/home/matt/work/tlsPT/data/plot_octrees/allen-poland/octrees/allen-poland-plot_splits-tr0.7-val0.15-te0.15_seed0.csv, train, 1.5): found 13 plots for 'train' out of 14 plots defined in split file\u001b[0m\n",
      "\u001b[32m2024-11-20 17:42:46.223\u001b[0m | \u001b[1mINFO    \u001b[0m | \u001b[36mtlspt.structures.file_octree\u001b[0m:\u001b[36m__init__\u001b[0m:\u001b[36m151\u001b[0m - \u001b[1mInitializing octree from <class 'str'> /home/matt/work/tlsPT/data/plot_octrees/allen-poland/octrees/POL10_2021-08-17.PROJ_1,5m/POL10_2021-08-17.PROJ.json\u001b[0m\n",
      "\u001b[32m2024-11-20 17:42:46.260\u001b[0m | \u001b[1mINFO    \u001b[0m | \u001b[36mtlspt.structures.file_octree\u001b[0m:\u001b[36m__init__\u001b[0m:\u001b[36m151\u001b[0m - \u001b[1mInitializing octree from <class 'str'> /home/matt/work/tlsPT/data/plot_octrees/allen-poland/octrees/POL13_2021-08-27.PROJ_1,5m/POL13_2021-08-27.PROJ.json\u001b[0m\n",
      "\u001b[32m2024-11-20 17:42:46.321\u001b[0m | \u001b[1mINFO    \u001b[0m | \u001b[36mtlspt.structures.file_octree\u001b[0m:\u001b[36m__init__\u001b[0m:\u001b[36m151\u001b[0m - \u001b[1mInitializing octree from <class 'str'> /home/matt/work/tlsPT/data/plot_octrees/allen-poland/octrees/POL15_2021-08-22.PROJ_1,5m/POL15_2021-08-22.PROJ.json\u001b[0m\n",
      "\u001b[32m2024-11-20 17:42:46.535\u001b[0m | \u001b[1mINFO    \u001b[0m | \u001b[36mtlspt.structures.file_octree\u001b[0m:\u001b[36m__init__\u001b[0m:\u001b[36m151\u001b[0m - \u001b[1mInitializing octree from <class 'str'> /home/matt/work/tlsPT/data/plot_octrees/allen-poland/octrees/POL20_2021-08-25.PROJ_1,5m/POL20_2021-08-25.PROJ.json\u001b[0m\n",
      "\u001b[32m2024-11-20 17:42:46.577\u001b[0m | \u001b[1mINFO    \u001b[0m | \u001b[36mtlspt.structures.file_octree\u001b[0m:\u001b[36m__init__\u001b[0m:\u001b[36m151\u001b[0m - \u001b[1mInitializing octree from <class 'str'> /home/matt/work/tlsPT/data/plot_octrees/allen-poland/octrees/POL21_2021-08-25.PROJ_1,5m/POL21_2021-08-25.PROJ.json\u001b[0m\n",
      "\u001b[32m2024-11-20 17:42:46.640\u001b[0m | \u001b[1mINFO    \u001b[0m | \u001b[36mtlspt.structures.file_octree\u001b[0m:\u001b[36m__init__\u001b[0m:\u001b[36m151\u001b[0m - \u001b[1mInitializing octree from <class 'str'> /home/matt/work/tlsPT/data/plot_octrees/allen-poland/octrees/POL24_2021-08-21.PROJ_1,5m/POL24_2021-08-21.PROJ.json\u001b[0m\n",
      "\u001b[32m2024-11-20 17:42:46.704\u001b[0m | \u001b[1mINFO    \u001b[0m | \u001b[36mtlspt.structures.file_octree\u001b[0m:\u001b[36m__init__\u001b[0m:\u001b[36m151\u001b[0m - \u001b[1mInitializing octree from <class 'str'> /home/matt/work/tlsPT/data/plot_octrees/allen-poland/octrees/POL26_2021-08-24.PROJ_1,5m/POL26_2021-08-24.PROJ.json\u001b[0m\n",
      "\u001b[32m2024-11-20 17:42:46.745\u001b[0m | \u001b[1mINFO    \u001b[0m | \u001b[36mtlspt.structures.file_octree\u001b[0m:\u001b[36m__init__\u001b[0m:\u001b[36m151\u001b[0m - \u001b[1mInitializing octree from <class 'str'> /home/matt/work/tlsPT/data/plot_octrees/allen-poland/octrees/POL29_2021-08-27.PROJ_1,5m/POL29_2021-08-27.PROJ.json\u001b[0m\n",
      "\u001b[32m2024-11-20 17:42:46.799\u001b[0m | \u001b[1mINFO    \u001b[0m | \u001b[36mtlspt.structures.file_octree\u001b[0m:\u001b[36m__init__\u001b[0m:\u001b[36m151\u001b[0m - \u001b[1mInitializing octree from <class 'str'> /home/matt/work/tlsPT/data/plot_octrees/allen-poland/octrees/POL31_2021-08-18.PROJ_1,5m/POL31_2021-08-18.PROJ.json\u001b[0m\n",
      "\u001b[32m2024-11-20 17:42:46.843\u001b[0m | \u001b[1mINFO    \u001b[0m | \u001b[36mtlspt.structures.file_octree\u001b[0m:\u001b[36m__init__\u001b[0m:\u001b[36m151\u001b[0m - \u001b[1mInitializing octree from <class 'str'> /home/matt/work/tlsPT/data/plot_octrees/allen-poland/octrees/POL32_2021-08-22.PROJ_1,5m/POL32_2021-08-22.PROJ.json\u001b[0m\n",
      "\u001b[32m2024-11-20 17:42:47.073\u001b[0m | \u001b[1mINFO    \u001b[0m | \u001b[36mtlspt.structures.file_octree\u001b[0m:\u001b[36m__init__\u001b[0m:\u001b[36m151\u001b[0m - \u001b[1mInitializing octree from <class 'str'> /home/matt/work/tlsPT/data/plot_octrees/allen-poland/octrees/POL34_2021-08-24.PROJ_1,5m/POL34_2021-08-24.PROJ.json\u001b[0m\n",
      "\u001b[32m2024-11-20 17:42:47.109\u001b[0m | \u001b[1mINFO    \u001b[0m | \u001b[36mtlspt.structures.file_octree\u001b[0m:\u001b[36m__init__\u001b[0m:\u001b[36m151\u001b[0m - \u001b[1mInitializing octree from <class 'str'> /home/matt/work/tlsPT/data/plot_octrees/allen-poland/octrees/POL35_2021-08-20.PROJ_1,5m/POL35_2021-08-20.PROJ.json\u001b[0m\n",
      "\u001b[32m2024-11-20 17:42:47.152\u001b[0m | \u001b[1mINFO    \u001b[0m | \u001b[36mtlspt.structures.file_octree\u001b[0m:\u001b[36m__init__\u001b[0m:\u001b[36m151\u001b[0m - \u001b[1mInitializing octree from <class 'str'> /home/matt/work/tlsPT/data/plot_octrees/allen-poland/octrees/POL37_2021-08-19.PROJ_1,5m/POL37_2021-08-19.PROJ.json\u001b[0m\n",
      "\u001b[32m2024-11-20 17:42:47.448\u001b[0m | \u001b[1mINFO    \u001b[0m | \u001b[36mtlspt.utils\u001b[0m:\u001b[36m__init__\u001b[0m:\u001b[36m37\u001b[0m - \u001b[1mCreating directory for stats_file /home/matt/work/tlsPT/data/plot_octrees/allen-poland/octrees/stats/stats_08ef31ff1a3ac.pkl\u001b[0m\n",
      "\u001b[32m2024-11-20 17:42:47.449\u001b[0m | \u001b[1mINFO    \u001b[0m | \u001b[36mtlspt.datamodules.components.base_site\u001b[0m:\u001b[36m__init__\u001b[0m:\u001b[36m49\u001b[0m - \u001b[1mOctreeDataset(/home/matt/work/tlsPT/data/plot_octrees/allen-spain/octrees/allen-spain-plot_splits-tr0.7-val0.15-te0.15_seed0.csv, train, 1.5): reading splits from /home/matt/work/tlsPT/data/plot_octrees/allen-spain/octrees/allen-spain-plot_splits-tr0.7-val0.15-te0.15_seed0.csv\u001b[0m\n",
      "\u001b[32m2024-11-20 17:42:47.451\u001b[0m | \u001b[1mINFO    \u001b[0m | \u001b[36mtlspt.datamodules.components.base_site\u001b[0m:\u001b[36m__init__\u001b[0m:\u001b[36m56\u001b[0m - \u001b[1mOctreeDataset(/home/matt/work/tlsPT/data/plot_octrees/allen-spain/octrees/allen-spain-plot_splits-tr0.7-val0.15-te0.15_seed0.csv, train, 1.5): looking for 14 folders in /home/matt/work/tlsPT/data/plot_octrees/allen-spain/octrees/\u001b[0m\n",
      "\u001b[32m2024-11-20 17:42:47.451\u001b[0m | \u001b[1mINFO    \u001b[0m | \u001b[36mtlspt.datamodules.components.base_site\u001b[0m:\u001b[36m__init__\u001b[0m:\u001b[36m64\u001b[0m - \u001b[1mOctreeDataset(/home/matt/work/tlsPT/data/plot_octrees/allen-spain/octrees/allen-spain-plot_splits-tr0.7-val0.15-te0.15_seed0.csv, train, 1.5): found 14 plots for 'train' out of 14 plots defined in split file\u001b[0m\n",
      "\u001b[32m2024-11-20 17:42:47.452\u001b[0m | \u001b[1mINFO    \u001b[0m | \u001b[36mtlspt.structures.file_octree\u001b[0m:\u001b[36m__init__\u001b[0m:\u001b[36m151\u001b[0m - \u001b[1mInitializing octree from <class 'str'> /home/matt/work/tlsPT/data/plot_octrees/allen-spain/octrees/SPA01_1,5m/SPA01.json\u001b[0m\n",
      "\u001b[32m2024-11-20 17:42:47.499\u001b[0m | \u001b[1mINFO    \u001b[0m | \u001b[36mtlspt.structures.file_octree\u001b[0m:\u001b[36m__init__\u001b[0m:\u001b[36m151\u001b[0m - \u001b[1mInitializing octree from <class 'str'> /home/matt/work/tlsPT/data/plot_octrees/allen-spain/octrees/SPA04_1,5m/SPA04.json\u001b[0m\n",
      "\u001b[32m2024-11-20 17:42:47.541\u001b[0m | \u001b[1mINFO    \u001b[0m | \u001b[36mtlspt.structures.file_octree\u001b[0m:\u001b[36m__init__\u001b[0m:\u001b[36m151\u001b[0m - \u001b[1mInitializing octree from <class 'str'> /home/matt/work/tlsPT/data/plot_octrees/allen-spain/octrees/SPA05_1,5m/SPA05.json\u001b[0m\n",
      "\u001b[32m2024-11-20 17:42:47.583\u001b[0m | \u001b[1mINFO    \u001b[0m | \u001b[36mtlspt.structures.file_octree\u001b[0m:\u001b[36m__init__\u001b[0m:\u001b[36m151\u001b[0m - \u001b[1mInitializing octree from <class 'str'> /home/matt/work/tlsPT/data/plot_octrees/allen-spain/octrees/SPA06_1,5m/SPA06.json\u001b[0m\n",
      "\u001b[32m2024-11-20 17:42:47.785\u001b[0m | \u001b[1mINFO    \u001b[0m | \u001b[36mtlspt.structures.file_octree\u001b[0m:\u001b[36m__init__\u001b[0m:\u001b[36m151\u001b[0m - \u001b[1mInitializing octree from <class 'str'> /home/matt/work/tlsPT/data/plot_octrees/allen-spain/octrees/SPA13_1,5m/SPA13.json\u001b[0m\n",
      "\u001b[32m2024-11-20 17:42:47.803\u001b[0m | \u001b[1mINFO    \u001b[0m | \u001b[36mtlspt.structures.file_octree\u001b[0m:\u001b[36m__init__\u001b[0m:\u001b[36m151\u001b[0m - \u001b[1mInitializing octree from <class 'str'> /home/matt/work/tlsPT/data/plot_octrees/allen-spain/octrees/SPA16_1,5m/SPA16.json\u001b[0m\n",
      "\u001b[32m2024-11-20 17:42:47.833\u001b[0m | \u001b[1mINFO    \u001b[0m | \u001b[36mtlspt.structures.file_octree\u001b[0m:\u001b[36m__init__\u001b[0m:\u001b[36m151\u001b[0m - \u001b[1mInitializing octree from <class 'str'> /home/matt/work/tlsPT/data/plot_octrees/allen-spain/octrees/SPA17_1,5m/SPA17.json\u001b[0m\n",
      "\u001b[32m2024-11-20 17:42:47.861\u001b[0m | \u001b[1mINFO    \u001b[0m | \u001b[36mtlspt.structures.file_octree\u001b[0m:\u001b[36m__init__\u001b[0m:\u001b[36m151\u001b[0m - \u001b[1mInitializing octree from <class 'str'> /home/matt/work/tlsPT/data/plot_octrees/allen-spain/octrees/SPA23_1,5m/SPA23.json\u001b[0m\n",
      "\u001b[32m2024-11-20 17:42:47.877\u001b[0m | \u001b[1mINFO    \u001b[0m | \u001b[36mtlspt.structures.file_octree\u001b[0m:\u001b[36m__init__\u001b[0m:\u001b[36m151\u001b[0m - \u001b[1mInitializing octree from <class 'str'> /home/matt/work/tlsPT/data/plot_octrees/allen-spain/octrees/SPA25_1,5m/SPA25.json\u001b[0m\n",
      "\u001b[32m2024-11-20 17:42:47.915\u001b[0m | \u001b[1mINFO    \u001b[0m | \u001b[36mtlspt.structures.file_octree\u001b[0m:\u001b[36m__init__\u001b[0m:\u001b[36m151\u001b[0m - \u001b[1mInitializing octree from <class 'str'> /home/matt/work/tlsPT/data/plot_octrees/allen-spain/octrees/SPA26_1,5m/SPA26.json\u001b[0m\n",
      "\u001b[32m2024-11-20 17:42:47.941\u001b[0m | \u001b[1mINFO    \u001b[0m | \u001b[36mtlspt.structures.file_octree\u001b[0m:\u001b[36m__init__\u001b[0m:\u001b[36m151\u001b[0m - \u001b[1mInitializing octree from <class 'str'> /home/matt/work/tlsPT/data/plot_octrees/allen-spain/octrees/SPA27_1,5m/SPA27.json\u001b[0m\n",
      "\u001b[32m2024-11-20 17:42:47.959\u001b[0m | \u001b[1mINFO    \u001b[0m | \u001b[36mtlspt.structures.file_octree\u001b[0m:\u001b[36m__init__\u001b[0m:\u001b[36m151\u001b[0m - \u001b[1mInitializing octree from <class 'str'> /home/matt/work/tlsPT/data/plot_octrees/allen-spain/octrees/SPA32_1,5m/SPA32.json\u001b[0m\n",
      "\u001b[32m2024-11-20 17:42:47.973\u001b[0m | \u001b[1mINFO    \u001b[0m | \u001b[36mtlspt.structures.file_octree\u001b[0m:\u001b[36m__init__\u001b[0m:\u001b[36m151\u001b[0m - \u001b[1mInitializing octree from <class 'str'> /home/matt/work/tlsPT/data/plot_octrees/allen-spain/octrees/SPA35_1,5m/SPA35.json\u001b[0m\n",
      "\u001b[32m2024-11-20 17:42:47.990\u001b[0m | \u001b[1mINFO    \u001b[0m | \u001b[36mtlspt.structures.file_octree\u001b[0m:\u001b[36m__init__\u001b[0m:\u001b[36m151\u001b[0m - \u001b[1mInitializing octree from <class 'str'> /home/matt/work/tlsPT/data/plot_octrees/allen-spain/octrees/SPA36_1,5m/SPA36.json\u001b[0m\n",
      "\u001b[32m2024-11-20 17:42:48.149\u001b[0m | \u001b[1mINFO    \u001b[0m | \u001b[36mtlspt.utils\u001b[0m:\u001b[36m__init__\u001b[0m:\u001b[36m37\u001b[0m - \u001b[1mCreating directory for stats_file /home/matt/work/tlsPT/data/plot_octrees/allen-spain/octrees/stats/stats_2bcef508d2905.pkl\u001b[0m\n"
     ]
    }
   ],
   "source": [
    "merged_dataset = MergedOctreeDataset(split_files=['/home/matt/work/tlsPT/data/plot_octrees/allen-finland/octrees/allen-finland-plot_splits-tr0.7-val0.15-te0.15_seed0.csv',\n",
    "                                                  '/home/matt/work/tlsPT/data/plot_octrees/allen-poland/octrees/allen-poland-plot_splits-tr0.7-val0.15-te0.15_seed0.csv',\n",
    "                                                  '/home/matt/work/tlsPT/data/plot_octrees/allen-spain/octrees/allen-spain-plot_splits-tr0.7-val0.15-te0.15_seed0.csv'],\n",
    "                                    split='train',\n",
    "                                    scales=[1.5,1.5,1.5],\n",
    "                                    feature_names=None,\n",
    "                                    normalize=True,\n",
    "                                    transform=UniformDownsample(num_points=8192),\n",
    "                                    )\n",
    "\n",
    "merged_dataloader = DataLoader(merged_dataset, batch_size=256, shuffle=True)"
   ]
  },
  {
   "cell_type": "code",
   "execution_count": 4,
   "metadata": {},
   "outputs": [],
   "source": [
    "model = PointMAE(neighbor_alg='ball_query', ball_radius=0.2)"
   ]
  },
  {
   "cell_type": "code",
   "execution_count": 5,
   "metadata": {},
   "outputs": [],
   "source": [
    "batch = next(iter(merged_dataloader))"
   ]
  },
  {
   "cell_type": "code",
   "execution_count": 6,
   "metadata": {},
   "outputs": [
    {
     "data": {
      "text/plain": [
       "dict"
      ]
     },
     "execution_count": 6,
     "metadata": {},
     "output_type": "execute_result"
    }
   ],
   "source": [
    "type(batch)"
   ]
  },
  {
   "cell_type": "code",
   "execution_count": 7,
   "metadata": {},
   "outputs": [
    {
     "data": {
      "text/plain": [
       "torch.Size([256, 8192, 3])"
      ]
     },
     "execution_count": 7,
     "metadata": {},
     "output_type": "execute_result"
    }
   ],
   "source": [
    "batch['points'].shape"
   ]
  },
  {
   "cell_type": "code",
   "execution_count": 8,
   "metadata": {},
   "outputs": [],
   "source": [
    "test_out = model(batch)"
   ]
  },
  {
   "cell_type": "code",
   "execution_count": 9,
   "metadata": {},
   "outputs": [
    {
     "data": {
      "text/plain": [
       "tensor(0.7932, grad_fn=<DivBackward0>)"
      ]
     },
     "execution_count": 9,
     "metadata": {},
     "output_type": "execute_result"
    }
   ],
   "source": [
    "test_out"
   ]
  },
  {
   "cell_type": "code",
   "execution_count": 10,
   "metadata": {},
   "outputs": [
    {
     "name": "stdout",
     "output_type": "stream",
     "text": [
      "Median distance: 0.1462363749742508\n",
      "Mean distance: 0.17636370658874512\n",
      "Max distance: 1.610904335975647\n",
      "Min distance: 0.0\n",
      "\n",
      "Median max distance: 0.19818121194839478\n",
      "Mean max distance: 0.2690158486366272\n",
      "Max max distance: 1.610904335975647\n",
      "Min max distance: 0.04823631793260574\n"
     ]
    }
   ],
   "source": [
    "patches, centers = model.group(batch['points'], batch['lengths'])\n",
    "dists = torch.norm(patches, p=2, dim=-1)\n",
    "\n",
    "max_dists = torch.max(dists, dim=-1).values\n",
    "\n",
    "median_dist = torch.median(dists)\n",
    "mean_dist = torch.mean(dists)\n",
    "max_dist = torch.max(dists)\n",
    "min_dist = torch.min(dists)\n",
    "\n",
    "print(f'Median distance: {median_dist}')\n",
    "print(f'Mean distance: {mean_dist}')\n",
    "print(f'Max distance: {max_dist}')\n",
    "print(f'Min distance: {min_dist}')\n",
    "\n",
    "median_max_dist = torch.median(max_dists)\n",
    "mean_max_dist = torch.mean(max_dists)\n",
    "max_max_dist = torch.max(max_dists)\n",
    "min_max_dist = torch.min(max_dists)\n",
    "\n",
    "print()\n",
    "print(f'Median max distance: {median_max_dist}')\n",
    "print(f'Mean max distance: {mean_max_dist}')\n",
    "print(f'Max max distance: {max_max_dist}')\n",
    "print(f'Min max distance: {min_max_dist}')"
   ]
  },
  {
   "cell_type": "code",
   "execution_count": 11,
   "metadata": {},
   "outputs": [
    {
     "data": {
      "text/plain": [
       "(array([4.0000e+00, 5.0000e+00, 1.1000e+01, 1.6000e+01, 2.2000e+01,\n",
       "        4.6000e+01, 6.6000e+01, 1.2600e+02, 8.1600e+02, 1.3607e+04,\n",
       "        1.0000e+00, 2.0000e+00, 5.0000e+00, 3.0000e+00, 3.0000e+00,\n",
       "        4.0000e+00, 5.0000e+00, 5.0000e+00, 1.0000e+01, 1.0000e+01,\n",
       "        1.0000e+01, 5.0000e+00, 1.1000e+01, 1.3000e+01, 1.0000e+01,\n",
       "        1.2000e+01, 1.5000e+01, 1.5000e+01, 1.7000e+01, 1.9000e+01,\n",
       "        1.4000e+01, 1.0000e+01, 1.6000e+01, 1.6000e+01, 1.7000e+01,\n",
       "        2.0000e+01, 1.9000e+01, 1.9000e+01, 2.0000e+01, 2.2000e+01,\n",
       "        2.4000e+01, 2.3000e+01, 2.5000e+01, 3.0000e+01, 2.7000e+01,\n",
       "        1.7000e+01, 2.3000e+01, 2.6000e+01, 2.6000e+01, 3.1000e+01,\n",
       "        2.9000e+01, 4.1000e+01, 2.2000e+01, 2.5000e+01, 3.4000e+01,\n",
       "        3.5000e+01, 3.1000e+01, 3.4000e+01, 4.1000e+01, 2.6000e+01,\n",
       "        4.3000e+01, 3.8000e+01, 4.7000e+01, 3.3000e+01, 3.0000e+01,\n",
       "        3.8000e+01, 2.7000e+01, 3.4000e+01, 5.2000e+01, 4.1000e+01,\n",
       "        2.4000e+01, 2.6000e+01, 2.7000e+01, 2.0000e+01, 3.0000e+01,\n",
       "        2.0000e+01, 3.4000e+01, 1.6000e+01, 1.8000e+01, 9.0000e+00,\n",
       "        1.5000e+01, 1.0000e+01, 1.9000e+01, 1.0000e+01, 1.1000e+01,\n",
       "        8.0000e+00, 1.5000e+01, 9.0000e+00, 5.0000e+00, 1.0000e+00,\n",
       "        1.1000e+01, 3.0000e+00, 4.0000e+00, 7.0000e+00, 3.0000e+00,\n",
       "        0.0000e+00, 6.0000e+00, 0.0000e+00, 1.0000e+00, 2.0000e+00]),\n",
       " array([0.04823632, 0.063863  , 0.07948968, 0.09511636, 0.11074304,\n",
       "        0.12636971, 0.1419964 , 0.15762308, 0.17324977, 0.18887644,\n",
       "        0.20450312, 0.2201298 , 0.23575649, 0.25138316, 0.26700985,\n",
       "        0.28263652, 0.29826319, 0.31388989, 0.32951656, 0.34514323,\n",
       "        0.36076993, 0.3763966 , 0.3920233 , 0.40764996, 0.42327663,\n",
       "        0.43890333, 0.45453   , 0.47015667, 0.48578337, 0.50141007,\n",
       "        0.51703674, 0.5326634 , 0.54829007, 0.56391674, 0.57954347,\n",
       "        0.59517014, 0.61079681, 0.62642348, 0.64205015, 0.65767682,\n",
       "        0.67330354, 0.68893021, 0.70455688, 0.72018355, 0.73581022,\n",
       "        0.75143695, 0.76706362, 0.78269029, 0.79831696, 0.81394362,\n",
       "        0.82957035, 0.84519702, 0.86082369, 0.87645036, 0.89207703,\n",
       "        0.90770376, 0.92333043, 0.9389571 , 0.95458376, 0.97021043,\n",
       "        0.9858371 , 1.00146377, 1.01709044, 1.03271723, 1.0483439 ,\n",
       "        1.06397057, 1.07959723, 1.0952239 , 1.11085057, 1.12647724,\n",
       "        1.14210391, 1.15773058, 1.17335725, 1.18898392, 1.20461071,\n",
       "        1.22023737, 1.23586404, 1.25149071, 1.26711738, 1.28274405,\n",
       "        1.29837072, 1.31399739, 1.32962406, 1.34525073, 1.36087739,\n",
       "        1.37650418, 1.39213085, 1.40775752, 1.42338419, 1.43901086,\n",
       "        1.45463753, 1.4702642 , 1.48589087, 1.50151753, 1.5171442 ,\n",
       "        1.53277099, 1.54839766, 1.56402433, 1.579651  , 1.59527767,\n",
       "        1.61090434]),\n",
       " <BarContainer object of 100 artists>)"
      ]
     },
     "execution_count": 11,
     "metadata": {},
     "output_type": "execute_result"
    },
    {
     "data": {
      "image/png": "[encoded data removed]",
      "text/plain": [
       "<Figure size 640x480 with 1 Axes>"
      ]
     },
     "metadata": {},
     "output_type": "display_data"
    }
   ],
   "source": [
    "plt.hist(torch.flatten(max_dists).numpy(), bins=100)"
   ]
  },
  {
   "cell_type": "code",
   "execution_count": 11,
   "metadata": {},
   "outputs": [
    {
     "data": {
      "text/plain": [
       "torch.Size([64, 64, 3])"
      ]
     },
     "execution_count": 11,
     "metadata": {},
     "output_type": "execute_result"
    }
   ],
   "source": [
    "centers.shape"
   ]
  },
  {
   "cell_type": "code",
   "execution_count": 12,
   "metadata": {},
   "outputs": [],
   "source": [
    "x_vis, mask, vis_pos_embeddings = model.forward_encoder(\n",
    "    patches, centers\n",
    ")"
   ]
  },
  {
   "cell_type": "code",
   "execution_count": 13,
   "metadata": {},
   "outputs": [
    {
     "data": {
      "text/plain": [
       "torch.Size([64, 26, 384])"
      ]
     },
     "execution_count": 13,
     "metadata": {},
     "output_type": "execute_result"
    }
   ],
   "source": [
    "x_vis.shape"
   ]
  },
  {
   "cell_type": "code",
   "execution_count": 14,
   "metadata": {},
   "outputs": [
    {
     "data": {
      "text/plain": [
       "torch.Size([64, 64])"
      ]
     },
     "execution_count": 14,
     "metadata": {},
     "output_type": "execute_result"
    }
   ],
   "source": [
    "mask.shape"
   ]
  },
  {
   "cell_type": "code",
   "execution_count": 15,
   "metadata": {},
   "outputs": [
    {
     "data": {
      "text/plain": [
       "torch.Size([64, 26, 384])"
      ]
     },
     "execution_count": 15,
     "metadata": {},
     "output_type": "execute_result"
    }
   ],
   "source": [
    "vis_pos_embeddings.shape"
   ]
  },
  {
   "cell_type": "code",
   "execution_count": 16,
   "metadata": {},
   "outputs": [],
   "source": [
    "from tlspt.models.utils import get_masked, get_unmasked\n",
    "masked_centers = get_masked(centers, mask)\n",
    "masked_pos_embeddings = model.pos_encoder(masked_centers)"
   ]
  },
  {
   "cell_type": "code",
   "execution_count": 17,
   "metadata": {},
   "outputs": [
    {
     "data": {
      "text/plain": [
       "torch.Size([64, 38, 3])"
      ]
     },
     "execution_count": 17,
     "metadata": {},
     "output_type": "execute_result"
    }
   ],
   "source": [
    "masked_centers.shape"
   ]
  },
  {
   "cell_type": "code",
   "execution_count": 18,
   "metadata": {},
   "outputs": [
    {
     "data": {
      "text/plain": [
       "torch.Size([64, 38, 384])"
      ]
     },
     "execution_count": 18,
     "metadata": {},
     "output_type": "execute_result"
    }
   ],
   "source": [
    "masked_pos_embeddings.shape"
   ]
  },
  {
   "cell_type": "code",
   "execution_count": 19,
   "metadata": {},
   "outputs": [],
   "source": [
    "B, N, _ = masked_pos_embeddings.shape\n",
    "mask_tokens = model.mask_token.expand(B, N, -1)"
   ]
  },
  {
   "cell_type": "code",
   "execution_count": 20,
   "metadata": {},
   "outputs": [],
   "source": [
    "mask_tokens = model.mask_token.expand(B, N, -1)"
   ]
  },
  {
   "cell_type": "code",
   "execution_count": 21,
   "metadata": {},
   "outputs": [],
   "source": [
    "x_full = torch.cat((x_vis, mask_tokens), dim=1)"
   ]
  },
  {
   "cell_type": "code",
   "execution_count": 22,
   "metadata": {},
   "outputs": [
    {
     "data": {
      "text/plain": [
       "torch.Size([64, 64, 384])"
      ]
     },
     "execution_count": 22,
     "metadata": {},
     "output_type": "execute_result"
    }
   ],
   "source": [
    "x_full.shape"
   ]
  },
  {
   "cell_type": "code",
   "execution_count": 23,
   "metadata": {},
   "outputs": [],
   "source": [
    "full_pos_embeddings = torch.cat((vis_pos_embeddings, masked_pos_embeddings), dim=1)"
   ]
  },
  {
   "cell_type": "code",
   "execution_count": 24,
   "metadata": {},
   "outputs": [
    {
     "data": {
      "text/plain": [
       "torch.Size([64, 64, 384])"
      ]
     },
     "execution_count": 24,
     "metadata": {},
     "output_type": "execute_result"
    }
   ],
   "source": [
    "full_pos_embeddings.shape"
   ]
  },
  {
   "cell_type": "code",
   "execution_count": 25,
   "metadata": {},
   "outputs": [],
   "source": [
    "x_hat = model.forward_decoder(x_full, full_pos_embeddings, N)"
   ]
  },
  {
   "cell_type": "code",
   "execution_count": 26,
   "metadata": {},
   "outputs": [
    {
     "data": {
      "text/plain": [
       "torch.Size([64, 38, 32, 3])"
      ]
     },
     "execution_count": 26,
     "metadata": {},
     "output_type": "execute_result"
    }
   ],
   "source": [
    "x_hat.shape"
   ]
  },
  {
   "cell_type": "code",
   "execution_count": 27,
   "metadata": {},
   "outputs": [],
   "source": [
    "x_gt = get_masked(patches, mask)"
   ]
  },
  {
   "cell_type": "code",
   "execution_count": 28,
   "metadata": {},
   "outputs": [
    {
     "data": {
      "text/plain": [
       "torch.Size([64, 38, 32, 3])"
      ]
     },
     "execution_count": 28,
     "metadata": {},
     "output_type": "execute_result"
    }
   ],
   "source": [
    "x_gt.shape"
   ]
  },
  {
   "cell_type": "code",
   "execution_count": 29,
   "metadata": {},
   "outputs": [],
   "source": [
    "loss = model.get_loss(x_hat, x_gt)"
   ]
  },
  {
   "cell_type": "code",
   "execution_count": 30,
   "metadata": {},
   "outputs": [
    {
     "data": {
      "text/plain": [
       "tensor(0.9000, grad_fn=<DivBackward0>)"
      ]
     },
     "execution_count": 30,
     "metadata": {},
     "output_type": "execute_result"
    }
   ],
   "source": [
    "loss"
   ]
  },
  {
   "cell_type": "code",
   "execution_count": 31,
   "metadata": {},
   "outputs": [
    {
     "data": {
      "text/plain": [
       "tensor([[[-0.3625,  0.0773, -0.1450],\n",
       "         [ 1.0000, -0.0927, -0.5904],\n",
       "         [-0.3058, -0.9361,  0.6022],\n",
       "         ...,\n",
       "         [-0.3539,  0.4404,  0.3819],\n",
       "         [-0.3656,  0.1331, -0.4204],\n",
       "         [-0.3314, -0.4038,  0.5712]],\n",
       "\n",
       "        [[-0.4793,  0.0144, -0.0658],\n",
       "         [ 0.6459,  0.9349,  0.7014],\n",
       "         [ 0.6856, -0.3177,  0.2242],\n",
       "         ...,\n",
       "         [-0.1582, -0.1870, -0.7075],\n",
       "         [-0.6625,  0.0046,  0.0989],\n",
       "         [-0.2793,  0.1321,  0.0163]],\n",
       "\n",
       "        [[ 0.4267,  0.1711,  0.2302],\n",
       "         [-0.7963, -0.2773, -0.6985],\n",
       "         [-0.6421,  0.2076,  0.2361],\n",
       "         ...,\n",
       "         [ 0.9376, -0.0160,  0.2396],\n",
       "         [ 0.4856,  0.0040,  0.0501],\n",
       "         [-0.7986,  0.1264,  0.1726]],\n",
       "\n",
       "        ...,\n",
       "\n",
       "        [[-0.1382, -0.0651, -0.9994],\n",
       "         [ 0.1280, -0.0718,  0.4804],\n",
       "         [-0.2912,  0.1093, -0.1408],\n",
       "         ...,\n",
       "         [ 0.0252, -0.2640, -0.0331],\n",
       "         [ 0.1164,  0.0971, -0.0104],\n",
       "         [-0.1553,  0.0181,  0.1579]],\n",
       "\n",
       "        [[ 0.2693,  0.3984, -0.0885],\n",
       "         [-0.6908, -0.8643,  0.4105],\n",
       "         [ 0.6871, -0.7319,  0.5314],\n",
       "         ...,\n",
       "         [-0.7797, -0.4792,  0.3056],\n",
       "         [ 0.0339,  0.3351, -0.0936],\n",
       "         [ 0.1619, -0.6308,  0.5487]],\n",
       "\n",
       "        [[-0.0375, -0.5502,  0.2958],\n",
       "         [ 0.9919,  0.4880, -0.1953],\n",
       "         [-0.3647,  0.5130, -0.6328],\n",
       "         ...,\n",
       "         [ 0.8471, -0.2340,  0.5039],\n",
       "         [-0.1801, -0.1524, -0.6460],\n",
       "         [ 0.9831,  0.4674,  0.4157]]])"
      ]
     },
     "execution_count": 31,
     "metadata": {},
     "output_type": "execute_result"
    }
   ],
   "source": [
    "centers"
   ]
  },
  {
   "cell_type": "code",
   "execution_count": 32,
   "metadata": {},
   "outputs": [],
   "source": [
    "mask = model.mask_generator(centers)\n",
    "vis_centers = get_unmasked(centers, mask)\n",
    "vis_patches = get_unmasked(patches, mask)"
   ]
  },
  {
   "cell_type": "code",
   "execution_count": 33,
   "metadata": {},
   "outputs": [],
   "source": [
    "vis_patch_embeddings = model.patch_encoder(vis_patches)"
   ]
  },
  {
   "cell_type": "code",
   "execution_count": 34,
   "metadata": {},
   "outputs": [],
   "source": [
    "x = vis_patches\n",
    "#bs, g, n, _ = vis_patches.shape\n",
    "#x = x.reshape(bs*g, n, 3)\n",
    "#y = model.patch_encoder.conv1(x.transpose(2,1))\n",
    "#print(y.shape)"
   ]
  },
  {
   "cell_type": "code",
   "execution_count": 35,
   "metadata": {},
   "outputs": [
    {
     "data": {
      "text/plain": [
       "tensor([[[[ 0.0000e+00,  0.0000e+00,  0.0000e+00],\n",
       "          [-3.6157e-01,  8.5350e-02,  4.2603e-01],\n",
       "          [-5.9667e-01, -1.3113e-01,  1.5050e-01],\n",
       "          ...,\n",
       "          [-6.0055e-01, -1.0940e-01,  3.9572e-01],\n",
       "          [-6.5796e-01,  3.1734e-01,  3.5707e-02],\n",
       "          [-6.3546e-01, -2.7777e-01,  2.4673e-01]],\n",
       "\n",
       "         [[ 0.0000e+00,  0.0000e+00,  0.0000e+00],\n",
       "          [ 1.5524e-03,  4.6558e-03,  6.1280e-02],\n",
       "          [-3.7242e-02, -3.6467e-02,  3.6465e-02],\n",
       "          ...,\n",
       "          [-1.0785e-01, -1.0164e-01,  9.2347e-02],\n",
       "          [-6.8279e-02, -1.7069e-02,  1.6139e-01],\n",
       "          [-2.3279e-03, -1.5673e-01,  8.1454e-02]],\n",
       "\n",
       "         [[ 0.0000e+00,  0.0000e+00,  0.0000e+00],\n",
       "          [-5.8192e-02,  1.1949e-01,  2.1576e-01],\n",
       "          [-1.2026e-01,  1.4975e-01,  2.0098e-01],\n",
       "          ...,\n",
       "          [-1.2026e-01,  1.3889e-01,  3.3444e-01],\n",
       "          [-5.9744e-02,  1.7458e-01,  3.3756e-01],\n",
       "          [ 2.8708e-01,  2.3355e-01, -1.0703e-01]],\n",
       "\n",
       "         ...,\n",
       "\n",
       "         [[ 0.0000e+00,  0.0000e+00,  0.0000e+00],\n",
       "          [ 4.5001e-02, -4.8882e-02, -3.1824e-02],\n",
       "          [ 7.7577e-03,  4.1899e-02, -6.4406e-02],\n",
       "          ...,\n",
       "          [ 7.5262e-02,  1.3423e-01, -1.1404e-01],\n",
       "          [ 6.4398e-02, -1.7458e-01, -4.8873e-02],\n",
       "          [ 3.7242e-02, -1.7535e-01,  7.5298e-02]],\n",
       "\n",
       "         [[ 0.0000e+00,  0.0000e+00,  0.0000e+00],\n",
       "          [-7.7547e-04, -4.4226e-02,  3.1824e-02],\n",
       "          [ 3.8803e-03,  2.0174e-02,  6.1375e-02],\n",
       "          ...,\n",
       "          [ 1.0164e-01, -9.0004e-02,  8.6948e-02],\n",
       "          [-1.0940e-01, -1.1716e-01,  4.5842e-02],\n",
       "          [ 1.2880e-01, -5.1209e-02,  9.3104e-02]],\n",
       "\n",
       "         [[ 0.0000e+00,  0.0000e+00,  0.0000e+00],\n",
       "          [ 2.8709e-02,  2.5605e-02, -3.6465e-02],\n",
       "          [-3.1812e-02, -4.7329e-02,  6.9141e-03],\n",
       "          ...,\n",
       "          [-3.4916e-02, -5.5864e-02, -1.7929e-01],\n",
       "          [ 7.0607e-02, -1.5595e-01, -9.2347e-02],\n",
       "          [ 1.7846e-02,  1.3423e-01, -1.3970e-01]]],\n",
       "\n",
       "\n",
       "        [[[ 0.0000e+00,  0.0000e+00,  0.0000e+00],\n",
       "          [-2.9278e-01, -1.8536e-01, -1.7510e-02],\n",
       "          [-3.7493e-01, -2.0493e-01, -9.1422e-03],\n",
       "          ...,\n",
       "          [-5.1265e-01, -3.9386e-01, -7.1532e-01],\n",
       "          [-5.0568e-01, -3.2760e-01, -7.5285e-01],\n",
       "          [-5.8015e-01, -7.7479e-01, -1.1359e-01]],\n",
       "\n",
       "         [[ 0.0000e+00,  0.0000e+00,  0.0000e+00],\n",
       "          [ 4.5399e-02, -6.3772e-04,  5.0739e-02],\n",
       "          [ 1.1225e-02,  4.0240e-02,  7.7776e-02],\n",
       "          ...,\n",
       "          [-3.0862e-01,  9.4330e-02,  5.2618e-02],\n",
       "          [-2.6739e-01, -5.2428e-02,  1.8081e-01],\n",
       "          [-2.2017e-01,  1.5264e-01,  1.8944e-01]],\n",
       "\n",
       "         [[ 0.0000e+00,  0.0000e+00,  0.0000e+00],\n",
       "          [-5.6222e-02,  8.1424e-03,  4.2289e-02],\n",
       "          [-1.8621e-02, -7.0623e-02, -1.7616e-02],\n",
       "          ...,\n",
       "          [-3.1946e-01, -2.3500e-01, -7.2207e-02],\n",
       "          [-4.0326e-01,  6.5458e-04,  1.1653e-03],\n",
       "          [-2.7378e-01, -2.8916e-01,  6.3742e-02]],\n",
       "\n",
       "         ...,\n",
       "\n",
       "         [[ 0.0000e+00,  0.0000e+00,  0.0000e+00],\n",
       "          [ 4.7202e-02, -3.3310e-02, -1.9024e-02],\n",
       "          [ 2.2016e-03,  2.7680e-02, -6.2166e-02],\n",
       "          ...,\n",
       "          [ 1.6961e-01,  1.2113e-01,  1.8505e-02],\n",
       "          [ 1.8304e-01,  1.1111e-02, -1.0927e-01],\n",
       "          [ 3.1640e-02, -2.0876e-01, -5.7121e-02]],\n",
       "\n",
       "         [[ 0.0000e+00,  0.0000e+00,  0.0000e+00],\n",
       "          [ 6.6595e-02,  4.7152e-03, -1.7892e-03],\n",
       "          [ 4.7679e-02,  6.0964e-02,  3.3116e-03],\n",
       "          ...,\n",
       "          [ 2.6880e-01, -8.1264e-02,  8.2365e-02],\n",
       "          [ 1.9452e-01, -7.0518e-02,  2.0919e-01],\n",
       "          [ 2.3532e-01, -1.4110e-01,  1.0781e-01]],\n",
       "\n",
       "         [[ 0.0000e+00,  0.0000e+00,  0.0000e+00],\n",
       "          [ 3.3051e-05, -5.6117e-02, -2.4292e-02],\n",
       "          [ 7.0317e-02, -3.9181e-03, -1.6109e-02],\n",
       "          ...,\n",
       "          [ 1.7229e-01,  3.3276e-02,  2.2563e-02],\n",
       "          [-1.7127e-01, -4.4752e-02,  1.4943e-02],\n",
       "          [-7.5302e-02,  1.5707e-01,  3.6502e-02]]],\n",
       "\n",
       "\n",
       "        [[[ 0.0000e+00,  0.0000e+00,  0.0000e+00],\n",
       "          [ 1.4125e-02, -2.3541e-03,  9.4168e-03],\n",
       "          [-3.5310e-03,  2.3542e-02, -3.5316e-03],\n",
       "          ...,\n",
       "          [ 3.6490e-02, -2.5896e-02,  1.4832e-01],\n",
       "          [ 7.2981e-02, -9.5345e-02,  1.0359e-01],\n",
       "          [ 3.2959e-02, -2.1188e-02,  1.5773e-01]],\n",
       "\n",
       "         [[ 0.0000e+00,  0.0000e+00,  0.0000e+00],\n",
       "          [-9.4168e-03,  0.0000e+00,  1.1776e-03],\n",
       "          [ 5.8857e-03, -1.4125e-02,  0.0000e+00],\n",
       "          ...,\n",
       "          [-1.6479e-02,  1.2948e-02, -4.1199e-02],\n",
       "          [ 3.7668e-02,  1.2948e-02, -2.3542e-02],\n",
       "          [ 4.4730e-02, -2.0011e-02, -3.5305e-03]],\n",
       "\n",
       "         [[ 0.0000e+00,  0.0000e+00,  0.0000e+00],\n",
       "          [ 1.5656e-01,  3.0605e-02,  7.0621e-03],\n",
       "          [ 1.6362e-01,  8.2397e-03,  1.2948e-02],\n",
       "          ...,\n",
       "          [ 3.2253e-01,  5.8855e-02, -2.5897e-02],\n",
       "          [ 3.1546e-01,  7.7689e-02, -6.3564e-02],\n",
       "          [ 3.2841e-01,  5.7678e-02, -1.6479e-02]],\n",
       "\n",
       "         ...,\n",
       "\n",
       "         [[ 0.0000e+00,  0.0000e+00,  0.0000e+00],\n",
       "          [ 2.3540e-03, -2.2365e-02,  5.8857e-03],\n",
       "          [ 2.1188e-02, -2.0011e-02,  1.1776e-03],\n",
       "          ...,\n",
       "          [-4.2376e-02, -1.8834e-02, -6.4741e-02],\n",
       "          [ 2.5896e-02,  3.7667e-02, -6.9449e-02],\n",
       "          [ 3.7667e-02, -3.1782e-02, -6.7095e-02]],\n",
       "\n",
       "         [[ 0.0000e+00,  0.0000e+00,  0.0000e+00],\n",
       "          [-4.7086e-03, -2.3543e-03,  1.5303e-02],\n",
       "          [ 4.7086e-03, -1.5302e-02,  1.4125e-02],\n",
       "          ...,\n",
       "          [ 4.2376e-02, -2.5896e-02,  1.6479e-02],\n",
       "          [-3.8845e-02,  3.1782e-02,  2.0011e-02],\n",
       "          [-3.1782e-02,  3.5313e-02,  2.5897e-02]],\n",
       "\n",
       "         [[ 0.0000e+00,  0.0000e+00,  0.0000e+00],\n",
       "          [ 1.1770e-03, -9.4170e-03,  9.4173e-03],\n",
       "          [ 1.1770e-03,  1.0594e-02,  8.2397e-03],\n",
       "          ...,\n",
       "          [ 2.7074e-02, -3.5313e-03,  5.1792e-02],\n",
       "          [ 1.6479e-02, -9.4170e-03,  5.6502e-02],\n",
       "          [ 4.5907e-02, -1.1771e-02,  3.8845e-02]]],\n",
       "\n",
       "\n",
       "        ...,\n",
       "\n",
       "\n",
       "        [[[ 0.0000e+00,  0.0000e+00,  0.0000e+00],\n",
       "          [ 4.4063e-02,  2.5091e-02,  9.1794e-03],\n",
       "          [ 2.8764e-02, -4.5287e-02,  4.2862e-03],\n",
       "          ...,\n",
       "          [-1.4688e-02, -1.9216e-01,  3.0629e-03],\n",
       "          [-2.4479e-02, -1.7992e-01,  7.1605e-02],\n",
       "          [ 1.8665e-01,  6.2422e-02,  2.8761e-02]],\n",
       "\n",
       "         [[ 0.0000e+00,  0.0000e+00,  0.0000e+00],\n",
       "          [ 2.0196e-02, -7.9561e-03, -2.4466e-03],\n",
       "          [ 2.0196e-02, -1.6524e-02, -1.6519e-02],\n",
       "          ...,\n",
       "          [ 6.7318e-02,  7.8946e-02,  1.0710e-01],\n",
       "          [ 4.2227e-02,  9.4246e-02,  1.0893e-01],\n",
       "          [ 6.6707e-02,  1.0404e-02,  1.3525e-01]],\n",
       "\n",
       "         [[ 0.0000e+00,  0.0000e+00,  0.0000e+00],\n",
       "          [ 1.1017e-02,  1.1444e-01,  1.8396e-03],\n",
       "          [ 6.2423e-02,  1.0404e-01,  6.7328e-03],\n",
       "          ...,\n",
       "          [ 1.7748e-02,  2.4724e-01,  2.9985e-02],\n",
       "          [ 3.0600e-02,  2.4724e-01,  3.6111e-02],\n",
       "          [-1.6768e-01, -1.7625e-01,  6.4872e-02]],\n",
       "\n",
       "         ...,\n",
       "\n",
       "         [[ 0.0000e+00,  0.0000e+00,  0.0000e+00],\n",
       "          [ 1.1015e-02, -1.8361e-03,  7.9561e-03],\n",
       "          [-3.6722e-03, -2.5703e-02,  7.3491e-03],\n",
       "          ...,\n",
       "          [-4.3451e-02,  2.5091e-02,  7.0381e-02],\n",
       "          [ 2.6315e-02,  6.9154e-02,  4.5906e-02],\n",
       "          [-6.1200e-03, -4.7735e-02,  7.2828e-02]],\n",
       "\n",
       "         [[ 0.0000e+00,  0.0000e+00,  0.0000e+00],\n",
       "          [-1.8349e-03,  1.6524e-02, -1.5912e-02],\n",
       "          [-2.5703e-02,  3.0600e-03, -1.4073e-02],\n",
       "          ...,\n",
       "          [ 5.1407e-02, -1.8359e-02, -1.2423e-01],\n",
       "          [-4.6510e-02, -9.7916e-03, -1.2851e-01],\n",
       "          [-3.4883e-02, -2.5091e-02, -1.3096e-01]],\n",
       "\n",
       "         [[ 0.0000e+00,  0.0000e+00,  0.0000e+00],\n",
       "          [ 4.8967e-03,  1.4688e-02, -5.5001e-03],\n",
       "          [ 3.1211e-02, -1.2852e-02, -1.9582e-02],\n",
       "          ...,\n",
       "          [ 6.5482e-02,  5.5691e-02, -2.7538e-02],\n",
       "          [-3.7943e-02,  7.7110e-02, -3.1208e-02],\n",
       "          [ 5.2019e-02,  3.7943e-02, -6.9765e-02]]],\n",
       "\n",
       "\n",
       "        [[[ 0.0000e+00,  0.0000e+00,  0.0000e+00],\n",
       "          [-3.5183e-02,  3.1344e-02,  4.2859e-02],\n",
       "          [ 2.1749e-02,  3.0705e-02,  5.5656e-02],\n",
       "          ...,\n",
       "          [-1.4777e-01,  3.2176e-01,  6.3972e-02],\n",
       "          [ 7.0365e-02,  3.6398e-01,  3.7745e-02],\n",
       "          [ 1.0363e-01,  3.6334e-01,  8.5075e-02]],\n",
       "\n",
       "         [[ 0.0000e+00,  0.0000e+00,  0.0000e+00],\n",
       "          [ 4.9897e-02, -3.9020e-02, -6.3443e-04],\n",
       "          [ 1.0237e-02, -3.2624e-02, -9.1468e-02],\n",
       "          ...,\n",
       "          [ 2.5779e-01, -3.4799e-01, -1.8422e-01],\n",
       "          [ 3.0321e-01, -2.6163e-01, -2.8082e-01],\n",
       "          [ 2.1366e-01, -3.7102e-01, -2.4179e-01]],\n",
       "\n",
       "         [[ 0.0000e+00,  0.0000e+00,  0.0000e+00],\n",
       "          [ 3.2625e-02,  1.9192e-03,  4.7974e-02],\n",
       "          [-3.8360e-03, -4.2219e-02,  4.9253e-02],\n",
       "          ...,\n",
       "          [-2.8145e-02, -1.4777e-01,  2.3029e-01],\n",
       "          [-4.3496e-02,  2.3540e-01,  1.5160e-01],\n",
       "          [-1.8550e-02, -2.0662e-01,  1.9382e-01]],\n",
       "\n",
       "         ...,\n",
       "\n",
       "         [[ 0.0000e+00,  0.0000e+00,  0.0000e+00],\n",
       "          [-6.3982e-03,  5.8211e-02,  6.4421e-04],\n",
       "          [ 6.6527e-02,  3.9660e-02, -2.9429e-02],\n",
       "          ...,\n",
       "          [ 1.2026e-01,  1.5672e-01,  1.5481e-01],\n",
       "          [-1.2922e-01,  1.5736e-01,  1.5481e-01],\n",
       "          [ 2.5139e-01,  5.4373e-02,  8.9506e-03]],\n",
       "\n",
       "         [[ 0.0000e+00,  0.0000e+00,  0.0000e+00],\n",
       "          [-2.5598e-03,  1.4713e-02, -6.3338e-02],\n",
       "          [ 1.4712e-02, -3.9020e-02, -5.5656e-02],\n",
       "          ...,\n",
       "          [-6.6527e-02,  4.7336e-02, -1.4905e-01],\n",
       "          [ 0.0000e+00,  6.9725e-02, -1.5608e-01],\n",
       "          [-5.2454e-02, -1.6184e-01,  2.0468e-02]],\n",
       "\n",
       "         [[ 0.0000e+00,  0.0000e+00,  0.0000e+00],\n",
       "          [ 3.3902e-02, -8.3156e-03,  5.1176e-02],\n",
       "          [-4.7337e-02, -1.6632e-02,  9.4035e-02],\n",
       "          ...,\n",
       "          [-9.9150e-02,  1.5224e-01,  1.1067e-01],\n",
       "          [-6.7166e-02, -8.1879e-02,  1.8935e-01],\n",
       "          [-1.9702e-01,  9.0196e-02, -2.3660e-02]]],\n",
       "\n",
       "\n",
       "        [[[ 0.0000e+00,  0.0000e+00,  0.0000e+00],\n",
       "          [-6.8379e-02, -2.0587e-02, -1.0294e-02],\n",
       "          [ 6.2499e-02, -2.2060e-02,  2.8677e-02],\n",
       "          ...,\n",
       "          [ 5.4409e-02,  4.0440e-02,  1.7352e-01],\n",
       "          [-1.7499e-01,  4.8526e-02,  4.5587e-02],\n",
       "          [-1.8970e-01, -1.9118e-02, -1.4697e-03]],\n",
       "\n",
       "         [[ 0.0000e+00,  0.0000e+00,  0.0000e+00],\n",
       "          [ 3.8970e-02, -4.4852e-02,  1.4704e-02],\n",
       "          [ 3.2351e-02, -4.9264e-02,  7.6468e-02],\n",
       "          ...,\n",
       "          [-4.4120e-03, -2.7793e-01,  1.8381e-02],\n",
       "          [ 9.8525e-02, -2.6396e-01,  4.4106e-03],\n",
       "          [ 2.3529e-01, -1.4852e-01,  4.9263e-02]],\n",
       "\n",
       "         [[ 0.0000e+00,  0.0000e+00,  0.0000e+00],\n",
       "          [-1.9116e-02, -3.5293e-02,  3.9704e-02],\n",
       "          [ 4.6322e-02,  2.6470e-01,  4.6322e-02],\n",
       "          ...,\n",
       "          [-3.0881e-02,  5.0513e-01,  8.6835e-01],\n",
       "          [-9.2276e-01,  3.7793e-01, -1.3602e-01],\n",
       "          [-7.3968e-01,  6.8306e-01,  1.0588e-01]],\n",
       "\n",
       "         ...,\n",
       "\n",
       "         [[ 0.0000e+00,  0.0000e+00,  0.0000e+00],\n",
       "          [-8.0863e-03,  7.5733e-02,  1.6910e-02],\n",
       "          [ 6.1027e-02,  3.7498e-02, -4.0440e-02],\n",
       "          ...,\n",
       "          [-8.7497e-02, -7.0586e-02, -1.5808e-01],\n",
       "          [-1.5735e-01,  1.2059e-01,  1.4697e-03],\n",
       "          [-8.4554e-02,  1.3455e-01, -1.1911e-01]],\n",
       "\n",
       "         [[ 0.0000e+00,  0.0000e+00,  0.0000e+00],\n",
       "          [-1.9118e-02, -6.6174e-02,  5.8817e-03],\n",
       "          [ 1.5441e-02,  6.7644e-02, -2.4265e-02],\n",
       "          ...,\n",
       "          [ 5.6615e-02,  1.1250e-01, -1.6397e-01],\n",
       "          [ 1.8676e-01, -9.4848e-02,  2.1322e-02],\n",
       "          [ 8.5292e-02,  6.1762e-02, -1.8602e-01]],\n",
       "\n",
       "         [[ 0.0000e+00,  0.0000e+00,  0.0000e+00],\n",
       "          [-2.2792e-02,  3.3821e-02, -7.2056e-02],\n",
       "          [-3.6028e-02,  7.2056e-02, -2.3528e-02],\n",
       "          ...,\n",
       "          [-9.5588e-03,  2.5146e-01, -6.5438e-02],\n",
       "          [ 1.4264e-01,  1.4558e-01, -1.7205e-01],\n",
       "          [ 1.1029e-01,  2.2720e-01, -8.6762e-02]]]])"
      ]
     },
     "execution_count": 35,
     "metadata": {},
     "output_type": "execute_result"
    }
   ],
   "source": [
    "x"
   ]
  },
  {
   "cell_type": "code",
   "execution_count": 36,
   "metadata": {},
   "outputs": [
    {
     "data": {
      "text/plain": [
       "Sequential(\n",
       "  (0): Conv1d(3, 128, kernel_size=(1,), stride=(1,))\n",
       "  (1): BatchNorm1d(128, eps=1e-05, momentum=0.1, affine=True, track_running_stats=True)\n",
       "  (2): ReLU()\n",
       "  (3): Conv1d(128, 256, kernel_size=(1,), stride=(1,))\n",
       ")"
      ]
     },
     "execution_count": 36,
     "metadata": {},
     "output_type": "execute_result"
    }
   ],
   "source": [
    "model.patch_encoder.conv1"
   ]
  },
  {
   "cell_type": "code",
   "execution_count": 37,
   "metadata": {},
   "outputs": [
    {
     "data": {
      "text/plain": [
       "tensor([[[[ 0.0000e+00,  0.0000e+00,  0.0000e+00],\n",
       "          [ 7.7695e-04, -4.7331e-02, -9.2820e-03],\n",
       "          [ 3.1812e-02,  7.7590e-02, -1.5154e-03],\n",
       "          ...,\n",
       "          [ 1.0863e-02,  1.0242e-01,  2.0250e-01],\n",
       "          [ 9.6988e-02,  2.8709e-02,  2.0411e-01],\n",
       "          [ 2.4053e-02,  2.3278e-02, -2.2580e-01]],\n",
       "\n",
       "         [[ 0.0000e+00,  0.0000e+00,  0.0000e+00],\n",
       "          [-3.6157e-01,  8.5350e-02,  4.2603e-01],\n",
       "          [-5.9667e-01, -1.3113e-01,  1.5050e-01],\n",
       "          ...,\n",
       "          [-6.0055e-01, -1.0940e-01,  3.9572e-01],\n",
       "          [-6.5796e-01,  3.1734e-01,  3.5707e-02],\n",
       "          [-6.3546e-01, -2.7777e-01,  2.4673e-01]],\n",
       "\n",
       "         [[ 0.0000e+00,  0.0000e+00,  0.0000e+00],\n",
       "          [-1.2414e-02,  6.1297e-02,  7.5769e-04],\n",
       "          [ 7.2935e-02,  2.6381e-02,  1.6102e-03],\n",
       "          ...,\n",
       "          [ 4.8106e-02,  1.9553e-01, -1.8233e-01],\n",
       "          [ 8.3022e-02,  2.2501e-01, -1.3421e-01],\n",
       "          [ 2.2113e-01,  1.0707e-01, -1.2493e-01]],\n",
       "\n",
       "         ...,\n",
       "\n",
       "         [[ 0.0000e+00,  0.0000e+00,  0.0000e+00],\n",
       "          [-1.3190e-02, -4.8882e-02, -4.9725e-02],\n",
       "          [ 7.0607e-02, -7.7695e-04, -1.7901e-02],\n",
       "          ...,\n",
       "          [ 8.4573e-02,  3.8789e-03, -1.8782e-01],\n",
       "          [ 1.0940e-01, -6.9056e-02, -1.6139e-01],\n",
       "          [ 1.0087e-01, -1.8078e-01,  2.2731e-03]],\n",
       "\n",
       "         [[ 0.0000e+00,  0.0000e+00,  0.0000e+00],\n",
       "          [ 3.1034e-03,  4.1122e-02,  4.3474e-02],\n",
       "          [ 2.7156e-02, -3.2588e-02,  4.9630e-02],\n",
       "          ...,\n",
       "          [ 2.8709e-02,  1.7225e-01,  1.2029e-01],\n",
       "          [ 1.2647e-01,  1.6915e-01,  2.2542e-02],\n",
       "          [ 1.6061e-01,  6.5951e-02,  1.2957e-01]],\n",
       "\n",
       "         [[ 0.0000e+00,  0.0000e+00,  0.0000e+00],\n",
       "          [ 2.8709e-02,  2.5605e-02, -3.6465e-02],\n",
       "          [-3.1812e-02, -4.7329e-02,  6.9141e-03],\n",
       "          ...,\n",
       "          [-3.4916e-02, -5.5864e-02, -1.7929e-01],\n",
       "          [ 7.0607e-02, -1.5595e-01, -9.2347e-02],\n",
       "          [ 1.7846e-02,  1.3423e-01, -1.3970e-01]]],\n",
       "\n",
       "\n",
       "        [[[ 0.0000e+00,  0.0000e+00,  0.0000e+00],\n",
       "          [ 2.6052e-02,  2.8776e-02,  5.8817e-02],\n",
       "          [ 6.9580e-02,  1.2389e-02,  2.1547e-02],\n",
       "          ...,\n",
       "          [-1.1891e-01,  2.0329e-01,  5.2768e-02],\n",
       "          [ 8.9360e-02,  2.2375e-01, -2.4910e-02],\n",
       "          [ 8.8015e-02,  9.0715e-02,  2.0721e-01]],\n",
       "\n",
       "         [[ 0.0000e+00,  0.0000e+00,  0.0000e+00],\n",
       "          [-2.9278e-01, -1.8536e-01, -1.7510e-02],\n",
       "          [-3.7493e-01, -2.0493e-01, -9.1422e-03],\n",
       "          ...,\n",
       "          [-5.1265e-01, -3.9386e-01, -7.1532e-01],\n",
       "          [-5.0568e-01, -3.2760e-01, -7.5285e-01],\n",
       "          [-5.8015e-01, -7.7479e-01, -1.1359e-01]],\n",
       "\n",
       "         [[ 0.0000e+00,  0.0000e+00,  0.0000e+00],\n",
       "          [-5.7514e-02,  9.0361e-05,  1.5151e-02],\n",
       "          [-5.9303e-02,  5.1802e-02, -2.8383e-02],\n",
       "          ...,\n",
       "          [-3.5189e-01,  3.0460e-01,  1.5812e-02],\n",
       "          [-2.1481e-01,  2.9969e-01, -2.9097e-01],\n",
       "          [-3.8188e-01,  2.0857e-01,  1.9548e-01]],\n",
       "\n",
       "         ...,\n",
       "\n",
       "         [[ 0.0000e+00,  0.0000e+00,  0.0000e+00],\n",
       "          [ 6.6595e-02,  4.7152e-03, -1.7892e-03],\n",
       "          [ 4.7679e-02,  6.0964e-02,  3.3116e-03],\n",
       "          ...,\n",
       "          [ 2.6880e-01, -8.1264e-02,  8.2365e-02],\n",
       "          [ 1.9452e-01, -7.0518e-02,  2.0919e-01],\n",
       "          [ 2.3532e-01, -1.4110e-01,  1.0781e-01]],\n",
       "\n",
       "         [[ 0.0000e+00,  0.0000e+00,  0.0000e+00],\n",
       "          [ 8.3587e-02, -5.0925e-02, -1.5131e-02],\n",
       "          [ 1.2106e-01, -2.1974e-03, -6.3920e-03],\n",
       "          ...,\n",
       "          [-2.4476e-02,  6.4753e-03,  3.3880e-01],\n",
       "          [ 1.8251e-01, -4.7179e-03,  2.9148e-01],\n",
       "          [ 2.4494e-01,  2.4043e-01,  2.5233e-02]],\n",
       "\n",
       "         [[ 0.0000e+00,  0.0000e+00,  0.0000e+00],\n",
       "          [ 3.3051e-05, -5.6117e-02, -2.4292e-02],\n",
       "          [ 7.0317e-02, -3.9181e-03, -1.6109e-02],\n",
       "          ...,\n",
       "          [ 1.7229e-01,  3.3276e-02,  2.2563e-02],\n",
       "          [-1.7127e-01, -4.4752e-02,  1.4943e-02],\n",
       "          [-7.5302e-02,  1.5707e-01,  3.6502e-02]]],\n",
       "\n",
       "\n",
       "        [[[ 0.0000e+00,  0.0000e+00,  0.0000e+00],\n",
       "          [ 0.0000e+00, -9.4167e-03,  0.0000e+00],\n",
       "          [-2.3540e-03, -1.1770e-03,  1.0595e-02],\n",
       "          ...,\n",
       "          [-4.0022e-02,  3.6490e-02, -5.8857e-03],\n",
       "          [-2.1188e-02,  4.9439e-02, -1.4125e-02],\n",
       "          [-1.5302e-02,  5.4147e-02, -1.1765e-03]],\n",
       "\n",
       "         [[ 0.0000e+00,  0.0000e+00,  0.0000e+00],\n",
       "          [ 1.4125e-02, -2.3541e-03,  9.4168e-03],\n",
       "          [-3.5310e-03,  2.3542e-02, -3.5316e-03],\n",
       "          ...,\n",
       "          [ 3.6490e-02, -2.5896e-02,  1.4832e-01],\n",
       "          [ 7.2981e-02, -9.5345e-02,  1.0359e-01],\n",
       "          [ 3.2959e-02, -2.1188e-02,  1.5773e-01]],\n",
       "\n",
       "         [[ 0.0000e+00,  0.0000e+00,  0.0000e+00],\n",
       "          [-9.4168e-03,  0.0000e+00,  1.1776e-03],\n",
       "          [ 5.8857e-03, -1.4125e-02,  0.0000e+00],\n",
       "          ...,\n",
       "          [-1.6479e-02,  1.2948e-02, -4.1199e-02],\n",
       "          [ 3.7668e-02,  1.2948e-02, -2.3542e-02],\n",
       "          [ 4.4730e-02, -2.0011e-02, -3.5305e-03]],\n",
       "\n",
       "         ...,\n",
       "\n",
       "         [[ 0.0000e+00,  0.0000e+00,  0.0000e+00],\n",
       "          [ 2.3540e-03, -2.2365e-02,  5.8857e-03],\n",
       "          [ 2.1188e-02, -2.0011e-02,  1.1776e-03],\n",
       "          ...,\n",
       "          [-4.2376e-02, -1.8834e-02, -6.4741e-02],\n",
       "          [ 2.5896e-02,  3.7667e-02, -6.9449e-02],\n",
       "          [ 3.7667e-02, -3.1782e-02, -6.7095e-02]],\n",
       "\n",
       "         [[ 0.0000e+00,  0.0000e+00,  0.0000e+00],\n",
       "          [-4.7086e-03, -2.3543e-03,  1.5303e-02],\n",
       "          [ 4.7086e-03, -1.5302e-02,  1.4125e-02],\n",
       "          ...,\n",
       "          [ 4.2376e-02, -2.5896e-02,  1.6479e-02],\n",
       "          [-3.8845e-02,  3.1782e-02,  2.0011e-02],\n",
       "          [-3.1782e-02,  3.5313e-02,  2.5897e-02]],\n",
       "\n",
       "         [[ 0.0000e+00,  0.0000e+00,  0.0000e+00],\n",
       "          [ 1.1770e-03, -9.4170e-03,  9.4173e-03],\n",
       "          [ 1.1770e-03,  1.0594e-02,  8.2397e-03],\n",
       "          ...,\n",
       "          [ 2.7074e-02, -3.5313e-03,  5.1792e-02],\n",
       "          [ 1.6479e-02, -9.4170e-03,  5.6502e-02],\n",
       "          [ 4.5907e-02, -1.1771e-02,  3.8845e-02]]],\n",
       "\n",
       "\n",
       "        ...,\n",
       "\n",
       "\n",
       "        [[[ 0.0000e+00,  0.0000e+00,  0.0000e+00],\n",
       "          [ 4.4063e-02,  2.5091e-02,  9.1794e-03],\n",
       "          [ 2.8764e-02, -4.5287e-02,  4.2862e-03],\n",
       "          ...,\n",
       "          [-1.4688e-02, -1.9216e-01,  3.0629e-03],\n",
       "          [-2.4479e-02, -1.7992e-01,  7.1605e-02],\n",
       "          [ 1.8665e-01,  6.2422e-02,  2.8761e-02]],\n",
       "\n",
       "         [[ 0.0000e+00,  0.0000e+00,  0.0000e+00],\n",
       "          [-4.2839e-03,  5.5083e-03, -1.5296e-02],\n",
       "          [ 1.6523e-02,  2.0808e-02, -3.8557e-02],\n",
       "          ...,\n",
       "          [-1.0710e-01,  6.9154e-02, -2.0746e-01],\n",
       "          [-1.0343e-01,  1.1260e-01, -1.9033e-01],\n",
       "          [-1.9522e-01,  1.2178e-01, -8.6901e-02]],\n",
       "\n",
       "         [[ 0.0000e+00,  0.0000e+00,  0.0000e+00],\n",
       "          [ 2.0196e-02, -7.9561e-03, -2.4466e-03],\n",
       "          [ 2.0196e-02, -1.6524e-02, -1.6519e-02],\n",
       "          ...,\n",
       "          [ 6.7318e-02,  7.8946e-02,  1.0710e-01],\n",
       "          [ 4.2227e-02,  9.4246e-02,  1.0893e-01],\n",
       "          [ 6.6707e-02,  1.0404e-02,  1.3525e-01]],\n",
       "\n",
       "         ...,\n",
       "\n",
       "         [[ 0.0000e+00,  0.0000e+00,  0.0000e+00],\n",
       "          [ 4.8967e-03,  1.4688e-02, -5.5001e-03],\n",
       "          [ 3.1211e-02, -1.2852e-02, -1.9582e-02],\n",
       "          ...,\n",
       "          [ 6.5482e-02,  5.5691e-02, -2.7538e-02],\n",
       "          [-3.7943e-02,  7.7110e-02, -3.1208e-02],\n",
       "          [ 5.2019e-02,  3.7943e-02, -6.9765e-02]],\n",
       "\n",
       "         [[ 0.0000e+00,  0.0000e+00,  0.0000e+00],\n",
       "          [-7.3433e-03,  9.1799e-03,  1.2233e-03],\n",
       "          [ 2.0808e-02, -1.7135e-02,  2.5092e-02],\n",
       "          ...,\n",
       "          [ 1.4688e-02, -2.6315e-02,  9.4250e-02],\n",
       "          [ 2.0196e-02, -5.6914e-02,  7.8944e-02],\n",
       "          [-6.4258e-02, -6.9154e-02,  3.1824e-02]],\n",
       "\n",
       "         [[ 0.0000e+00,  0.0000e+00,  0.0000e+00],\n",
       "          [-6.1200e-03,  1.8972e-02, -1.0403e-02],\n",
       "          [ 2.2032e-02,  1.5912e-02, -1.1635e-02],\n",
       "          ...,\n",
       "          [ 1.0404e-01,  6.7316e-03,  5.9362e-02],\n",
       "          [-4.9570e-02,  7.5886e-02, -8.0177e-02],\n",
       "          [ 7.0991e-02,  8.9349e-02,  4.4674e-02]]],\n",
       "\n",
       "\n",
       "        [[[ 0.0000e+00,  0.0000e+00,  0.0000e+00],\n",
       "          [-4.7337e-02, -2.3029e-02, -3.1352e-02],\n",
       "          [-7.1005e-02, -1.0235e-02,  2.1747e-02],\n",
       "          ...,\n",
       "          [ 2.6866e-02,  1.1003e-01, -9.9150e-02],\n",
       "          [-1.4841e-01, -9.5955e-03, -2.6871e-02],\n",
       "          [-1.3114e-01,  2.4308e-02, -8.1239e-02]],\n",
       "\n",
       "         [[ 0.0000e+00,  0.0000e+00,  0.0000e+00],\n",
       "          [-7.6768e-03,  5.2454e-02,  2.5583e-02],\n",
       "          [ 6.1410e-02,  3.2624e-02,  5.8848e-02],\n",
       "          ...,\n",
       "          [ 2.1493e-01,  1.7783e-01, -3.1352e-02],\n",
       "          [-1.0363e-01,  2.3668e-01,  1.1706e-01],\n",
       "          [ 3.5183e-02,  2.7698e-01,  6.3962e-02]],\n",
       "\n",
       "         [[ 0.0000e+00,  0.0000e+00,  0.0000e+00],\n",
       "          [-1.7272e-02,  5.3094e-02,  7.6720e-03],\n",
       "          [-1.0234e-02,  7.0369e-03, -5.5656e-02],\n",
       "          ...,\n",
       "          [-1.1706e-01,  1.1770e-01, -1.8807e-01],\n",
       "          [-5.5653e-02,  2.3348e-01, -7.2923e-02],\n",
       "          [-1.2858e-01,  1.0875e-02, -2.2197e-01]],\n",
       "\n",
       "         ...,\n",
       "\n",
       "         [[ 0.0000e+00,  0.0000e+00,  0.0000e+00],\n",
       "          [-5.8211e-02,  1.8550e-02,  6.2049e-02],\n",
       "          [ 1.5033e-01,  6.1409e-02,  2.5573e-03],\n",
       "          ...,\n",
       "          [ 2.5011e-01, -3.9020e-02,  1.1067e-01],\n",
       "          [ 2.7890e-01, -1.9191e-02, -2.3035e-02],\n",
       "          [ 2.6227e-01,  1.0235e-01,  1.1508e-02]],\n",
       "\n",
       "         [[ 0.0000e+00,  0.0000e+00,  0.0000e+00],\n",
       "          [-6.3982e-03, -2.6867e-02,  4.8618e-02],\n",
       "          [ 6.0771e-02,  0.0000e+00, -6.3445e-04],\n",
       "          ...,\n",
       "          [ 1.8807e-01,  4.0300e-02, -2.6227e-02],\n",
       "          [ 5.6932e-02,  1.8167e-01, -6.5885e-02],\n",
       "          [ 9.5311e-02,  1.4329e-01, -1.0747e-01]],\n",
       "\n",
       "         [[ 0.0000e+00,  0.0000e+00,  0.0000e+00],\n",
       "          [ 1.5351e-02, -5.7571e-02, -1.2787e-03],\n",
       "          [-3.5822e-02, -1.7911e-02, -4.5417e-02],\n",
       "          ...,\n",
       "          [-1.7144e-01,  3.0065e-02, -1.6759e-01],\n",
       "          [-9.0836e-02, -2.1429e-01, -8.1873e-02],\n",
       "          [ 2.5075e-01,  3.8384e-03, -2.4304e-02]]],\n",
       "\n",
       "\n",
       "        [[[ 0.0000e+00,  0.0000e+00,  0.0000e+00],\n",
       "          [-6.8379e-02, -2.0587e-02, -1.0294e-02],\n",
       "          [ 6.2499e-02, -2.2060e-02,  2.8677e-02],\n",
       "          ...,\n",
       "          [ 5.4409e-02,  4.0440e-02,  1.7352e-01],\n",
       "          [-1.7499e-01,  4.8526e-02,  4.5587e-02],\n",
       "          [-1.8970e-01, -1.9118e-02, -1.4697e-03]],\n",
       "\n",
       "         [[ 0.0000e+00,  0.0000e+00,  0.0000e+00],\n",
       "          [-1.6175e-02,  1.1763e-02,  8.8968e-02],\n",
       "          [-1.0294e-02,  3.3823e-02,  1.7573e-01],\n",
       "          ...,\n",
       "          [-5.7571e-01,  3.0146e-02,  9.4849e-02],\n",
       "          [-5.8601e-01,  1.5441e-02,  5.1469e-03],\n",
       "          [-5.5954e-01, -1.8382e-01,  2.9410e-02]],\n",
       "\n",
       "         [[ 0.0000e+00,  0.0000e+00,  0.0000e+00],\n",
       "          [ 3.8970e-02, -4.4852e-02,  1.4704e-02],\n",
       "          [ 3.2351e-02, -4.9264e-02,  7.6468e-02],\n",
       "          ...,\n",
       "          [-4.4120e-03, -2.7793e-01,  1.8381e-02],\n",
       "          [ 9.8525e-02, -2.6396e-01,  4.4106e-03],\n",
       "          [ 2.3529e-01, -1.4852e-01,  4.9263e-02]],\n",
       "\n",
       "         ...,\n",
       "\n",
       "         [[ 0.0000e+00,  0.0000e+00,  0.0000e+00],\n",
       "          [ 3.9704e-02, -1.4725e-03, -4.1911e-02],\n",
       "          [-1.9118e-02,  3.8967e-02, -4.1175e-02],\n",
       "          ...,\n",
       "          [-5.7352e-02, -1.4485e-01,  9.1174e-02],\n",
       "          [ 1.1102e-01,  1.1691e-01, -8.2350e-02],\n",
       "          [-1.1470e-01, -1.1323e-01, -8.7497e-02]],\n",
       "\n",
       "         [[ 0.0000e+00,  0.0000e+00,  0.0000e+00],\n",
       "          [ 8.8240e-03,  4.8526e-02,  4.9264e-02],\n",
       "          [-3.8967e-02, -3.0881e-02,  5.1470e-02],\n",
       "          ...,\n",
       "          [-1.9190e-01, -3.3089e-02,  1.6177e-02],\n",
       "          [ 1.4697e-03, -1.9779e-01,  1.4706e-02],\n",
       "          [-1.7279e-01, -9.9998e-02,  4.4120e-03]],\n",
       "\n",
       "         [[ 0.0000e+00,  0.0000e+00,  0.0000e+00],\n",
       "          [-1.7647e-02,  5.8823e-02,  3.6771e-03],\n",
       "          [-9.5589e-03,  5.7350e-02,  6.1027e-02],\n",
       "          ...,\n",
       "          [-9.6321e-02, -7.0292e-01,  4.6322e-02],\n",
       "          [-4.5513e-01, -3.7498e-02, -5.5366e-01],\n",
       "          [-2.1029e-01, -6.8306e-01,  7.8674e-02]]]])"
      ]
     },
     "execution_count": 37,
     "metadata": {},
     "output_type": "execute_result"
    }
   ],
   "source": [
    "patches"
   ]
  },
  {
   "cell_type": "code",
   "execution_count": 38,
   "metadata": {},
   "outputs": [
    {
     "data": {
      "text/plain": [
       "tensor(False)"
      ]
     },
     "execution_count": 38,
     "metadata": {},
     "output_type": "execute_result"
    }
   ],
   "source": [
    "torch.isnan(patches).any()"
   ]
  },
  {
   "cell_type": "code",
   "execution_count": 39,
   "metadata": {},
   "outputs": [
    {
     "data": {
      "text/plain": [
       "tensor(0.9997)"
      ]
     },
     "execution_count": 39,
     "metadata": {},
     "output_type": "execute_result"
    }
   ],
   "source": [
    "x.max() "
   ]
  },
  {
   "cell_type": "code",
   "execution_count": 40,
   "metadata": {},
   "outputs": [],
   "source": [
    "from pytorch3d.ops import knn_points, sample_farthest_points\n",
    "\n",
    "centers, center_idxs = sample_farthest_points(batch['points'], K=64)"
   ]
  },
  {
   "cell_type": "code",
   "execution_count": 41,
   "metadata": {},
   "outputs": [
    {
     "name": "stdout",
     "output_type": "stream",
     "text": [
      "tensor(False)\n"
     ]
    }
   ],
   "source": [
    "print(torch.isnan(centers[60]).any())\n"
   ]
  },
  {
   "cell_type": "code",
   "execution_count": 42,
   "metadata": {},
   "outputs": [
    {
     "data": {
      "text/plain": [
       "tensor([[ 2.0811e-01, -1.8339e-01, -2.9808e-01],\n",
       "        [-2.4059e-01,  6.5399e-01,  9.7969e-01],\n",
       "        [-3.7908e-01,  3.5025e-01,  4.4444e-02],\n",
       "        [-1.7504e-01, -9.5245e-01, -3.2393e-01],\n",
       "        [-3.6430e-01, -1.3815e-01, -3.2485e-01],\n",
       "        [ 5.9218e-01, -2.8218e-01,  4.2597e-02],\n",
       "        [-3.8739e-01,  5.0535e-01,  5.6146e-01],\n",
       "        [ 3.9922e-01, -5.8038e-01, -3.1101e-01],\n",
       "        [-2.3320e-01, -1.8524e-01,  6.5678e-02],\n",
       "        [ 4.9309e-02, -6.5424e-01, -3.1839e-01],\n",
       "        [-3.7261e-01, -6.6717e-01, -3.2116e-01],\n",
       "        [-3.7476e-02,  6.0347e-02, -3.2116e-01],\n",
       "        [-7.4406e-02,  4.1672e-01,  1.6539e-01],\n",
       "        [-3.8185e-01,  5.8500e-02, -5.8960e-02],\n",
       "        [-7.4406e-02, -2.4063e-01, -2.9254e-01],\n",
       "        [ 4.2138e-01, -3.2649e-01, -1.8083e-01],\n",
       "        [ 2.3119e-01, -7.6293e-02, -4.6957e-02],\n",
       "        [-3.8369e-01,  6.4014e-01,  7.7104e-01],\n",
       "        [-1.5750e-01,  2.1453e-01,  6.2908e-02],\n",
       "        [ 2.0257e-01, -4.2436e-01, -3.0824e-01],\n",
       "        [-1.5934e-01, -7.2995e-01, -3.1378e-01],\n",
       "        [ 4.0291e-01, -1.1876e-01, -1.5221e-01],\n",
       "        [ 3.1464e-03, -7.3523e-02, -1.7160e-01],\n",
       "        [-2.1843e-01, -5.8684e-04, -2.8515e-01],\n",
       "        [-2.1566e-01,  3.3547e-01, -7.0039e-02],\n",
       "        [ 2.9951e-01, -4.8067e-01, -1.5959e-01],\n",
       "        [ 2.1919e-01, -2.5079e-01, -1.2636e-01],\n",
       "        [-2.2582e-01, -4.2800e-03,  2.9672e-02],\n",
       "        [-2.9506e-01, -1.2615e-01, -9.4043e-02],\n",
       "        [-2.5075e-01, -2.7664e-01, -3.2578e-01],\n",
       "        [-3.6153e-01,  2.3669e-01, -9.1273e-02],\n",
       "        [-2.3505e-01,  5.8383e-01,  8.2551e-01],\n",
       "        [-2.5813e-01,  4.6288e-01,  3.0595e-02],\n",
       "        [ 9.4547e-02, -2.9972e-01, -3.2301e-01],\n",
       "        [-8.9178e-02, -8.5525e-02, -3.1470e-01],\n",
       "        [-2.5167e-01,  1.4436e-01, -3.8648e-02],\n",
       "        [ 5.1093e-01, -2.4709e-01, -8.8503e-02],\n",
       "        [ 6.9620e-02, -1.4000e-01, -3.1470e-01],\n",
       "        [ 2.8012e-01, -3.0156e-01, -2.5838e-01],\n",
       "        [-1.7135e-01,  3.5486e-01,  7.8603e-02],\n",
       "        [-3.6800e-01, -6.3368e-02,  9.3603e-03],\n",
       "        [-3.8739e-01, -3.8440e-02, -1.5682e-01],\n",
       "        [ 2.5150e-01, -9.4758e-02, -1.8083e-01],\n",
       "        [ 5.2755e-01, -3.8004e-01, -1.1435e-01],\n",
       "        [ 3.7983e-01, -4.5113e-01, -3.1747e-01],\n",
       "        [ 4.2599e-01, -4.5482e-01, -1.8175e-01],\n",
       "        [-3.2553e-01,  6.5676e-01,  8.8275e-01],\n",
       "        [ 3.4105e-01, -2.2401e-01, -1.7898e-01],\n",
       "        [-2.5444e-01, -8.0473e-01, -3.2578e-01],\n",
       "        [ 2.2196e-01, -3.9297e-01, -1.9191e-01],\n",
       "        [-3.3661e-01,  3.4840e-01, -6.6345e-02],\n",
       "        [-3.4861e-01,  5.5059e-01,  8.4674e-01],\n",
       "        [-3.1907e-01,  8.7121e-02,  3.1518e-02],\n",
       "        [ 4.2691e-01, -3.4680e-01, -7.0039e-02],\n",
       "        [ 2.8197e-01, -5.3237e-01, -2.5746e-01],\n",
       "        [-2.8398e-01,  6.7990e-03, -7.6502e-02],\n",
       "        [-3.2553e-01, -1.7231e-01,  4.7440e-03],\n",
       "        [ 2.7151e-02, -2.4336e-03, -2.5838e-01],\n",
       "        [ 3.0689e-01, -1.4923e-01, -1.0328e-01],\n",
       "        [-2.7660e-01,  2.5607e-01, -2.4799e-02],\n",
       "        [ 3.3274e-01, -3.8466e-01, -2.1130e-01],\n",
       "        [-2.0858e-02, -1.5108e-01, -2.6484e-01],\n",
       "        [ 5.2293e-01, -3.4496e-01, -2.1130e-01],\n",
       "        [-3.7169e-01,  1.5821e-01, -2.5723e-02]])"
      ]
     },
     "execution_count": 42,
     "metadata": {},
     "output_type": "execute_result"
    }
   ],
   "source": [
    "centers[60]"
   ]
  },
  {
   "cell_type": "code",
   "execution_count": 43,
   "metadata": {},
   "outputs": [
    {
     "data": {
      "text/plain": [
       "tensor([[ 0.2081, -0.1834, -0.2981],\n",
       "        [-0.2406,  0.6540,  0.9797],\n",
       "        [-0.3791,  0.3502,  0.0444],\n",
       "        ...,\n",
       "        [ 0.2875, -0.1418, -0.1273],\n",
       "        [ 0.5285, -0.2619,  0.0020],\n",
       "        [-0.2517,  0.2210, -0.0562]])"
      ]
     },
     "execution_count": 43,
     "metadata": {},
     "output_type": "execute_result"
    }
   ],
   "source": [
    "batch['points'][60]"
   ]
  },
  {
   "cell_type": "code",
   "execution_count": 44,
   "metadata": {},
   "outputs": [],
   "source": [
    "num_print = 10\n",
    "for i, item in enumerate(merged_dataset):\n",
    "    if torch.isnan(item['points']).any():\n",
    "        print(i)\n",
    "        num_print -= 1\n",
    "    if num_print == 0:\n",
    "        break"
   ]
  },
  {
   "cell_type": "code",
   "execution_count": 45,
   "metadata": {},
   "outputs": [
    {
     "data": {
      "text/plain": [
       "{'points': tensor([[-0.3783, -0.2064,  0.6141],\n",
       "         [ 0.9990,  0.8653, -0.9120],\n",
       "         [-0.8178,  0.7641, -0.9051],\n",
       "         ...,\n",
       "         [-0.1808,  0.0496,  0.5665],\n",
       "         [ 0.6696,  0.6827, -0.2621],\n",
       "         [-0.3257, -0.5169,  0.5576]])}"
      ]
     },
     "execution_count": 45,
     "metadata": {},
     "output_type": "execute_result"
    }
   ],
   "source": [
    "merged_dataset[28]"
   ]
  },
  {
   "cell_type": "code",
   "execution_count": 46,
   "metadata": {},
   "outputs": [
    {
     "name": "stdout",
     "output_type": "stream",
     "text": [
      "0 205\n"
     ]
    }
   ],
   "source": [
    "a, b = merged_dataset.idxs[205]\n",
    "print(a, b)"
   ]
  },
  {
   "cell_type": "code",
   "execution_count": 47,
   "metadata": {},
   "outputs": [
    {
     "data": {
      "text/plain": [
       "{'points': tensor([[ 0.6152, -0.4331,  0.0637],\n",
       "         [-0.6954,  0.6961, -0.7228],\n",
       "         [-0.7473,  0.4400,  0.9596],\n",
       "         ...,\n",
       "         [-0.7200,  0.4901, -0.6453],\n",
       "         [ 0.9105, -0.4331, -0.1359],\n",
       "         [ 0.9087, -0.3739, -0.3974]])}"
      ]
     },
     "execution_count": 47,
     "metadata": {},
     "output_type": "execute_result"
    }
   ],
   "source": [
    "merged_dataset.datasets[a][b]"
   ]
  },
  {
   "cell_type": "code",
   "execution_count": 48,
   "metadata": {},
   "outputs": [
    {
     "data": {
      "text/plain": [
       "['/home/matt/work/tlsPT/data/plot_octrees/allen-finland/octrees/FIN02_1,5m/voxels/06e5bddb0047c986.ply']"
      ]
     },
     "execution_count": 48,
     "metadata": {},
     "output_type": "execute_result"
    }
   ],
   "source": [
    "merged_dataset.datasets[a].files_to_load[b]"
   ]
  },
  {
   "cell_type": "code",
   "execution_count": null,
   "metadata": {},
   "outputs": [],
   "source": [
    "len(merged_dataset.datasets[0])"
   ]
  },
  {
   "cell_type": "code",
   "execution_count": null,
   "metadata": {},
   "outputs": [],
   "source": [
    "len(merged_dataset)"
   ]
  }
 ],
 "metadata": {
  "kernelspec": {
   "display_name": "tlspt",
   "language": "python",
   "name": "python3"
  },
  "language_info": {
   "codemirror_mode": {
    "name": "ipython",
    "version": 3
   },
   "file_extension": ".py",
   "mimetype": "text/x-python",
   "name": "python",
   "nbconvert_exporter": "python",
   "pygments_lexer": "ipython3",
   "version": "3.9.20"
  }
 },
 "nbformat": 4,
 "nbformat_minor": 2
}
