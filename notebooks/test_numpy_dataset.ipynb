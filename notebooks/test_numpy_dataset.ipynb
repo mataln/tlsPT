{
 "cells": [
  {
   "cell_type": "code",
   "execution_count": 1,
   "metadata": {},
   "outputs": [],
   "source": [
    "from tlspt.datamodules.components.numpy_dataset import NumpyDataset"
   ]
  },
  {
   "cell_type": "code",
   "execution_count": 2,
   "metadata": {},
   "outputs": [
    {
     "name": "stderr",
     "output_type": "stream",
     "text": [
      "\u001b[32m2024-04-18 17:42:00.683\u001b[0m | \u001b[1mINFO    \u001b[0m | \u001b[36mtlspt.datamodules.components.base\u001b[0m:\u001b[36m__init__\u001b[0m:\u001b[36m53\u001b[0m - \u001b[1mnumpy_5ch: reading splits from ../data/lightning-test-2024/split.csv\u001b[0m\n",
      "\u001b[32m2024-04-18 17:42:00.700\u001b[0m | \u001b[1mINFO    \u001b[0m | \u001b[36mtlspt.datamodules.components.base\u001b[0m:\u001b[36m__init__\u001b[0m:\u001b[36m64\u001b[0m - \u001b[1mnumpy_5ch: looking for 16590 files in ../data/lightning-test-2024/raw\u001b[0m\n",
      "\u001b[32m2024-04-18 17:42:00.720\u001b[0m | \u001b[1mINFO    \u001b[0m | \u001b[36mtlspt.datamodules.components.base\u001b[0m:\u001b[36m__init__\u001b[0m:\u001b[36m79\u001b[0m - \u001b[1mnumpy_5ch: found 16590 voxels for 'train' out of 16590 voxels defined in split file\u001b[0m\n",
      "\u001b[32m2024-04-18 17:42:00.721\u001b[0m | \u001b[1mINFO    \u001b[0m | \u001b[36mtlspt.utils\u001b[0m:\u001b[36m__init__\u001b[0m:\u001b[36m30\u001b[0m - \u001b[1mCreating directory for stats_file ../data/lightning-test-2024/stats/stats_34a47002c1c03.pkl\u001b[0m\n"
     ]
    }
   ],
   "source": [
    "test_numpy_dataset = NumpyDataset(split_file='../data/lightning-test-2024/split.csv', split='train', num_channels=5)"
   ]
  },
  {
   "cell_type": "code",
   "execution_count": 3,
   "metadata": {},
   "outputs": [
    {
     "data": {
      "text/plain": [
       "array([[ 0.9296583 , -0.57398975, -0.365919  ,  0.02104151,  0.        ],\n",
       "       [ 0.94440556, -0.5641252 , -0.27587843,  0.1871916 ,  0.        ],\n",
       "       [ 0.9970933 , -0.6219822 , -0.23729944,  0.6066252 ,  0.        ],\n",
       "       ...,\n",
       "       [ 0.42653   , -0.82817245,  0.6729289 ,  0.8261949 ,  1.        ],\n",
       "       [ 0.40815902, -0.81127936,  0.62740266,  0.9985055 ,  1.        ],\n",
       "       [ 0.40647697, -0.8071553 ,  0.5651331 ,  0.87184894,  1.        ]],\n",
       "      dtype=float32)"
      ]
     },
     "execution_count": 3,
     "metadata": {},
     "output_type": "execute_result"
    }
   ],
   "source": [
    "test_numpy_dataset[0]"
   ]
  },
  {
   "cell_type": "code",
   "execution_count": 4,
   "metadata": {},
   "outputs": [
    {
     "data": {
      "text/plain": [
       "16590"
      ]
     },
     "execution_count": 4,
     "metadata": {},
     "output_type": "execute_result"
    }
   ],
   "source": [
    "len(test_numpy_dataset)"
   ]
  },
  {
   "cell_type": "code",
   "execution_count": 5,
   "metadata": {},
   "outputs": [
    {
     "data": {
      "text/plain": [
       "8729099367509"
      ]
     },
     "execution_count": 5,
     "metadata": {},
     "output_type": "execute_result"
    }
   ],
   "source": [
    "test_numpy_dataset.__hash__()"
   ]
  },
  {
   "cell_type": "code",
   "execution_count": 9,
   "metadata": {},
   "outputs": [
    {
     "name": "stderr",
     "output_type": "stream",
     "text": [
      "\u001b[32m2024-04-18 17:42:18.305\u001b[0m | \u001b[1mINFO    \u001b[0m | \u001b[36mtlspt.utils\u001b[0m:\u001b[36mprepare_data\u001b[0m:\u001b[36m40\u001b[0m - \u001b[1mNumpyDataset.{'num_channels': 5}.train.34a47002c1c03: computing normalizer\u001b[0m\n",
      "  0% (0 of 1000) |                       | Elapsed Time: 0:00:00 ETA:  --:--:--\n",
      "  2% (26 of 1000) |                      | Elapsed Time: 0:00:00 ETA:   0:00:02\n",
      "  5% (51 of 1000) |#                     | Elapsed Time: 0:00:00 ETA:   0:00:02\n",
      "  7% (76 of 1000) |#                     | Elapsed Time: 0:00:00 ETA:   0:00:02\n",
      " 10% (102 of 1000) |##                   | Elapsed Time: 0:00:00 ETA:   0:00:02\n",
      " 12% (127 of 1000) |##                   | Elapsed Time: 0:00:00 ETA:   0:00:01\n",
      " 15% (152 of 1000) |###                  | Elapsed Time: 0:00:00 ETA:   0:00:01\n",
      " 17% (178 of 1000) |###                  | Elapsed Time: 0:00:00 ETA:   0:00:01\n",
      " 20% (203 of 1000) |####                 | Elapsed Time: 0:00:00 ETA:   0:00:01\n",
      " 22% (228 of 1000) |####                 | Elapsed Time: 0:00:00 ETA:   0:00:01\n",
      " 25% (254 of 1000) |#####                | Elapsed Time: 0:00:00 ETA:   0:00:01\n",
      " 27% (279 of 1000) |#####                | Elapsed Time: 0:00:00 ETA:   0:00:01\n",
      " 30% (304 of 1000) |######               | Elapsed Time: 0:00:00 ETA:   0:00:01\n",
      " 33% (330 of 1000) |######               | Elapsed Time: 0:00:00 ETA:   0:00:01\n",
      " 35% (355 of 1000) |#######              | Elapsed Time: 0:00:00 ETA:   0:00:01\n",
      " 38% (380 of 1000) |#######              | Elapsed Time: 0:00:00 ETA:   0:00:01\n",
      " 40% (406 of 1000) |########             | Elapsed Time: 0:00:00 ETA:   0:00:01\n",
      " 43% (431 of 1000) |#########            | Elapsed Time: 0:00:01 ETA:   0:00:01\n",
      " 45% (456 of 1000) |#########            | Elapsed Time: 0:00:01 ETA:   0:00:01\n",
      " 48% (482 of 1000) |##########           | Elapsed Time: 0:00:01 ETA:   0:00:01\n",
      " 50% (507 of 1000) |##########           | Elapsed Time: 0:00:01 ETA:   0:00:01\n",
      " 53% (532 of 1000) |###########          | Elapsed Time: 0:00:01 ETA:   0:00:01\n",
      " 55% (557 of 1000) |###########          | Elapsed Time: 0:00:01 ETA:   0:00:01\n",
      " 58% (583 of 1000) |############         | Elapsed Time: 0:00:01 ETA:   0:00:00\n",
      " 60% (608 of 1000) |############         | Elapsed Time: 0:00:01 ETA:   0:00:00\n",
      " 63% (633 of 1000) |#############        | Elapsed Time: 0:00:01 ETA:   0:00:00\n",
      " 65% (659 of 1000) |#############        | Elapsed Time: 0:00:01 ETA:   0:00:00\n",
      " 68% (684 of 1000) |##############       | Elapsed Time: 0:00:01 ETA:   0:00:00\n",
      " 70% (709 of 1000) |##############       | Elapsed Time: 0:00:01 ETA:   0:00:00\n",
      " 73% (735 of 1000) |###############      | Elapsed Time: 0:00:01 ETA:   0:00:00\n",
      " 76% (760 of 1000) |###############      | Elapsed Time: 0:00:01 ETA:   0:00:00\n",
      " 78% (785 of 1000) |################     | Elapsed Time: 0:00:01 ETA:   0:00:00\n",
      " 81% (811 of 1000) |#################    | Elapsed Time: 0:00:01 ETA:   0:00:00\n",
      " 83% (836 of 1000) |#################    | Elapsed Time: 0:00:01 ETA:   0:00:00\n",
      " 86% (861 of 1000) |##################   | Elapsed Time: 0:00:02 ETA:   0:00:00\n",
      " 88% (887 of 1000) |##################   | Elapsed Time: 0:00:02 ETA:   0:00:00\n",
      " 91% (912 of 1000) |###################  | Elapsed Time: 0:00:02 ETA:   0:00:00\n",
      " 93% (937 of 1000) |###################  | Elapsed Time: 0:00:02 ETA:   0:00:00\n",
      " 96% (963 of 1000) |#################### | Elapsed Time: 0:00:02 ETA:   0:00:00\n",
      " 98% (988 of 1000) |#################### | Elapsed Time: 0:00:02 ETA:   0:00:00\n",
      "100% (1000 of 1000) |####################| Elapsed Time: 0:00:02 Time:  0:00:02\n",
      "\u001b[32m2024-04-18 17:42:20.665\u001b[0m | \u001b[1mINFO    \u001b[0m | \u001b[36mtlspt.utils\u001b[0m:\u001b[36mprepare_data\u001b[0m:\u001b[36m74\u001b[0m - \u001b[1msaved stats to ../data/lightning-test-2024/stats/stats_34a47002c1c03.pkl with means [-1.06184176e+01 -1.20792996e+01  3.64845596e+02 -1.27457330e+01\n",
      "  1.79368430e-01] and stds [1.67289075e+01 1.12694617e+01 4.71975924e+02 7.65867933e+00\n",
      " 3.83660522e-01]\u001b[0m\n",
      "\u001b[32m2024-04-18 17:42:20.666\u001b[0m | \u001b[1mINFO    \u001b[0m | \u001b[36mtlspt.utils\u001b[0m:\u001b[36mprepare_data\u001b[0m:\u001b[36m78\u001b[0m - \u001b[1mreading stats from ../data/lightning-test-2024/stats/stats_34a47002c1c03.pkl\u001b[0m\n",
      "\u001b[32m2024-04-18 17:42:20.666\u001b[0m | \u001b[1mINFO    \u001b[0m | \u001b[36mtlspt.utils\u001b[0m:\u001b[36mprepare_data\u001b[0m:\u001b[36m79\u001b[0m - \u001b[1mfor dataset NumpyDataset.{'num_channels': 5}.train.34a47002c1c03\u001b[0m\n",
      "\u001b[32m2024-04-18 17:42:20.667\u001b[0m | \u001b[1mINFO    \u001b[0m | \u001b[36mtlspt.utils\u001b[0m:\u001b[36mprepare_data\u001b[0m:\u001b[36m88\u001b[0m - \u001b[1mmean: [-1.06184176e+01 -1.20792996e+01  3.64845596e+02 -1.27457330e+01\n",
      "  1.79368430e-01]\u001b[0m\n",
      "\u001b[32m2024-04-18 17:42:20.668\u001b[0m | \u001b[1mINFO    \u001b[0m | \u001b[36mtlspt.utils\u001b[0m:\u001b[36mprepare_data\u001b[0m:\u001b[36m89\u001b[0m - \u001b[1mstd: [1.67289075e+01 1.12694617e+01 4.71975924e+02 7.65867933e+00\n",
      " 3.83660522e-01]\u001b[0m\n"
     ]
    }
   ],
   "source": [
    "test_numpy_dataset.prepare_data()"
   ]
  },
  {
   "cell_type": "code",
   "execution_count": null,
   "metadata": {},
   "outputs": [],
   "source": []
  }
 ],
 "metadata": {
  "kernelspec": {
   "display_name": "tlspt",
   "language": "python",
   "name": "python3"
  },
  "language_info": {
   "codemirror_mode": {
    "name": "ipython",
    "version": 3
   },
   "file_extension": ".py",
   "mimetype": "text/x-python",
   "name": "python",
   "nbconvert_exporter": "python",
   "pygments_lexer": "ipython3",
   "version": "3.10.14"
  }
 },
 "nbformat": 4,
 "nbformat_minor": 2
}
