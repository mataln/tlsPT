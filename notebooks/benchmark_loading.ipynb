{
 "cells": [
  {
   "cell_type": "code",
   "execution_count": 1,
   "metadata": {},
   "outputs": [
    {
     "data": {
      "text/plain": [
       "1"
      ]
     },
     "execution_count": 1,
     "metadata": {},
     "output_type": "execute_result"
    }
   ],
   "source": [
    "from tlspt.datamodules.components.numpy_dataset import NumpyDataset\n",
    "from tlspt.datamodules.components.base_site import BaseSiteDataset\n",
    "from tlspt.datamodules.components.octree_dataset import OctreeDataset\n",
    "from tlspt.datamodules.components.merged_dataset import MergedOctreeDataset\n",
    "from tlspt.transforms import TLSSampler, UniformDownsample\n",
    "from tlspt.datamodules.single_datamodule import SingleDataModule\n",
    "\n",
    "from torch.utils.data import DataLoader\n",
    "\n",
    "\n",
    "from matplotlib import pyplot as plt\n",
    "\n",
    "from loguru import logger\n",
    "\n",
    "import sys\n",
    "import numpy as np\n",
    "import time\n",
    "\n",
    "logger.remove()  # Remove the default handler\n",
    "logger.add(sys.stdout, level=\"INFO\")"
   ]
  },
  {
   "cell_type": "code",
   "execution_count": 2,
   "metadata": {},
   "outputs": [
    {
     "name": "stdout",
     "output_type": "stream",
     "text": [
      "\u001b[32m2024-11-22 19:46:04.687\u001b[0m | \u001b[1mINFO    \u001b[0m | \u001b[36mtlspt.datamodules.components.base_site\u001b[0m:\u001b[36m__init__\u001b[0m:\u001b[36m49\u001b[0m - \u001b[1mOctreeDataset(../data/plot_octrees/allen-spain/octrees/allen-spain-plot_splits-tr0.7-val0.15-te0.15_seed0.csv, train, 1.5): reading splits from ../data/plot_octrees/allen-spain/octrees/allen-spain-plot_splits-tr0.7-val0.15-te0.15_seed0.csv\u001b[0m\n",
      "\u001b[32m2024-11-22 19:46:04.690\u001b[0m | \u001b[1mINFO    \u001b[0m | \u001b[36mtlspt.datamodules.components.base_site\u001b[0m:\u001b[36m__init__\u001b[0m:\u001b[36m56\u001b[0m - \u001b[1mOctreeDataset(../data/plot_octrees/allen-spain/octrees/allen-spain-plot_splits-tr0.7-val0.15-te0.15_seed0.csv, train, 1.5): looking for 14 folders in ../data/plot_octrees/allen-spain/octrees/\u001b[0m\n",
      "\u001b[32m2024-11-22 19:46:04.691\u001b[0m | \u001b[1mINFO    \u001b[0m | \u001b[36mtlspt.datamodules.components.base_site\u001b[0m:\u001b[36m__init__\u001b[0m:\u001b[36m64\u001b[0m - \u001b[1mOctreeDataset(../data/plot_octrees/allen-spain/octrees/allen-spain-plot_splits-tr0.7-val0.15-te0.15_seed0.csv, train, 1.5): found 14 plots for 'train' out of 14 plots defined in split file\u001b[0m\n",
      "\u001b[32m2024-11-22 19:46:04.691\u001b[0m | \u001b[1mINFO    \u001b[0m | \u001b[36mtlspt.structures.file_octree\u001b[0m:\u001b[36m__init__\u001b[0m:\u001b[36m155\u001b[0m - \u001b[1mInitializing octree from <class 'str'> ../data/plot_octrees/allen-spain/octrees/SPA01_1,5m/SPA01.json\u001b[0m\n",
      "\u001b[32m2024-11-22 19:46:04.886\u001b[0m | \u001b[1mINFO    \u001b[0m | \u001b[36mtlspt.utils\u001b[0m:\u001b[36m__init__\u001b[0m:\u001b[36m37\u001b[0m - \u001b[1mCreating directory for stats_file ../data/plot_octrees/allen-spain/octrees/stats/stats_128a15cc4e5f0.pkl\u001b[0m\n"
     ]
    }
   ],
   "source": [
    "site_dataset = OctreeDataset(split_file='../data/plot_octrees/allen-spain/octrees/allen-spain-plot_splits-tr0.7-val0.15-te0.15_seed0.csv',\n",
    "                                 split='train',\n",
    "                                 feature_names=['red', 'green', 'blue'],\n",
    "                                 features_to_normalize=['red', 'green', 'blue'],\n",
    "                                 scale=1.5,\n",
    "                                 transform=UniformDownsample(num_points=1024, replace=\"resample_as_req\"),\n",
    "                                 plots_keep=['SPA01'])"
   ]
  },
  {
   "cell_type": "code",
   "execution_count": 3,
   "metadata": {},
   "outputs": [
    {
     "data": {
      "text/plain": [
       "<tlspt.structures.file_octree.FileOctree at 0x7f718eecc7c0>"
      ]
     },
     "execution_count": 3,
     "metadata": {},
     "output_type": "execute_result"
    }
   ],
   "source": [
    "site_dataset.octrees[0]"
   ]
  },
  {
   "cell_type": "code",
   "execution_count": 4,
   "metadata": {},
   "outputs": [
    {
     "data": {
      "text/plain": [
       "1"
      ]
     },
     "execution_count": 4,
     "metadata": {},
     "output_type": "execute_result"
    }
   ],
   "source": [
    "len(site_dataset.nodes)"
   ]
  },
  {
   "cell_type": "code",
   "execution_count": 5,
   "metadata": {},
   "outputs": [
    {
     "name": "stdout",
     "output_type": "stream",
     "text": [
      "Number of nodes in DS plot 0: 1492\n"
     ]
    }
   ],
   "source": [
    "print(f\"Number of nodes in DS plot 0: {len(site_dataset.nodes[0])}\")"
   ]
  },
  {
   "cell_type": "code",
   "execution_count": 6,
   "metadata": {},
   "outputs": [
    {
     "name": "stdout",
     "output_type": "stream",
     "text": [
      "Number of leaves total in DS plot 0: 1492\n"
     ]
    }
   ],
   "source": [
    "len(site_dataset.leaf_nodes[0])  #e.g. site_dataset.leaf_nodes[number of plot][number of parent node]\n",
    "num_leaves_per_node = [len(x) for x in site_dataset.leaf_nodes[0]]\n",
    "print(f\"Number of leaves total in DS plot 0: {sum(num_leaves_per_node)}\")"
   ]
  },
  {
   "cell_type": "code",
   "execution_count": 7,
   "metadata": {},
   "outputs": [
    {
     "data": {
      "text/plain": [
       "1492"
      ]
     },
     "execution_count": 7,
     "metadata": {},
     "output_type": "execute_result"
    }
   ],
   "source": [
    "len(site_dataset)"
   ]
  },
  {
   "cell_type": "code",
   "execution_count": 8,
   "metadata": {},
   "outputs": [
    {
     "data": {
      "text/plain": [
       "<tlspt.structures.pointclouds.TLSPointclouds at 0x7f705dd90ca0>"
      ]
     },
     "execution_count": 8,
     "metadata": {},
     "output_type": "execute_result"
    }
   ],
   "source": [
    "site_dataset.load_item(0)"
   ]
  },
  {
   "cell_type": "code",
   "execution_count": 9,
   "metadata": {},
   "outputs": [
    {
     "name": "stdout",
     "output_type": "stream",
     "text": [
      "\u001b[32m2024-11-22 19:46:05.885\u001b[0m | \u001b[1mINFO    \u001b[0m | \u001b[36mtlspt.utils\u001b[0m:\u001b[36mprepare_data\u001b[0m:\u001b[36m95\u001b[0m - \u001b[1mreading stats from ../data/plot_octrees/allen-spain/octrees/stats/stats_128a15cc4e5f0.pkl\u001b[0m\n",
      "\u001b[32m2024-11-22 19:46:05.886\u001b[0m | \u001b[1mINFO    \u001b[0m | \u001b[36mtlspt.utils\u001b[0m:\u001b[36mprepare_data\u001b[0m:\u001b[36m96\u001b[0m - \u001b[1mfor dataset OctreeDataset.{'features_to_normalize': ['red', 'green', 'blue']}.train.128a15cc4e5f0\u001b[0m\n",
      "\u001b[32m2024-11-22 19:46:05.888\u001b[0m | \u001b[1mINFO    \u001b[0m | \u001b[36mtlspt.utils\u001b[0m:\u001b[36mprepare_data\u001b[0m:\u001b[36m105\u001b[0m - \u001b[1mmean: tensor([0.5721, 0.5507, 0.5738])\u001b[0m\n",
      "\u001b[32m2024-11-22 19:46:05.889\u001b[0m | \u001b[1mINFO    \u001b[0m | \u001b[36mtlspt.utils\u001b[0m:\u001b[36mprepare_data\u001b[0m:\u001b[36m106\u001b[0m - \u001b[1mstd: tensor([0.3137, 0.3621, 0.2952])\u001b[0m\n",
      "\u001b[32m2024-11-22 19:46:05.889\u001b[0m | \u001b[1mINFO    \u001b[0m | \u001b[36mtlspt.utils\u001b[0m:\u001b[36mprepare_data\u001b[0m:\u001b[36m110\u001b[0m - \u001b[1mtorch.float32\u001b[0m\n",
      "\u001b[32m2024-11-22 19:46:05.890\u001b[0m | \u001b[1mINFO    \u001b[0m | \u001b[36mtlspt.utils\u001b[0m:\u001b[36mprepare_data\u001b[0m:\u001b[36m114\u001b[0m - \u001b[1mDataset has 3 features named ['red', 'green', 'blue']. \n",
      " Normalizing ['red', 'green', 'blue'] by mean+std. \u001b[0m\n",
      "\u001b[32m2024-11-22 19:46:05.891\u001b[0m | \u001b[1mINFO    \u001b[0m | \u001b[36mtlspt.utils\u001b[0m:\u001b[36mprepare_data\u001b[0m:\u001b[36m117\u001b[0m - \u001b[1m3 channels will be zero centered and scaled to [-1,1].\u001b[0m\n"
     ]
    }
   ],
   "source": [
    "site_dataset.prepare_data(force_compute=False)"
   ]
  },
  {
   "cell_type": "code",
   "execution_count": 10,
   "metadata": {},
   "outputs": [
    {
     "data": {
      "text/plain": [
       "torch.Size([1024, 3])"
      ]
     },
     "execution_count": 10,
     "metadata": {},
     "output_type": "execute_result"
    }
   ],
   "source": [
    "site_dataset[9]['features'].shape"
   ]
  },
  {
   "cell_type": "code",
   "execution_count": 11,
   "metadata": {},
   "outputs": [
    {
     "data": {
      "text/plain": [
       "torch.Size([1024, 3])"
      ]
     },
     "execution_count": 11,
     "metadata": {},
     "output_type": "execute_result"
    }
   ],
   "source": [
    "site_dataset[9]['points'].shape"
   ]
  },
  {
   "cell_type": "code",
   "execution_count": 12,
   "metadata": {},
   "outputs": [
    {
     "data": {
      "text/plain": [
       "{'points': tensor([[ 0.3254,  0.3766,  0.1012],\n",
       "         [-0.1289,  0.3342,  0.1315],\n",
       "         [-0.1442, -0.4888, -0.0962],\n",
       "         ...,\n",
       "         [-0.3268, -0.7928, -0.1168],\n",
       "         [-0.1392, -0.5985, -0.1441],\n",
       "         [-0.0803,  0.4192,  0.1624]]),\n",
       " 'features': tensor([[-0.8238,  0.7533, -0.7215],\n",
       "         [-0.8238,  0.7533, -0.7215],\n",
       "         [-0.6238,  1.2082, -0.4824],\n",
       "         ...,\n",
       "         [-0.6238,  1.2082, -0.4824],\n",
       "         [-0.6238,  1.2082, -0.4824],\n",
       "         [-0.8238,  0.7533, -0.7215]]),\n",
       " 'lengths': 1024}"
      ]
     },
     "execution_count": 12,
     "metadata": {},
     "output_type": "execute_result"
    }
   ],
   "source": [
    "site_dataset[0]"
   ]
  },
  {
   "cell_type": "code",
   "execution_count": 13,
   "metadata": {},
   "outputs": [
    {
     "name": "stdout",
     "output_type": "stream",
     "text": [
      "[[-0.1063687  -0.00955277  0.9593539 ]\n",
      " [-0.19007088  0.05334659  0.9625488 ]\n",
      " [-0.06148773  0.03218045 -0.06620518]\n",
      " [ 0.2579567  -0.04628844 -0.5633653 ]\n",
      " [-0.13718328  0.05365443  1.        ]]\n",
      "\n",
      "[[-0.1063687  -0.00955277  0.9593539 ]\n",
      " [-0.19007088  0.05334659  0.9625488 ]\n",
      " [-0.06148773  0.03218045 -0.06620518]\n",
      " [ 0.2579567  -0.04628844 -0.5633653 ]\n",
      " [-0.13718328  0.05365443  1.        ]]\n",
      "Indices of rows equal to the first row: [  0 545]\n",
      "1024\n"
     ]
    }
   ],
   "source": [
    "length = site_dataset[9]['lengths']\n",
    "mat = np.array(site_dataset[9]['points'])  # Ensure 'mat' is a NumPy array\n",
    "\n",
    "print(mat[0:5])  # Print first 5 points\n",
    "print()\n",
    "print(mat[length:length+5])  # Print points from 'length' to 'length + 5'\n",
    "\n",
    "# Find indices of rows in 'mat' that are equal to the first row\n",
    "indices = np.where(np.all(mat == mat[0], axis=1))[0]\n",
    "print(\"Indices of rows equal to the first row:\", indices)\n",
    "\n",
    "print(len(mat))"
   ]
  },
  {
   "cell_type": "code",
   "execution_count": 14,
   "metadata": {},
   "outputs": [],
   "source": [
    "dataloader = DataLoader(site_dataset, batch_size=128, shuffle=True)"
   ]
  },
  {
   "cell_type": "code",
   "execution_count": 15,
   "metadata": {},
   "outputs": [],
   "source": [
    "batch = next(iter(dataloader))"
   ]
  },
  {
   "cell_type": "code",
   "execution_count": 16,
   "metadata": {},
   "outputs": [
    {
     "data": {
      "text/plain": [
       "tensor([1024, 1024, 1024, 1024, 1024, 1024, 1024, 1024, 1024, 1024, 1024, 1024,\n",
       "        1024, 1024, 1024, 1024, 1024, 1024, 1024, 1024, 1024, 1024, 1024, 1024,\n",
       "        1024, 1024, 1024, 1024, 1024, 1024, 1024, 1024, 1024, 1024, 1024, 1024,\n",
       "        1024, 1024, 1024, 1024, 1024, 1024, 1024, 1024, 1024, 1024, 1024, 1024,\n",
       "        1024, 1024, 1024, 1024, 1024, 1024, 1024, 1024, 1024, 1024, 1024, 1024,\n",
       "        1024, 1024, 1024, 1024, 1024, 1024, 1024, 1024, 1024, 1024, 1024, 1024,\n",
       "        1024, 1024, 1024, 1024, 1024, 1024, 1024, 1024,  673, 1024, 1024,  566,\n",
       "        1024, 1024, 1024,  870, 1024, 1024, 1024, 1024, 1024, 1024, 1024, 1024,\n",
       "        1024, 1024, 1024, 1024, 1024, 1024, 1024, 1024, 1024, 1024, 1024, 1024,\n",
       "        1024, 1024, 1024, 1024, 1024, 1024, 1024, 1024, 1024,  950, 1024, 1024,\n",
       "         515, 1024, 1024, 1024, 1024, 1024, 1024, 1024])"
      ]
     },
     "execution_count": 16,
     "metadata": {},
     "output_type": "execute_result"
    }
   ],
   "source": [
    "batch['lengths']"
   ]
  },
  {
   "cell_type": "code",
   "execution_count": 17,
   "metadata": {},
   "outputs": [
    {
     "name": "stdout",
     "output_type": "stream",
     "text": [
      "\u001b[32m2024-11-22 19:46:10.238\u001b[0m | \u001b[1mINFO    \u001b[0m | \u001b[36mtlspt.datamodules.components.base_site\u001b[0m:\u001b[36m__init__\u001b[0m:\u001b[36m49\u001b[0m - \u001b[1mOctreeDataset(/home/matt/work/tlsPT/data/plot_octrees/allen-finland/octrees/allen-finland-plot_splits-tr0.7-val0.15-te0.15_seed0.csv, train, 1.5): reading splits from /home/matt/work/tlsPT/data/plot_octrees/allen-finland/octrees/allen-finland-plot_splits-tr0.7-val0.15-te0.15_seed0.csv\u001b[0m\n",
      "\u001b[32m2024-11-22 19:46:10.240\u001b[0m | \u001b[1mINFO    \u001b[0m | \u001b[36mtlspt.datamodules.components.base_site\u001b[0m:\u001b[36m__init__\u001b[0m:\u001b[36m56\u001b[0m - \u001b[1mOctreeDataset(/home/matt/work/tlsPT/data/plot_octrees/allen-finland/octrees/allen-finland-plot_splits-tr0.7-val0.15-te0.15_seed0.csv, train, 1.5): looking for 12 folders in /home/matt/work/tlsPT/data/plot_octrees/allen-finland/octrees/\u001b[0m\n",
      "\u001b[32m2024-11-22 19:46:10.241\u001b[0m | \u001b[1mINFO    \u001b[0m | \u001b[36mtlspt.datamodules.components.base_site\u001b[0m:\u001b[36m__init__\u001b[0m:\u001b[36m64\u001b[0m - \u001b[1mOctreeDataset(/home/matt/work/tlsPT/data/plot_octrees/allen-finland/octrees/allen-finland-plot_splits-tr0.7-val0.15-te0.15_seed0.csv, train, 1.5): found 12 plots for 'train' out of 12 plots defined in split file\u001b[0m\n",
      "\u001b[32m2024-11-22 19:46:10.242\u001b[0m | \u001b[1mINFO    \u001b[0m | \u001b[36mtlspt.structures.file_octree\u001b[0m:\u001b[36m__init__\u001b[0m:\u001b[36m155\u001b[0m - \u001b[1mInitializing octree from <class 'str'> /home/matt/work/tlsPT/data/plot_octrees/allen-finland/octrees/FIN02_1,5m/FIN02.json\u001b[0m\n",
      "\u001b[32m2024-11-22 19:46:10.312\u001b[0m | \u001b[1mINFO    \u001b[0m | \u001b[36mtlspt.structures.file_octree\u001b[0m:\u001b[36m__init__\u001b[0m:\u001b[36m155\u001b[0m - \u001b[1mInitializing octree from <class 'str'> /home/matt/work/tlsPT/data/plot_octrees/allen-finland/octrees/FIN04_1,5m/FIN04.json\u001b[0m\n",
      "\u001b[32m2024-11-22 19:46:10.369\u001b[0m | \u001b[1mINFO    \u001b[0m | \u001b[36mtlspt.structures.file_octree\u001b[0m:\u001b[36m__init__\u001b[0m:\u001b[36m155\u001b[0m - \u001b[1mInitializing octree from <class 'str'> /home/matt/work/tlsPT/data/plot_octrees/allen-finland/octrees/FIN09_1,5m/FIN09.json\u001b[0m\n",
      "\u001b[32m2024-11-22 19:46:10.418\u001b[0m | \u001b[1mINFO    \u001b[0m | \u001b[36mtlspt.structures.file_octree\u001b[0m:\u001b[36m__init__\u001b[0m:\u001b[36m155\u001b[0m - \u001b[1mInitializing octree from <class 'str'> /home/matt/work/tlsPT/data/plot_octrees/allen-finland/octrees/FIN10_1,5m/FIN10.json\u001b[0m\n",
      "\u001b[32m2024-11-22 19:46:10.590\u001b[0m | \u001b[1mINFO    \u001b[0m | \u001b[36mtlspt.structures.file_octree\u001b[0m:\u001b[36m__init__\u001b[0m:\u001b[36m155\u001b[0m - \u001b[1mInitializing octree from <class 'str'> /home/matt/work/tlsPT/data/plot_octrees/allen-finland/octrees/FIN12_1,5m/FIN12.json\u001b[0m\n",
      "\u001b[32m2024-11-22 19:46:10.642\u001b[0m | \u001b[1mINFO    \u001b[0m | \u001b[36mtlspt.structures.file_octree\u001b[0m:\u001b[36m__init__\u001b[0m:\u001b[36m155\u001b[0m - \u001b[1mInitializing octree from <class 'str'> /home/matt/work/tlsPT/data/plot_octrees/allen-finland/octrees/FIN13_1,5m/FIN13.json\u001b[0m\n",
      "\u001b[32m2024-11-22 19:46:10.692\u001b[0m | \u001b[1mINFO    \u001b[0m | \u001b[36mtlspt.structures.file_octree\u001b[0m:\u001b[36m__init__\u001b[0m:\u001b[36m155\u001b[0m - \u001b[1mInitializing octree from <class 'str'> /home/matt/work/tlsPT/data/plot_octrees/allen-finland/octrees/FIN15_1,5m/FIN15.json\u001b[0m\n",
      "\u001b[32m2024-11-22 19:46:10.750\u001b[0m | \u001b[1mINFO    \u001b[0m | \u001b[36mtlspt.structures.file_octree\u001b[0m:\u001b[36m__init__\u001b[0m:\u001b[36m155\u001b[0m - \u001b[1mInitializing octree from <class 'str'> /home/matt/work/tlsPT/data/plot_octrees/allen-finland/octrees/FIN21_1,5m/FIN21.json\u001b[0m\n",
      "\u001b[32m2024-11-22 19:46:10.815\u001b[0m | \u001b[1mINFO    \u001b[0m | \u001b[36mtlspt.structures.file_octree\u001b[0m:\u001b[36m__init__\u001b[0m:\u001b[36m155\u001b[0m - \u001b[1mInitializing octree from <class 'str'> /home/matt/work/tlsPT/data/plot_octrees/allen-finland/octrees/FIN24_1,5m/FIN24.json\u001b[0m\n",
      "\u001b[32m2024-11-22 19:46:11.004\u001b[0m | \u001b[1mINFO    \u001b[0m | \u001b[36mtlspt.structures.file_octree\u001b[0m:\u001b[36m__init__\u001b[0m:\u001b[36m155\u001b[0m - \u001b[1mInitializing octree from <class 'str'> /home/matt/work/tlsPT/data/plot_octrees/allen-finland/octrees/FIN25_1,5m/FIN25.json\u001b[0m\n",
      "\u001b[32m2024-11-22 19:46:11.055\u001b[0m | \u001b[1mINFO    \u001b[0m | \u001b[36mtlspt.structures.file_octree\u001b[0m:\u001b[36m__init__\u001b[0m:\u001b[36m155\u001b[0m - \u001b[1mInitializing octree from <class 'str'> /home/matt/work/tlsPT/data/plot_octrees/allen-finland/octrees/FIN27_1,5m/FIN27.json\u001b[0m\n",
      "\u001b[32m2024-11-22 19:46:11.110\u001b[0m | \u001b[1mINFO    \u001b[0m | \u001b[36mtlspt.structures.file_octree\u001b[0m:\u001b[36m__init__\u001b[0m:\u001b[36m155\u001b[0m - \u001b[1mInitializing octree from <class 'str'> /home/matt/work/tlsPT/data/plot_octrees/allen-finland/octrees/FIN28_1,5m/FIN28.json\u001b[0m\n",
      "\u001b[32m2024-11-22 19:46:11.415\u001b[0m | \u001b[1mINFO    \u001b[0m | \u001b[36mtlspt.utils\u001b[0m:\u001b[36m__init__\u001b[0m:\u001b[36m37\u001b[0m - \u001b[1mCreating directory for stats_file /home/matt/work/tlsPT/data/plot_octrees/allen-finland/octrees/stats/stats_02c8209fb3405.pkl\u001b[0m\n",
      "\u001b[32m2024-11-22 19:46:11.416\u001b[0m | \u001b[1mINFO    \u001b[0m | \u001b[36mtlspt.datamodules.components.base_site\u001b[0m:\u001b[36m__init__\u001b[0m:\u001b[36m49\u001b[0m - \u001b[1mOctreeDataset(/home/matt/work/tlsPT/data/plot_octrees/allen-poland/octrees/allen-poland-plot_splits-tr0.7-val0.15-te0.15_seed0.csv, train, 1.5): reading splits from /home/matt/work/tlsPT/data/plot_octrees/allen-poland/octrees/allen-poland-plot_splits-tr0.7-val0.15-te0.15_seed0.csv\u001b[0m\n",
      "\u001b[32m2024-11-22 19:46:11.418\u001b[0m | \u001b[1mINFO    \u001b[0m | \u001b[36mtlspt.datamodules.components.base_site\u001b[0m:\u001b[36m__init__\u001b[0m:\u001b[36m56\u001b[0m - \u001b[1mOctreeDataset(/home/matt/work/tlsPT/data/plot_octrees/allen-poland/octrees/allen-poland-plot_splits-tr0.7-val0.15-te0.15_seed0.csv, train, 1.5): looking for 14 folders in /home/matt/work/tlsPT/data/plot_octrees/allen-poland/octrees/\u001b[0m\n",
      "\u001b[32m2024-11-22 19:46:11.419\u001b[0m | \u001b[33m\u001b[1mWARNING \u001b[0m | \u001b[36mtlspt.datamodules.components.base_site\u001b[0m:\u001b[36mcheck_discrepancies_between_expected_files_and_folder_files\u001b[0m:\u001b[36m108\u001b[0m - \u001b[33m\u001b[1mOctreeDataset(/home/matt/work/tlsPT/data/plot_octrees/allen-poland/octrees/allen-poland-plot_splits-tr0.7-val0.15-te0.15_seed0.csv, train, 1.5): There are 1 discrepancies\u001b[0m\n",
      "\u001b[32m2024-11-22 19:46:11.419\u001b[0m | \u001b[1mINFO    \u001b[0m | \u001b[36mtlspt.datamodules.components.base_site\u001b[0m:\u001b[36m__init__\u001b[0m:\u001b[36m64\u001b[0m - \u001b[1mOctreeDataset(/home/matt/work/tlsPT/data/plot_octrees/allen-poland/octrees/allen-poland-plot_splits-tr0.7-val0.15-te0.15_seed0.csv, train, 1.5): found 13 plots for 'train' out of 14 plots defined in split file\u001b[0m\n",
      "\u001b[32m2024-11-22 19:46:11.420\u001b[0m | \u001b[1mINFO    \u001b[0m | \u001b[36mtlspt.structures.file_octree\u001b[0m:\u001b[36m__init__\u001b[0m:\u001b[36m155\u001b[0m - \u001b[1mInitializing octree from <class 'str'> /home/matt/work/tlsPT/data/plot_octrees/allen-poland/octrees/POL10_2021-08-17.PROJ_1,5m/POL10_2021-08-17.PROJ.json\u001b[0m\n",
      "\u001b[32m2024-11-22 19:46:11.460\u001b[0m | \u001b[1mINFO    \u001b[0m | \u001b[36mtlspt.structures.file_octree\u001b[0m:\u001b[36m__init__\u001b[0m:\u001b[36m155\u001b[0m - \u001b[1mInitializing octree from <class 'str'> /home/matt/work/tlsPT/data/plot_octrees/allen-poland/octrees/POL13_2021-08-27.PROJ_1,5m/POL13_2021-08-27.PROJ.json\u001b[0m\n",
      "\u001b[32m2024-11-22 19:46:11.671\u001b[0m | \u001b[1mINFO    \u001b[0m | \u001b[36mtlspt.structures.file_octree\u001b[0m:\u001b[36m__init__\u001b[0m:\u001b[36m155\u001b[0m - \u001b[1mInitializing octree from <class 'str'> /home/matt/work/tlsPT/data/plot_octrees/allen-poland/octrees/POL15_2021-08-22.PROJ_1,5m/POL15_2021-08-22.PROJ.json\u001b[0m\n",
      "\u001b[32m2024-11-22 19:46:11.744\u001b[0m | \u001b[1mINFO    \u001b[0m | \u001b[36mtlspt.structures.file_octree\u001b[0m:\u001b[36m__init__\u001b[0m:\u001b[36m155\u001b[0m - \u001b[1mInitializing octree from <class 'str'> /home/matt/work/tlsPT/data/plot_octrees/allen-poland/octrees/POL20_2021-08-25.PROJ_1,5m/POL20_2021-08-25.PROJ.json\u001b[0m\n",
      "\u001b[32m2024-11-22 19:46:11.787\u001b[0m | \u001b[1mINFO    \u001b[0m | \u001b[36mtlspt.structures.file_octree\u001b[0m:\u001b[36m__init__\u001b[0m:\u001b[36m155\u001b[0m - \u001b[1mInitializing octree from <class 'str'> /home/matt/work/tlsPT/data/plot_octrees/allen-poland/octrees/POL21_2021-08-25.PROJ_1,5m/POL21_2021-08-25.PROJ.json\u001b[0m\n",
      "\u001b[32m2024-11-22 19:46:11.852\u001b[0m | \u001b[1mINFO    \u001b[0m | \u001b[36mtlspt.structures.file_octree\u001b[0m:\u001b[36m__init__\u001b[0m:\u001b[36m155\u001b[0m - \u001b[1mInitializing octree from <class 'str'> /home/matt/work/tlsPT/data/plot_octrees/allen-poland/octrees/POL24_2021-08-21.PROJ_1,5m/POL24_2021-08-21.PROJ.json\u001b[0m\n",
      "\u001b[32m2024-11-22 19:46:11.915\u001b[0m | \u001b[1mINFO    \u001b[0m | \u001b[36mtlspt.structures.file_octree\u001b[0m:\u001b[36m__init__\u001b[0m:\u001b[36m155\u001b[0m - \u001b[1mInitializing octree from <class 'str'> /home/matt/work/tlsPT/data/plot_octrees/allen-poland/octrees/POL26_2021-08-24.PROJ_1,5m/POL26_2021-08-24.PROJ.json\u001b[0m\n",
      "\u001b[32m2024-11-22 19:46:11.958\u001b[0m | \u001b[1mINFO    \u001b[0m | \u001b[36mtlspt.structures.file_octree\u001b[0m:\u001b[36m__init__\u001b[0m:\u001b[36m155\u001b[0m - \u001b[1mInitializing octree from <class 'str'> /home/matt/work/tlsPT/data/plot_octrees/allen-poland/octrees/POL29_2021-08-27.PROJ_1,5m/POL29_2021-08-27.PROJ.json\u001b[0m\n",
      "\u001b[32m2024-11-22 19:46:12.172\u001b[0m | \u001b[1mINFO    \u001b[0m | \u001b[36mtlspt.structures.file_octree\u001b[0m:\u001b[36m__init__\u001b[0m:\u001b[36m155\u001b[0m - \u001b[1mInitializing octree from <class 'str'> /home/matt/work/tlsPT/data/plot_octrees/allen-poland/octrees/POL31_2021-08-18.PROJ_1,5m/POL31_2021-08-18.PROJ.json\u001b[0m\n",
      "\u001b[32m2024-11-22 19:46:12.217\u001b[0m | \u001b[1mINFO    \u001b[0m | \u001b[36mtlspt.structures.file_octree\u001b[0m:\u001b[36m__init__\u001b[0m:\u001b[36m155\u001b[0m - \u001b[1mInitializing octree from <class 'str'> /home/matt/work/tlsPT/data/plot_octrees/allen-poland/octrees/POL32_2021-08-22.PROJ_1,5m/POL32_2021-08-22.PROJ.json\u001b[0m\n",
      "\u001b[32m2024-11-22 19:46:12.297\u001b[0m | \u001b[1mINFO    \u001b[0m | \u001b[36mtlspt.structures.file_octree\u001b[0m:\u001b[36m__init__\u001b[0m:\u001b[36m155\u001b[0m - \u001b[1mInitializing octree from <class 'str'> /home/matt/work/tlsPT/data/plot_octrees/allen-poland/octrees/POL34_2021-08-24.PROJ_1,5m/POL34_2021-08-24.PROJ.json\u001b[0m\n",
      "\u001b[32m2024-11-22 19:46:12.337\u001b[0m | \u001b[1mINFO    \u001b[0m | \u001b[36mtlspt.structures.file_octree\u001b[0m:\u001b[36m__init__\u001b[0m:\u001b[36m155\u001b[0m - \u001b[1mInitializing octree from <class 'str'> /home/matt/work/tlsPT/data/plot_octrees/allen-poland/octrees/POL35_2021-08-20.PROJ_1,5m/POL35_2021-08-20.PROJ.json\u001b[0m\n",
      "\u001b[32m2024-11-22 19:46:12.382\u001b[0m | \u001b[1mINFO    \u001b[0m | \u001b[36mtlspt.structures.file_octree\u001b[0m:\u001b[36m__init__\u001b[0m:\u001b[36m155\u001b[0m - \u001b[1mInitializing octree from <class 'str'> /home/matt/work/tlsPT/data/plot_octrees/allen-poland/octrees/POL37_2021-08-19.PROJ_1,5m/POL37_2021-08-19.PROJ.json\u001b[0m\n",
      "\u001b[32m2024-11-22 19:46:12.680\u001b[0m | \u001b[1mINFO    \u001b[0m | \u001b[36mtlspt.utils\u001b[0m:\u001b[36m__init__\u001b[0m:\u001b[36m37\u001b[0m - \u001b[1mCreating directory for stats_file /home/matt/work/tlsPT/data/plot_octrees/allen-poland/octrees/stats/stats_08ef31ff1a3ac.pkl\u001b[0m\n",
      "\u001b[32m2024-11-22 19:46:12.681\u001b[0m | \u001b[1mINFO    \u001b[0m | \u001b[36mtlspt.datamodules.components.base_site\u001b[0m:\u001b[36m__init__\u001b[0m:\u001b[36m49\u001b[0m - \u001b[1mOctreeDataset(/home/matt/work/tlsPT/data/plot_octrees/allen-spain/octrees/allen-spain-plot_splits-tr0.7-val0.15-te0.15_seed0.csv, train, 1.5): reading splits from /home/matt/work/tlsPT/data/plot_octrees/allen-spain/octrees/allen-spain-plot_splits-tr0.7-val0.15-te0.15_seed0.csv\u001b[0m\n",
      "\u001b[32m2024-11-22 19:46:12.683\u001b[0m | \u001b[1mINFO    \u001b[0m | \u001b[36mtlspt.datamodules.components.base_site\u001b[0m:\u001b[36m__init__\u001b[0m:\u001b[36m56\u001b[0m - \u001b[1mOctreeDataset(/home/matt/work/tlsPT/data/plot_octrees/allen-spain/octrees/allen-spain-plot_splits-tr0.7-val0.15-te0.15_seed0.csv, train, 1.5): looking for 14 folders in /home/matt/work/tlsPT/data/plot_octrees/allen-spain/octrees/\u001b[0m\n",
      "\u001b[32m2024-11-22 19:46:12.683\u001b[0m | \u001b[1mINFO    \u001b[0m | \u001b[36mtlspt.datamodules.components.base_site\u001b[0m:\u001b[36m__init__\u001b[0m:\u001b[36m64\u001b[0m - \u001b[1mOctreeDataset(/home/matt/work/tlsPT/data/plot_octrees/allen-spain/octrees/allen-spain-plot_splits-tr0.7-val0.15-te0.15_seed0.csv, train, 1.5): found 14 plots for 'train' out of 14 plots defined in split file\u001b[0m\n",
      "\u001b[32m2024-11-22 19:46:12.684\u001b[0m | \u001b[1mINFO    \u001b[0m | \u001b[36mtlspt.structures.file_octree\u001b[0m:\u001b[36m__init__\u001b[0m:\u001b[36m155\u001b[0m - \u001b[1mInitializing octree from <class 'str'> /home/matt/work/tlsPT/data/plot_octrees/allen-spain/octrees/SPA01_1,5m/SPA01.json\u001b[0m\n",
      "\u001b[32m2024-11-22 19:46:12.727\u001b[0m | \u001b[1mINFO    \u001b[0m | \u001b[36mtlspt.structures.file_octree\u001b[0m:\u001b[36m__init__\u001b[0m:\u001b[36m155\u001b[0m - \u001b[1mInitializing octree from <class 'str'> /home/matt/work/tlsPT/data/plot_octrees/allen-spain/octrees/SPA04_1,5m/SPA04.json\u001b[0m\n",
      "\u001b[32m2024-11-22 19:46:12.940\u001b[0m | \u001b[1mINFO    \u001b[0m | \u001b[36mtlspt.structures.file_octree\u001b[0m:\u001b[36m__init__\u001b[0m:\u001b[36m155\u001b[0m - \u001b[1mInitializing octree from <class 'str'> /home/matt/work/tlsPT/data/plot_octrees/allen-spain/octrees/SPA05_1,5m/SPA05.json\u001b[0m\n",
      "\u001b[32m2024-11-22 19:46:12.986\u001b[0m | \u001b[1mINFO    \u001b[0m | \u001b[36mtlspt.structures.file_octree\u001b[0m:\u001b[36m__init__\u001b[0m:\u001b[36m155\u001b[0m - \u001b[1mInitializing octree from <class 'str'> /home/matt/work/tlsPT/data/plot_octrees/allen-spain/octrees/SPA06_1,5m/SPA06.json\u001b[0m\n",
      "\u001b[32m2024-11-22 19:46:13.025\u001b[0m | \u001b[1mINFO    \u001b[0m | \u001b[36mtlspt.structures.file_octree\u001b[0m:\u001b[36m__init__\u001b[0m:\u001b[36m155\u001b[0m - \u001b[1mInitializing octree from <class 'str'> /home/matt/work/tlsPT/data/plot_octrees/allen-spain/octrees/SPA13_1,5m/SPA13.json\u001b[0m\n",
      "\u001b[32m2024-11-22 19:46:13.044\u001b[0m | \u001b[1mINFO    \u001b[0m | \u001b[36mtlspt.structures.file_octree\u001b[0m:\u001b[36m__init__\u001b[0m:\u001b[36m155\u001b[0m - \u001b[1mInitializing octree from <class 'str'> /home/matt/work/tlsPT/data/plot_octrees/allen-spain/octrees/SPA16_1,5m/SPA16.json\u001b[0m\n",
      "\u001b[32m2024-11-22 19:46:13.075\u001b[0m | \u001b[1mINFO    \u001b[0m | \u001b[36mtlspt.structures.file_octree\u001b[0m:\u001b[36m__init__\u001b[0m:\u001b[36m155\u001b[0m - \u001b[1mInitializing octree from <class 'str'> /home/matt/work/tlsPT/data/plot_octrees/allen-spain/octrees/SPA17_1,5m/SPA17.json\u001b[0m\n",
      "\u001b[32m2024-11-22 19:46:13.105\u001b[0m | \u001b[1mINFO    \u001b[0m | \u001b[36mtlspt.structures.file_octree\u001b[0m:\u001b[36m__init__\u001b[0m:\u001b[36m155\u001b[0m - \u001b[1mInitializing octree from <class 'str'> /home/matt/work/tlsPT/data/plot_octrees/allen-spain/octrees/SPA23_1,5m/SPA23.json\u001b[0m\n",
      "\u001b[32m2024-11-22 19:46:13.120\u001b[0m | \u001b[1mINFO    \u001b[0m | \u001b[36mtlspt.structures.file_octree\u001b[0m:\u001b[36m__init__\u001b[0m:\u001b[36m155\u001b[0m - \u001b[1mInitializing octree from <class 'str'> /home/matt/work/tlsPT/data/plot_octrees/allen-spain/octrees/SPA25_1,5m/SPA25.json\u001b[0m\n",
      "\u001b[32m2024-11-22 19:46:13.157\u001b[0m | \u001b[1mINFO    \u001b[0m | \u001b[36mtlspt.structures.file_octree\u001b[0m:\u001b[36m__init__\u001b[0m:\u001b[36m155\u001b[0m - \u001b[1mInitializing octree from <class 'str'> /home/matt/work/tlsPT/data/plot_octrees/allen-spain/octrees/SPA26_1,5m/SPA26.json\u001b[0m\n",
      "\u001b[32m2024-11-22 19:46:13.182\u001b[0m | \u001b[1mINFO    \u001b[0m | \u001b[36mtlspt.structures.file_octree\u001b[0m:\u001b[36m__init__\u001b[0m:\u001b[36m155\u001b[0m - \u001b[1mInitializing octree from <class 'str'> /home/matt/work/tlsPT/data/plot_octrees/allen-spain/octrees/SPA27_1,5m/SPA27.json\u001b[0m\n",
      "\u001b[32m2024-11-22 19:46:13.200\u001b[0m | \u001b[1mINFO    \u001b[0m | \u001b[36mtlspt.structures.file_octree\u001b[0m:\u001b[36m__init__\u001b[0m:\u001b[36m155\u001b[0m - \u001b[1mInitializing octree from <class 'str'> /home/matt/work/tlsPT/data/plot_octrees/allen-spain/octrees/SPA32_1,5m/SPA32.json\u001b[0m\n",
      "\u001b[32m2024-11-22 19:46:13.215\u001b[0m | \u001b[1mINFO    \u001b[0m | \u001b[36mtlspt.structures.file_octree\u001b[0m:\u001b[36m__init__\u001b[0m:\u001b[36m155\u001b[0m - \u001b[1mInitializing octree from <class 'str'> /home/matt/work/tlsPT/data/plot_octrees/allen-spain/octrees/SPA35_1,5m/SPA35.json\u001b[0m\n",
      "\u001b[32m2024-11-22 19:46:13.232\u001b[0m | \u001b[1mINFO    \u001b[0m | \u001b[36mtlspt.structures.file_octree\u001b[0m:\u001b[36m__init__\u001b[0m:\u001b[36m155\u001b[0m - \u001b[1mInitializing octree from <class 'str'> /home/matt/work/tlsPT/data/plot_octrees/allen-spain/octrees/SPA36_1,5m/SPA36.json\u001b[0m\n",
      "\u001b[32m2024-11-22 19:46:13.388\u001b[0m | \u001b[1mINFO    \u001b[0m | \u001b[36mtlspt.utils\u001b[0m:\u001b[36m__init__\u001b[0m:\u001b[36m37\u001b[0m - \u001b[1mCreating directory for stats_file /home/matt/work/tlsPT/data/plot_octrees/allen-spain/octrees/stats/stats_2bcef508d2905.pkl\u001b[0m\n"
     ]
    }
   ],
   "source": [
    "merged_dataset = MergedOctreeDataset(\n",
    "    split_files=['/home/matt/work/tlsPT/data/plot_octrees/allen-finland/octrees/allen-finland-plot_splits-tr0.7-val0.15-te0.15_seed0.csv',\n",
    "                 '/home/matt/work/tlsPT/data/plot_octrees/allen-poland/octrees/allen-poland-plot_splits-tr0.7-val0.15-te0.15_seed0.csv',\n",
    "                 '/home/matt/work/tlsPT/data/plot_octrees/allen-spain/octrees/allen-spain-plot_splits-tr0.7-val0.15-te0.15_seed0.csv'],\n",
    "    split='train',\n",
    "    scales=[1.5, 1.5, 1.5],\n",
    "    feature_names=None,\n",
    "    normalize=True,\n",
    "    transform=UniformDownsample(num_points=1024, replace=\"resample_as_req\")\n",
    ")"
   ]
  },
  {
   "cell_type": "code",
   "execution_count": 18,
   "metadata": {},
   "outputs": [],
   "source": [
    "merged_dataloader = DataLoader(merged_dataset, batch_size=128, shuffle=True, num_workers=0)"
   ]
  },
  {
   "cell_type": "code",
   "execution_count": 19,
   "metadata": {},
   "outputs": [
    {
     "name": "stdout",
     "output_type": "stream",
     "text": [
      "CPU times: user 6min 21s, sys: 13.8 s, total: 6min 35s\n",
      "Wall time: 26.2 s\n"
     ]
    }
   ],
   "source": [
    "%%time \n",
    "for i, batch in enumerate(merged_dataloader):\n",
    "    if i > 5:\n",
    "        break\n",
    "    pass"
   ]
  },
  {
   "cell_type": "code",
   "execution_count": 20,
   "metadata": {},
   "outputs": [],
   "source": [
    "from tlspt.transforms import HDF5ChunkSampler"
   ]
  },
  {
   "cell_type": "code",
   "execution_count": 21,
   "metadata": {},
   "outputs": [],
   "source": [
    "sampler = HDF5ChunkSampler(8192)"
   ]
  },
  {
   "cell_type": "code",
   "execution_count": 22,
   "metadata": {},
   "outputs": [
    {
     "name": "stdout",
     "output_type": "stream",
     "text": [
      "(12288, 13312) 1024\n",
      "(14336, 15360) 1024\n",
      "(26624, 27648) 1024\n",
      "(30720, 31744) 1024\n",
      "(33792, 34816) 1024\n",
      "(35840, 36864) 1024\n",
      "(38912, 39936) 1024\n",
      "(43008, 44032) 1024\n",
      "8192\n"
     ]
    }
   ],
   "source": [
    "idx = sampler(1024, 53111)\n",
    "for x in idx:\n",
    "    print(x, x[1]-x[0])\n",
    "\n",
    "print(sum([x[1]-x[0] for x in idx]))"
   ]
  },
  {
   "cell_type": "code",
   "execution_count": 23,
   "metadata": {},
   "outputs": [],
   "source": [
    "from tlspt.datamodules.components.octree_dataset import OctreeDatasetHdf5\n",
    "from tlspt.transforms import Padder\n",
    "\n",
    "import importlib"
   ]
  },
  {
   "cell_type": "code",
   "execution_count": 24,
   "metadata": {},
   "outputs": [
    {
     "name": "stdout",
     "output_type": "stream",
     "text": [
      "\u001b[32m2024-11-22 19:46:40.910\u001b[0m | \u001b[1mINFO    \u001b[0m | \u001b[36mtlspt.datamodules.components.base_site\u001b[0m:\u001b[36m__init__\u001b[0m:\u001b[36m49\u001b[0m - \u001b[1mOctreeDatasetHdf5(../data/plot_octrees/allen-spain/octrees/allen-spain-plot_splits-tr0.7-val0.15-te0.15_seed0.csv, train, 1.5): reading splits from ../data/plot_octrees/allen-spain/octrees/allen-spain-plot_splits-tr0.7-val0.15-te0.15_seed0.csv\u001b[0m\n",
      "\u001b[32m2024-11-22 19:46:40.912\u001b[0m | \u001b[1mINFO    \u001b[0m | \u001b[36mtlspt.datamodules.components.base_site\u001b[0m:\u001b[36m__init__\u001b[0m:\u001b[36m56\u001b[0m - \u001b[1mOctreeDatasetHdf5(../data/plot_octrees/allen-spain/octrees/allen-spain-plot_splits-tr0.7-val0.15-te0.15_seed0.csv, train, 1.5): looking for 14 folders in ../data/plot_octrees/allen-spain/octrees/\u001b[0m\n",
      "\u001b[32m2024-11-22 19:46:40.913\u001b[0m | \u001b[1mINFO    \u001b[0m | \u001b[36mtlspt.datamodules.components.base_site\u001b[0m:\u001b[36m__init__\u001b[0m:\u001b[36m64\u001b[0m - \u001b[1mOctreeDatasetHdf5(../data/plot_octrees/allen-spain/octrees/allen-spain-plot_splits-tr0.7-val0.15-te0.15_seed0.csv, train, 1.5): found 14 plots for 'train' out of 14 plots defined in split file\u001b[0m\n",
      "\u001b[32m2024-11-22 19:46:40.914\u001b[0m | \u001b[1mINFO    \u001b[0m | \u001b[36mtlspt.structures.file_octree\u001b[0m:\u001b[36m__init__\u001b[0m:\u001b[36m155\u001b[0m - \u001b[1mInitializing octree from <class 'str'> ../data/plot_octrees/allen-spain/octrees/SPA01_1,5m/SPA01.json\u001b[0m\n",
      "\u001b[32m2024-11-22 19:46:40.970\u001b[0m | \u001b[1mINFO    \u001b[0m | \u001b[36mtlspt.utils\u001b[0m:\u001b[36m__init__\u001b[0m:\u001b[36m37\u001b[0m - \u001b[1mCreating directory for stats_file ../data/plot_octrees/allen-spain/octrees/stats/stats_333b10a0a3137.pkl\u001b[0m\n",
      "\u001b[32m2024-11-22 19:46:40.972\u001b[0m | \u001b[1mINFO    \u001b[0m | \u001b[36mtlspt.utils\u001b[0m:\u001b[36m__init__\u001b[0m:\u001b[36m37\u001b[0m - \u001b[1mCreating directory for stats_file ../data/plot_octrees/allen-spain/octrees/stats/stats_333b10a0a3137.pkl\u001b[0m\n"
     ]
    }
   ],
   "source": [
    "site_dataset_hdf5 = OctreeDatasetHdf5(split_file='../data/plot_octrees/allen-spain/octrees/allen-spain-plot_splits-tr0.7-val0.15-te0.15_seed0.csv',\n",
    "                                 split='train',\n",
    "                                 feature_names=['red', 'green', 'blue', 'scalar_pathlength', 'scalar_distance', 'scalar_label'],\n",
    "                                 features_to_normalize=['red', 'green', 'blue'],\n",
    "                                 scale=1.5,\n",
    "                                 idx_sampler=HDF5ChunkSampler(8192),\n",
    "                                 transform=Padder(num_points=8192),\n",
    "                                 plots_keep=['SPA01'])"
   ]
  },
  {
   "cell_type": "code",
   "execution_count": 25,
   "metadata": {},
   "outputs": [
    {
     "name": "stdout",
     "output_type": "stream",
     "text": [
      "torch.Size([8192, 3]) torch.Size([8192, 6])\n"
     ]
    }
   ],
   "source": [
    "p, f = site_dataset_hdf5.load_item(7)\n",
    "print(p.shape, f.shape)"
   ]
  },
  {
   "cell_type": "code",
   "execution_count": 26,
   "metadata": {},
   "outputs": [
    {
     "name": "stdout",
     "output_type": "stream",
     "text": [
      "\u001b[32m2024-11-22 19:46:41.214\u001b[0m | \u001b[1mINFO    \u001b[0m | \u001b[36mtlspt.utils\u001b[0m:\u001b[36mprepare_data\u001b[0m:\u001b[36m246\u001b[0m - \u001b[1mreading stats from ../data/plot_octrees/allen-spain/octrees/stats/stats_333b10a0a3137.pkl\u001b[0m\n",
      "\u001b[32m2024-11-22 19:46:41.215\u001b[0m | \u001b[1mINFO    \u001b[0m | \u001b[36mtlspt.utils\u001b[0m:\u001b[36mprepare_data\u001b[0m:\u001b[36m247\u001b[0m - \u001b[1mfor dataset OctreeDatasetHdf5.{'features_to_normalize': ['red', 'green', 'blue']}.train.333b10a0a3137\u001b[0m\n",
      "\u001b[32m2024-11-22 19:46:41.216\u001b[0m | \u001b[1mINFO    \u001b[0m | \u001b[36mtlspt.utils\u001b[0m:\u001b[36mprepare_data\u001b[0m:\u001b[36m256\u001b[0m - \u001b[1mmean: tensor([0.5659, 0.5654, 0.5750,    nan,    nan,    nan])\u001b[0m\n",
      "\u001b[32m2024-11-22 19:46:41.217\u001b[0m | \u001b[1mINFO    \u001b[0m | \u001b[36mtlspt.utils\u001b[0m:\u001b[36mprepare_data\u001b[0m:\u001b[36m257\u001b[0m - \u001b[1mstd: tensor([0.3076, 0.3576, 0.2889,    nan,    nan,    nan])\u001b[0m\n",
      "\u001b[32m2024-11-22 19:46:41.218\u001b[0m | \u001b[1mINFO    \u001b[0m | \u001b[36mtlspt.utils\u001b[0m:\u001b[36mprepare_data\u001b[0m:\u001b[36m261\u001b[0m - \u001b[1mtorch.float32\u001b[0m\n",
      "\u001b[32m2024-11-22 19:46:41.218\u001b[0m | \u001b[1mINFO    \u001b[0m | \u001b[36mtlspt.utils\u001b[0m:\u001b[36mprepare_data\u001b[0m:\u001b[36m265\u001b[0m - \u001b[1mDataset has 6 features named ['red', 'green', 'blue', 'scalar_pathlength', 'scalar_distance', 'scalar_label']. \n",
      " Normalizing ['red', 'green', 'blue'] by mean+std. \u001b[0m\n",
      "\u001b[32m2024-11-22 19:46:41.218\u001b[0m | \u001b[1mINFO    \u001b[0m | \u001b[36mtlspt.utils\u001b[0m:\u001b[36mprepare_data\u001b[0m:\u001b[36m268\u001b[0m - \u001b[1m3 channels will be zero centered and scaled to [-1,1].\u001b[0m\n"
     ]
    }
   ],
   "source": [
    "site_dataset_hdf5.prepare_data(force_compute=False)"
   ]
  },
  {
   "cell_type": "code",
   "execution_count": 27,
   "metadata": {},
   "outputs": [
    {
     "name": "stdout",
     "output_type": "stream",
     "text": [
      "torch.Size([8192, 3])\n",
      "torch.Size([8192, 6])\n",
      "3864\n"
     ]
    }
   ],
   "source": [
    "print(site_dataset_hdf5[1]['points'].shape)\n",
    "print(site_dataset_hdf5[1]['features'].shape)\n",
    "print(site_dataset_hdf5[1]['lengths'])"
   ]
  },
  {
   "cell_type": "code",
   "execution_count": 28,
   "metadata": {},
   "outputs": [],
   "source": [
    "# #3D scatter plot \n",
    "# fig = plt.figure(figsize=(10, 10))\n",
    "\n",
    "# ax = fig.add_subplot(111, projection='3d')\n",
    "# i=np.random.randint(0, len(site_dataset_hdf5))\n",
    "# ax.scatter(site_dataset_hdf5[i]['points'][:, 0], site_dataset_hdf5[i]['points'][:, 1], site_dataset_hdf5[i]['points'][:, 2], c=site_dataset_hdf5[i]['features'][:, -1], cmap='viridis', alpha=1, s=5)"
   ]
  },
  {
   "cell_type": "code",
   "execution_count": 29,
   "metadata": {},
   "outputs": [
    {
     "name": "stdout",
     "output_type": "stream",
     "text": [
      "\u001b[32m2024-11-22 19:46:41.723\u001b[0m | \u001b[1mINFO    \u001b[0m | \u001b[36mtlspt.datamodules.components.base_site\u001b[0m:\u001b[36m__init__\u001b[0m:\u001b[36m49\u001b[0m - \u001b[1mOctreeDatasetHdf5(/home/matt/work/tlsPT/data/plot_octrees/allen-finland/octrees/allen-finland-plot_splits-tr0.7-val0.15-te0.15_seed0.csv, train, 1.5): reading splits from /home/matt/work/tlsPT/data/plot_octrees/allen-finland/octrees/allen-finland-plot_splits-tr0.7-val0.15-te0.15_seed0.csv\u001b[0m\n",
      "\u001b[32m2024-11-22 19:46:41.725\u001b[0m | \u001b[1mINFO    \u001b[0m | \u001b[36mtlspt.datamodules.components.base_site\u001b[0m:\u001b[36m__init__\u001b[0m:\u001b[36m56\u001b[0m - \u001b[1mOctreeDatasetHdf5(/home/matt/work/tlsPT/data/plot_octrees/allen-finland/octrees/allen-finland-plot_splits-tr0.7-val0.15-te0.15_seed0.csv, train, 1.5): looking for 12 folders in /home/matt/work/tlsPT/data/plot_octrees/allen-finland/octrees/\u001b[0m\n",
      "\u001b[32m2024-11-22 19:46:41.726\u001b[0m | \u001b[1mINFO    \u001b[0m | \u001b[36mtlspt.datamodules.components.base_site\u001b[0m:\u001b[36m__init__\u001b[0m:\u001b[36m64\u001b[0m - \u001b[1mOctreeDatasetHdf5(/home/matt/work/tlsPT/data/plot_octrees/allen-finland/octrees/allen-finland-plot_splits-tr0.7-val0.15-te0.15_seed0.csv, train, 1.5): found 12 plots for 'train' out of 12 plots defined in split file\u001b[0m\n",
      "\u001b[32m2024-11-22 19:46:41.727\u001b[0m | \u001b[1mINFO    \u001b[0m | \u001b[36mtlspt.structures.file_octree\u001b[0m:\u001b[36m__init__\u001b[0m:\u001b[36m155\u001b[0m - \u001b[1mInitializing octree from <class 'str'> /home/matt/work/tlsPT/data/plot_octrees/allen-finland/octrees/FIN02_1,5m/FIN02.json\u001b[0m\n",
      "\u001b[32m2024-11-22 19:46:41.792\u001b[0m | \u001b[1mINFO    \u001b[0m | \u001b[36mtlspt.structures.file_octree\u001b[0m:\u001b[36m__init__\u001b[0m:\u001b[36m155\u001b[0m - \u001b[1mInitializing octree from <class 'str'> /home/matt/work/tlsPT/data/plot_octrees/allen-finland/octrees/FIN04_1,5m/FIN04.json\u001b[0m\n",
      "\u001b[32m2024-11-22 19:46:42.076\u001b[0m | \u001b[1mINFO    \u001b[0m | \u001b[36mtlspt.structures.file_octree\u001b[0m:\u001b[36m__init__\u001b[0m:\u001b[36m155\u001b[0m - \u001b[1mInitializing octree from <class 'str'> /home/matt/work/tlsPT/data/plot_octrees/allen-finland/octrees/FIN09_1,5m/FIN09.json\u001b[0m\n",
      "\u001b[32m2024-11-22 19:46:42.124\u001b[0m | \u001b[1mINFO    \u001b[0m | \u001b[36mtlspt.structures.file_octree\u001b[0m:\u001b[36m__init__\u001b[0m:\u001b[36m155\u001b[0m - \u001b[1mInitializing octree from <class 'str'> /home/matt/work/tlsPT/data/plot_octrees/allen-finland/octrees/FIN10_1,5m/FIN10.json\u001b[0m\n",
      "\u001b[32m2024-11-22 19:46:42.181\u001b[0m | \u001b[1mINFO    \u001b[0m | \u001b[36mtlspt.structures.file_octree\u001b[0m:\u001b[36m__init__\u001b[0m:\u001b[36m155\u001b[0m - \u001b[1mInitializing octree from <class 'str'> /home/matt/work/tlsPT/data/plot_octrees/allen-finland/octrees/FIN12_1,5m/FIN12.json\u001b[0m\n",
      "\u001b[32m2024-11-22 19:46:42.237\u001b[0m | \u001b[1mINFO    \u001b[0m | \u001b[36mtlspt.structures.file_octree\u001b[0m:\u001b[36m__init__\u001b[0m:\u001b[36m155\u001b[0m - \u001b[1mInitializing octree from <class 'str'> /home/matt/work/tlsPT/data/plot_octrees/allen-finland/octrees/FIN13_1,5m/FIN13.json\u001b[0m\n",
      "\u001b[32m2024-11-22 19:46:42.292\u001b[0m | \u001b[1mINFO    \u001b[0m | \u001b[36mtlspt.structures.file_octree\u001b[0m:\u001b[36m__init__\u001b[0m:\u001b[36m155\u001b[0m - \u001b[1mInitializing octree from <class 'str'> /home/matt/work/tlsPT/data/plot_octrees/allen-finland/octrees/FIN15_1,5m/FIN15.json\u001b[0m\n",
      "\u001b[32m2024-11-22 19:46:42.353\u001b[0m | \u001b[1mINFO    \u001b[0m | \u001b[36mtlspt.structures.file_octree\u001b[0m:\u001b[36m__init__\u001b[0m:\u001b[36m155\u001b[0m - \u001b[1mInitializing octree from <class 'str'> /home/matt/work/tlsPT/data/plot_octrees/allen-finland/octrees/FIN21_1,5m/FIN21.json\u001b[0m\n",
      "\u001b[32m2024-11-22 19:46:42.423\u001b[0m | \u001b[1mINFO    \u001b[0m | \u001b[36mtlspt.structures.file_octree\u001b[0m:\u001b[36m__init__\u001b[0m:\u001b[36m155\u001b[0m - \u001b[1mInitializing octree from <class 'str'> /home/matt/work/tlsPT/data/plot_octrees/allen-finland/octrees/FIN24_1,5m/FIN24.json\u001b[0m\n",
      "\u001b[32m2024-11-22 19:46:42.490\u001b[0m | \u001b[1mINFO    \u001b[0m | \u001b[36mtlspt.structures.file_octree\u001b[0m:\u001b[36m__init__\u001b[0m:\u001b[36m155\u001b[0m - \u001b[1mInitializing octree from <class 'str'> /home/matt/work/tlsPT/data/plot_octrees/allen-finland/octrees/FIN25_1,5m/FIN25.json\u001b[0m\n",
      "\u001b[32m2024-11-22 19:46:42.545\u001b[0m | \u001b[1mINFO    \u001b[0m | \u001b[36mtlspt.structures.file_octree\u001b[0m:\u001b[36m__init__\u001b[0m:\u001b[36m155\u001b[0m - \u001b[1mInitializing octree from <class 'str'> /home/matt/work/tlsPT/data/plot_octrees/allen-finland/octrees/FIN27_1,5m/FIN27.json\u001b[0m\n",
      "\u001b[32m2024-11-22 19:46:42.837\u001b[0m | \u001b[1mINFO    \u001b[0m | \u001b[36mtlspt.structures.file_octree\u001b[0m:\u001b[36m__init__\u001b[0m:\u001b[36m155\u001b[0m - \u001b[1mInitializing octree from <class 'str'> /home/matt/work/tlsPT/data/plot_octrees/allen-finland/octrees/FIN28_1,5m/FIN28.json\u001b[0m\n",
      "\u001b[32m2024-11-22 19:46:43.147\u001b[0m | \u001b[1mINFO    \u001b[0m | \u001b[36mtlspt.utils\u001b[0m:\u001b[36m__init__\u001b[0m:\u001b[36m37\u001b[0m - \u001b[1mCreating directory for stats_file /home/matt/work/tlsPT/data/plot_octrees/allen-finland/octrees/stats/stats_2b3da51b9e876.pkl\u001b[0m\n",
      "\u001b[32m2024-11-22 19:46:43.173\u001b[0m | \u001b[1mINFO    \u001b[0m | \u001b[36mtlspt.utils\u001b[0m:\u001b[36m__init__\u001b[0m:\u001b[36m37\u001b[0m - \u001b[1mCreating directory for stats_file /home/matt/work/tlsPT/data/plot_octrees/allen-finland/octrees/stats/stats_2b3da51b9e876.pkl\u001b[0m\n",
      "\u001b[32m2024-11-22 19:46:43.174\u001b[0m | \u001b[1mINFO    \u001b[0m | \u001b[36mtlspt.datamodules.components.base_site\u001b[0m:\u001b[36m__init__\u001b[0m:\u001b[36m49\u001b[0m - \u001b[1mOctreeDatasetHdf5(/home/matt/work/tlsPT/data/plot_octrees/allen-poland/octrees/allen-poland-plot_splits-tr0.7-val0.15-te0.15_seed0.csv, train, 1.5): reading splits from /home/matt/work/tlsPT/data/plot_octrees/allen-poland/octrees/allen-poland-plot_splits-tr0.7-val0.15-te0.15_seed0.csv\u001b[0m\n",
      "\u001b[32m2024-11-22 19:46:43.176\u001b[0m | \u001b[1mINFO    \u001b[0m | \u001b[36mtlspt.datamodules.components.base_site\u001b[0m:\u001b[36m__init__\u001b[0m:\u001b[36m56\u001b[0m - \u001b[1mOctreeDatasetHdf5(/home/matt/work/tlsPT/data/plot_octrees/allen-poland/octrees/allen-poland-plot_splits-tr0.7-val0.15-te0.15_seed0.csv, train, 1.5): looking for 14 folders in /home/matt/work/tlsPT/data/plot_octrees/allen-poland/octrees/\u001b[0m\n",
      "\u001b[32m2024-11-22 19:46:43.177\u001b[0m | \u001b[33m\u001b[1mWARNING \u001b[0m | \u001b[36mtlspt.datamodules.components.base_site\u001b[0m:\u001b[36mcheck_discrepancies_between_expected_files_and_folder_files\u001b[0m:\u001b[36m108\u001b[0m - \u001b[33m\u001b[1mOctreeDatasetHdf5(/home/matt/work/tlsPT/data/plot_octrees/allen-poland/octrees/allen-poland-plot_splits-tr0.7-val0.15-te0.15_seed0.csv, train, 1.5): There are 1 discrepancies\u001b[0m\n",
      "\u001b[32m2024-11-22 19:46:43.177\u001b[0m | \u001b[1mINFO    \u001b[0m | \u001b[36mtlspt.datamodules.components.base_site\u001b[0m:\u001b[36m__init__\u001b[0m:\u001b[36m64\u001b[0m - \u001b[1mOctreeDatasetHdf5(/home/matt/work/tlsPT/data/plot_octrees/allen-poland/octrees/allen-poland-plot_splits-tr0.7-val0.15-te0.15_seed0.csv, train, 1.5): found 13 plots for 'train' out of 14 plots defined in split file\u001b[0m\n",
      "\u001b[32m2024-11-22 19:46:43.178\u001b[0m | \u001b[1mINFO    \u001b[0m | \u001b[36mtlspt.structures.file_octree\u001b[0m:\u001b[36m__init__\u001b[0m:\u001b[36m155\u001b[0m - \u001b[1mInitializing octree from <class 'str'> /home/matt/work/tlsPT/data/plot_octrees/allen-poland/octrees/POL10_2021-08-17.PROJ_1,5m/POL10_2021-08-17.PROJ.json\u001b[0m\n",
      "\u001b[32m2024-11-22 19:46:43.216\u001b[0m | \u001b[1mINFO    \u001b[0m | \u001b[36mtlspt.structures.file_octree\u001b[0m:\u001b[36m__init__\u001b[0m:\u001b[36m155\u001b[0m - \u001b[1mInitializing octree from <class 'str'> /home/matt/work/tlsPT/data/plot_octrees/allen-poland/octrees/POL13_2021-08-27.PROJ_1,5m/POL13_2021-08-27.PROJ.json\u001b[0m\n",
      "\u001b[32m2024-11-22 19:46:43.284\u001b[0m | \u001b[1mINFO    \u001b[0m | \u001b[36mtlspt.structures.file_octree\u001b[0m:\u001b[36m__init__\u001b[0m:\u001b[36m155\u001b[0m - \u001b[1mInitializing octree from <class 'str'> /home/matt/work/tlsPT/data/plot_octrees/allen-poland/octrees/POL15_2021-08-22.PROJ_1,5m/POL15_2021-08-22.PROJ.json\u001b[0m\n",
      "\u001b[32m2024-11-22 19:46:43.357\u001b[0m | \u001b[1mINFO    \u001b[0m | \u001b[36mtlspt.structures.file_octree\u001b[0m:\u001b[36m__init__\u001b[0m:\u001b[36m155\u001b[0m - \u001b[1mInitializing octree from <class 'str'> /home/matt/work/tlsPT/data/plot_octrees/allen-poland/octrees/POL20_2021-08-25.PROJ_1,5m/POL20_2021-08-25.PROJ.json\u001b[0m\n",
      "\u001b[32m2024-11-22 19:46:43.403\u001b[0m | \u001b[1mINFO    \u001b[0m | \u001b[36mtlspt.structures.file_octree\u001b[0m:\u001b[36m__init__\u001b[0m:\u001b[36m155\u001b[0m - \u001b[1mInitializing octree from <class 'str'> /home/matt/work/tlsPT/data/plot_octrees/allen-poland/octrees/POL21_2021-08-25.PROJ_1,5m/POL21_2021-08-25.PROJ.json\u001b[0m\n",
      "\u001b[32m2024-11-22 19:46:43.467\u001b[0m | \u001b[1mINFO    \u001b[0m | \u001b[36mtlspt.structures.file_octree\u001b[0m:\u001b[36m__init__\u001b[0m:\u001b[36m155\u001b[0m - \u001b[1mInitializing octree from <class 'str'> /home/matt/work/tlsPT/data/plot_octrees/allen-poland/octrees/POL24_2021-08-21.PROJ_1,5m/POL24_2021-08-21.PROJ.json\u001b[0m\n",
      "\u001b[32m2024-11-22 19:46:43.530\u001b[0m | \u001b[1mINFO    \u001b[0m | \u001b[36mtlspt.structures.file_octree\u001b[0m:\u001b[36m__init__\u001b[0m:\u001b[36m155\u001b[0m - \u001b[1mInitializing octree from <class 'str'> /home/matt/work/tlsPT/data/plot_octrees/allen-poland/octrees/POL26_2021-08-24.PROJ_1,5m/POL26_2021-08-24.PROJ.json\u001b[0m\n",
      "\u001b[32m2024-11-22 19:46:43.574\u001b[0m | \u001b[1mINFO    \u001b[0m | \u001b[36mtlspt.structures.file_octree\u001b[0m:\u001b[36m__init__\u001b[0m:\u001b[36m155\u001b[0m - \u001b[1mInitializing octree from <class 'str'> /home/matt/work/tlsPT/data/plot_octrees/allen-poland/octrees/POL29_2021-08-27.PROJ_1,5m/POL29_2021-08-27.PROJ.json\u001b[0m\n",
      "\u001b[32m2024-11-22 19:46:43.878\u001b[0m | \u001b[1mINFO    \u001b[0m | \u001b[36mtlspt.structures.file_octree\u001b[0m:\u001b[36m__init__\u001b[0m:\u001b[36m155\u001b[0m - \u001b[1mInitializing octree from <class 'str'> /home/matt/work/tlsPT/data/plot_octrees/allen-poland/octrees/POL31_2021-08-18.PROJ_1,5m/POL31_2021-08-18.PROJ.json\u001b[0m\n",
      "\u001b[32m2024-11-22 19:46:43.926\u001b[0m | \u001b[1mINFO    \u001b[0m | \u001b[36mtlspt.structures.file_octree\u001b[0m:\u001b[36m__init__\u001b[0m:\u001b[36m155\u001b[0m - \u001b[1mInitializing octree from <class 'str'> /home/matt/work/tlsPT/data/plot_octrees/allen-poland/octrees/POL32_2021-08-22.PROJ_1,5m/POL32_2021-08-22.PROJ.json\u001b[0m\n",
      "\u001b[32m2024-11-22 19:46:44.007\u001b[0m | \u001b[1mINFO    \u001b[0m | \u001b[36mtlspt.structures.file_octree\u001b[0m:\u001b[36m__init__\u001b[0m:\u001b[36m155\u001b[0m - \u001b[1mInitializing octree from <class 'str'> /home/matt/work/tlsPT/data/plot_octrees/allen-poland/octrees/POL34_2021-08-24.PROJ_1,5m/POL34_2021-08-24.PROJ.json\u001b[0m\n",
      "\u001b[32m2024-11-22 19:46:44.050\u001b[0m | \u001b[1mINFO    \u001b[0m | \u001b[36mtlspt.structures.file_octree\u001b[0m:\u001b[36m__init__\u001b[0m:\u001b[36m155\u001b[0m - \u001b[1mInitializing octree from <class 'str'> /home/matt/work/tlsPT/data/plot_octrees/allen-poland/octrees/POL35_2021-08-20.PROJ_1,5m/POL35_2021-08-20.PROJ.json\u001b[0m\n",
      "\u001b[32m2024-11-22 19:46:44.099\u001b[0m | \u001b[1mINFO    \u001b[0m | \u001b[36mtlspt.structures.file_octree\u001b[0m:\u001b[36m__init__\u001b[0m:\u001b[36m155\u001b[0m - \u001b[1mInitializing octree from <class 'str'> /home/matt/work/tlsPT/data/plot_octrees/allen-poland/octrees/POL37_2021-08-19.PROJ_1,5m/POL37_2021-08-19.PROJ.json\u001b[0m\n",
      "\u001b[32m2024-11-22 19:46:44.389\u001b[0m | \u001b[1mINFO    \u001b[0m | \u001b[36mtlspt.utils\u001b[0m:\u001b[36m__init__\u001b[0m:\u001b[36m37\u001b[0m - \u001b[1mCreating directory for stats_file /home/matt/work/tlsPT/data/plot_octrees/allen-poland/octrees/stats/stats_2c2dfdc29040f.pkl\u001b[0m\n",
      "\u001b[32m2024-11-22 19:46:44.416\u001b[0m | \u001b[1mINFO    \u001b[0m | \u001b[36mtlspt.utils\u001b[0m:\u001b[36m__init__\u001b[0m:\u001b[36m37\u001b[0m - \u001b[1mCreating directory for stats_file /home/matt/work/tlsPT/data/plot_octrees/allen-poland/octrees/stats/stats_2c2dfdc29040f.pkl\u001b[0m\n",
      "\u001b[32m2024-11-22 19:46:44.417\u001b[0m | \u001b[1mINFO    \u001b[0m | \u001b[36mtlspt.datamodules.components.base_site\u001b[0m:\u001b[36m__init__\u001b[0m:\u001b[36m49\u001b[0m - \u001b[1mOctreeDatasetHdf5(/home/matt/work/tlsPT/data/plot_octrees/allen-spain/octrees/allen-spain-plot_splits-tr0.7-val0.15-te0.15_seed0.csv, train, 1.5): reading splits from /home/matt/work/tlsPT/data/plot_octrees/allen-spain/octrees/allen-spain-plot_splits-tr0.7-val0.15-te0.15_seed0.csv\u001b[0m\n",
      "\u001b[32m2024-11-22 19:46:44.419\u001b[0m | \u001b[1mINFO    \u001b[0m | \u001b[36mtlspt.datamodules.components.base_site\u001b[0m:\u001b[36m__init__\u001b[0m:\u001b[36m56\u001b[0m - \u001b[1mOctreeDatasetHdf5(/home/matt/work/tlsPT/data/plot_octrees/allen-spain/octrees/allen-spain-plot_splits-tr0.7-val0.15-te0.15_seed0.csv, train, 1.5): looking for 14 folders in /home/matt/work/tlsPT/data/plot_octrees/allen-spain/octrees/\u001b[0m\n",
      "\u001b[32m2024-11-22 19:46:44.420\u001b[0m | \u001b[1mINFO    \u001b[0m | \u001b[36mtlspt.datamodules.components.base_site\u001b[0m:\u001b[36m__init__\u001b[0m:\u001b[36m64\u001b[0m - \u001b[1mOctreeDatasetHdf5(/home/matt/work/tlsPT/data/plot_octrees/allen-spain/octrees/allen-spain-plot_splits-tr0.7-val0.15-te0.15_seed0.csv, train, 1.5): found 14 plots for 'train' out of 14 plots defined in split file\u001b[0m\n",
      "\u001b[32m2024-11-22 19:46:44.420\u001b[0m | \u001b[1mINFO    \u001b[0m | \u001b[36mtlspt.structures.file_octree\u001b[0m:\u001b[36m__init__\u001b[0m:\u001b[36m155\u001b[0m - \u001b[1mInitializing octree from <class 'str'> /home/matt/work/tlsPT/data/plot_octrees/allen-spain/octrees/SPA01_1,5m/SPA01.json\u001b[0m\n",
      "\u001b[32m2024-11-22 19:46:44.463\u001b[0m | \u001b[1mINFO    \u001b[0m | \u001b[36mtlspt.structures.file_octree\u001b[0m:\u001b[36m__init__\u001b[0m:\u001b[36m155\u001b[0m - \u001b[1mInitializing octree from <class 'str'> /home/matt/work/tlsPT/data/plot_octrees/allen-spain/octrees/SPA04_1,5m/SPA04.json\u001b[0m\n",
      "\u001b[32m2024-11-22 19:46:44.503\u001b[0m | \u001b[1mINFO    \u001b[0m | \u001b[36mtlspt.structures.file_octree\u001b[0m:\u001b[36m__init__\u001b[0m:\u001b[36m155\u001b[0m - \u001b[1mInitializing octree from <class 'str'> /home/matt/work/tlsPT/data/plot_octrees/allen-spain/octrees/SPA05_1,5m/SPA05.json\u001b[0m\n",
      "\u001b[32m2024-11-22 19:46:44.547\u001b[0m | \u001b[1mINFO    \u001b[0m | \u001b[36mtlspt.structures.file_octree\u001b[0m:\u001b[36m__init__\u001b[0m:\u001b[36m155\u001b[0m - \u001b[1mInitializing octree from <class 'str'> /home/matt/work/tlsPT/data/plot_octrees/allen-spain/octrees/SPA06_1,5m/SPA06.json\u001b[0m\n",
      "\u001b[32m2024-11-22 19:46:44.587\u001b[0m | \u001b[1mINFO    \u001b[0m | \u001b[36mtlspt.structures.file_octree\u001b[0m:\u001b[36m__init__\u001b[0m:\u001b[36m155\u001b[0m - \u001b[1mInitializing octree from <class 'str'> /home/matt/work/tlsPT/data/plot_octrees/allen-spain/octrees/SPA13_1,5m/SPA13.json\u001b[0m\n",
      "\u001b[32m2024-11-22 19:46:44.607\u001b[0m | \u001b[1mINFO    \u001b[0m | \u001b[36mtlspt.structures.file_octree\u001b[0m:\u001b[36m__init__\u001b[0m:\u001b[36m155\u001b[0m - \u001b[1mInitializing octree from <class 'str'> /home/matt/work/tlsPT/data/plot_octrees/allen-spain/octrees/SPA16_1,5m/SPA16.json\u001b[0m\n",
      "\u001b[32m2024-11-22 19:46:44.637\u001b[0m | \u001b[1mINFO    \u001b[0m | \u001b[36mtlspt.structures.file_octree\u001b[0m:\u001b[36m__init__\u001b[0m:\u001b[36m155\u001b[0m - \u001b[1mInitializing octree from <class 'str'> /home/matt/work/tlsPT/data/plot_octrees/allen-spain/octrees/SPA17_1,5m/SPA17.json\u001b[0m\n",
      "\u001b[32m2024-11-22 19:46:44.945\u001b[0m | \u001b[1mINFO    \u001b[0m | \u001b[36mtlspt.structures.file_octree\u001b[0m:\u001b[36m__init__\u001b[0m:\u001b[36m155\u001b[0m - \u001b[1mInitializing octree from <class 'str'> /home/matt/work/tlsPT/data/plot_octrees/allen-spain/octrees/SPA23_1,5m/SPA23.json\u001b[0m\n",
      "\u001b[32m2024-11-22 19:46:44.962\u001b[0m | \u001b[1mINFO    \u001b[0m | \u001b[36mtlspt.structures.file_octree\u001b[0m:\u001b[36m__init__\u001b[0m:\u001b[36m155\u001b[0m - \u001b[1mInitializing octree from <class 'str'> /home/matt/work/tlsPT/data/plot_octrees/allen-spain/octrees/SPA25_1,5m/SPA25.json\u001b[0m\n",
      "\u001b[32m2024-11-22 19:46:45.002\u001b[0m | \u001b[1mINFO    \u001b[0m | \u001b[36mtlspt.structures.file_octree\u001b[0m:\u001b[36m__init__\u001b[0m:\u001b[36m155\u001b[0m - \u001b[1mInitializing octree from <class 'str'> /home/matt/work/tlsPT/data/plot_octrees/allen-spain/octrees/SPA26_1,5m/SPA26.json\u001b[0m\n",
      "\u001b[32m2024-11-22 19:46:45.029\u001b[0m | \u001b[1mINFO    \u001b[0m | \u001b[36mtlspt.structures.file_octree\u001b[0m:\u001b[36m__init__\u001b[0m:\u001b[36m155\u001b[0m - \u001b[1mInitializing octree from <class 'str'> /home/matt/work/tlsPT/data/plot_octrees/allen-spain/octrees/SPA27_1,5m/SPA27.json\u001b[0m\n",
      "\u001b[32m2024-11-22 19:46:45.047\u001b[0m | \u001b[1mINFO    \u001b[0m | \u001b[36mtlspt.structures.file_octree\u001b[0m:\u001b[36m__init__\u001b[0m:\u001b[36m155\u001b[0m - \u001b[1mInitializing octree from <class 'str'> /home/matt/work/tlsPT/data/plot_octrees/allen-spain/octrees/SPA32_1,5m/SPA32.json\u001b[0m\n",
      "\u001b[32m2024-11-22 19:46:45.063\u001b[0m | \u001b[1mINFO    \u001b[0m | \u001b[36mtlspt.structures.file_octree\u001b[0m:\u001b[36m__init__\u001b[0m:\u001b[36m155\u001b[0m - \u001b[1mInitializing octree from <class 'str'> /home/matt/work/tlsPT/data/plot_octrees/allen-spain/octrees/SPA35_1,5m/SPA35.json\u001b[0m\n",
      "\u001b[32m2024-11-22 19:46:45.083\u001b[0m | \u001b[1mINFO    \u001b[0m | \u001b[36mtlspt.structures.file_octree\u001b[0m:\u001b[36m__init__\u001b[0m:\u001b[36m155\u001b[0m - \u001b[1mInitializing octree from <class 'str'> /home/matt/work/tlsPT/data/plot_octrees/allen-spain/octrees/SPA36_1,5m/SPA36.json\u001b[0m\n",
      "\u001b[32m2024-11-22 19:46:45.240\u001b[0m | \u001b[1mINFO    \u001b[0m | \u001b[36mtlspt.utils\u001b[0m:\u001b[36m__init__\u001b[0m:\u001b[36m37\u001b[0m - \u001b[1mCreating directory for stats_file /home/matt/work/tlsPT/data/plot_octrees/allen-spain/octrees/stats/stats_13439670db7a0.pkl\u001b[0m\n",
      "\u001b[32m2024-11-22 19:46:45.254\u001b[0m | \u001b[1mINFO    \u001b[0m | \u001b[36mtlspt.utils\u001b[0m:\u001b[36m__init__\u001b[0m:\u001b[36m37\u001b[0m - \u001b[1mCreating directory for stats_file /home/matt/work/tlsPT/data/plot_octrees/allen-spain/octrees/stats/stats_13439670db7a0.pkl\u001b[0m\n"
     ]
    }
   ],
   "source": [
    "merged_dataset_hdf5 = MergedOctreeDataset(\n",
    "    split_files=['/home/matt/work/tlsPT/data/plot_octrees/allen-finland/octrees/allen-finland-plot_splits-tr0.7-val0.15-te0.15_seed0.csv',\n",
    "                 '/home/matt/work/tlsPT/data/plot_octrees/allen-poland/octrees/allen-poland-plot_splits-tr0.7-val0.15-te0.15_seed0.csv',\n",
    "                 '/home/matt/work/tlsPT/data/plot_octrees/allen-spain/octrees/allen-spain-plot_splits-tr0.7-val0.15-te0.15_seed0.csv'],\n",
    "    split='train',\n",
    "    scales=[1.5, 1.5, 1.5],\n",
    "    feature_names=None,\n",
    "    normalize=True,\n",
    "    hdf5=True,\n",
    "    idx_sampler=HDF5ChunkSampler(8192),\n",
    "    transform=Padder(num_points=8192)\n",
    ")"
   ]
  },
  {
   "cell_type": "code",
   "execution_count": 30,
   "metadata": {},
   "outputs": [],
   "source": [
    "merged_dataloader_hdf5 = DataLoader(merged_dataset_hdf5, batch_size=128, shuffle=True, num_workers=0)"
   ]
  },
  {
   "cell_type": "code",
   "execution_count": 33,
   "metadata": {},
   "outputs": [
    {
     "name": "stdout",
     "output_type": "stream",
     "text": [
      "CPU times: user 11min 8s, sys: 23.1 s, total: 11min 31s\n",
      "Wall time: 46.1 s\n"
     ]
    }
   ],
   "source": [
    "%%time \n",
    "for i, batch in enumerate(merged_dataloader):\n",
    "    if i > 10:\n",
    "        break\n",
    "    pass"
   ]
  },
  {
   "cell_type": "code",
   "execution_count": 34,
   "metadata": {},
   "outputs": [
    {
     "name": "stdout",
     "output_type": "stream",
     "text": [
      "CPU times: user 4min 55s, sys: 10.6 s, total: 5min 6s\n",
      "Wall time: 41.1 s\n"
     ]
    }
   ],
   "source": [
    "%%time \n",
    "for i, batch in enumerate(merged_dataloader_hdf5):\n",
    "    if i > 10:\n",
    "        break\n",
    "    pass"
   ]
  },
  {
   "cell_type": "code",
   "execution_count": null,
   "metadata": {},
   "outputs": [],
   "source": []
  }
 ],
 "metadata": {
  "kernelspec": {
   "display_name": "tlspt",
   "language": "python",
   "name": "python3"
  },
  "language_info": {
   "codemirror_mode": {
    "name": "ipython",
    "version": 3
   },
   "file_extension": ".py",
   "mimetype": "text/x-python",
   "name": "python",
   "nbconvert_exporter": "python",
   "pygments_lexer": "ipython3",
   "version": "3.9.20"
  }
 },
 "nbformat": 4,
 "nbformat_minor": 2
}
