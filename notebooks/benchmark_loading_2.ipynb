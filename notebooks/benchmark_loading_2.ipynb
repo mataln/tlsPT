{
 "cells": [
  {
   "cell_type": "code",
   "execution_count": 1,
   "metadata": {},
   "outputs": [
    {
     "data": {
      "text/plain": [
       "1"
      ]
     },
     "execution_count": 1,
     "metadata": {},
     "output_type": "execute_result"
    }
   ],
   "source": [
    "from tlspt.datamodules.components.numpy_dataset import NumpyDataset\n",
    "from tlspt.datamodules.components.base_site import BaseSiteDataset\n",
    "from tlspt.datamodules.components.octree_dataset import OctreeDataset\n",
    "from tlspt.datamodules.components.merged_dataset import MergedOctreeDataset\n",
    "from tlspt.transforms import TLSSampler, UniformDownsample\n",
    "from tlspt.datamodules.single_datamodule import SingleDataModule\n",
    "\n",
    "from torch.utils.data import DataLoader\n",
    "\n",
    "from tlspt.datamodules.components.octree_dataset import OctreeDatasetHdf5\n",
    "from tlspt.transforms import Padder, HDF5ChunkSampler\n",
    "\n",
    "from matplotlib import pyplot as plt\n",
    "\n",
    "from loguru import logger\n",
    "\n",
    "import sys\n",
    "import numpy as np\n",
    "import time\n",
    "\n",
    "logger.remove()  # Remove the default handler\n",
    "logger.add(sys.stdout, level=\"INFO\")"
   ]
  },
  {
   "cell_type": "code",
   "execution_count": 2,
   "metadata": {},
   "outputs": [],
   "source": [
    "plots_keep = ['SPA01', 'SPA02', 'SPA03', 'SPA04', 'SPA05', 'SPA06']\n",
    "feature_names = None\n",
    "features_to_normalize = None\n",
    "num_points = 8192\n",
    "batch_size = 128"
   ]
  },
  {
   "cell_type": "code",
   "execution_count": null,
   "metadata": {},
   "outputs": [],
   "source": [
    "ply_dataset_disk = OctreeDataset(split_file='../data/plot_octrees/allen-spain/octrees/allen-spain-plot_splits-tr0.7-val0.15-te0.15_seed0.csv',\n",
    "                                 split='train',\n",
    "                                 feature_names=feature_names,\n",
    "                                 features_to_normalize=features_to_normalize,\n",
    "                                 scale=1.5,\n",
    "                                 transform=UniformDownsample(num_points=num_points, replace=\"resample_as_req\"),\n",
    "                                 plots_keep=plots_keep)\n",
    "ply_dataset_disk.prepare_data(force_compute=False)\n",
    "ply_dataloader_disk = DataLoader(ply_dataset_disk, num_workers=0, batch_size=batch_size, shuffle=True)"
   ]
  },
  {
   "cell_type": "code",
   "execution_count": null,
   "metadata": {},
   "outputs": [],
   "source": [
    "ply_dataset_memory = OctreeDataset(split_file='../data/plot_octrees/allen-spain/octrees/allen-spain-plot_splits-tr0.7-val0.15-te0.15_seed0.csv',\n",
    "                                 split='train',\n",
    "                                 feature_names=feature_names,\n",
    "                                 features_to_normalize=features_to_normalize,\n",
    "                                 scale=1.5,\n",
    "                                 transform=UniformDownsample(num_points=num_points, replace=\"resample_as_req\"),\n",
    "                                 plots_keep=plots_keep,\n",
    "                                 in_memory=True)\n",
    "ply_dataset_memory.prepare_data(force_compute=False)\n",
    "ply_dataloader_memory = DataLoader(ply_dataset_disk, num_workers=0, batch_size=batch_size, shuffle=True)"
   ]
  },
  {
   "cell_type": "code",
   "execution_count": 3,
   "metadata": {},
   "outputs": [
    {
     "name": "stdout",
     "output_type": "stream",
     "text": [
      "\u001b[32m2024-11-23 22:08:12.747\u001b[0m | \u001b[1mINFO    \u001b[0m | \u001b[36mtlspt.datamodules.components.base_site\u001b[0m:\u001b[36m__init__\u001b[0m:\u001b[36m49\u001b[0m - \u001b[1mOctreeDatasetHdf5(../data/plot_octrees/allen-spain/octrees/allen-spain-plot_splits-tr0.7-val0.15-te0.15_seed0.csv, train, 1.5): reading splits from ../data/plot_octrees/allen-spain/octrees/allen-spain-plot_splits-tr0.7-val0.15-te0.15_seed0.csv\u001b[0m\n",
      "\u001b[32m2024-11-23 22:08:12.761\u001b[0m | \u001b[1mINFO    \u001b[0m | \u001b[36mtlspt.datamodules.components.base_site\u001b[0m:\u001b[36m__init__\u001b[0m:\u001b[36m56\u001b[0m - \u001b[1mOctreeDatasetHdf5(../data/plot_octrees/allen-spain/octrees/allen-spain-plot_splits-tr0.7-val0.15-te0.15_seed0.csv, train, 1.5): looking for 14 folders in ../data/plot_octrees/allen-spain/octrees/\u001b[0m\n",
      "\u001b[32m2024-11-23 22:08:12.763\u001b[0m | \u001b[1mINFO    \u001b[0m | \u001b[36mtlspt.datamodules.components.base_site\u001b[0m:\u001b[36m__init__\u001b[0m:\u001b[36m64\u001b[0m - \u001b[1mOctreeDatasetHdf5(../data/plot_octrees/allen-spain/octrees/allen-spain-plot_splits-tr0.7-val0.15-te0.15_seed0.csv, train, 1.5): found 14 plots for 'train' out of 14 plots defined in split file\u001b[0m\n",
      "\u001b[32m2024-11-23 22:08:12.765\u001b[0m | \u001b[1mINFO    \u001b[0m | \u001b[36mtlspt.structures.file_octree\u001b[0m:\u001b[36m__init__\u001b[0m:\u001b[36m155\u001b[0m - \u001b[1mInitializing octree from <class 'str'> ../data/plot_octrees/allen-spain/octrees/SPA01_1,5m/SPA01.json\u001b[0m\n",
      "\u001b[32m2024-11-23 22:08:12.890\u001b[0m | \u001b[1mINFO    \u001b[0m | \u001b[36mtlspt.structures.file_octree\u001b[0m:\u001b[36m__init__\u001b[0m:\u001b[36m155\u001b[0m - \u001b[1mInitializing octree from <class 'str'> ../data/plot_octrees/allen-spain/octrees/SPA04_1,5m/SPA04.json\u001b[0m\n",
      "\u001b[32m2024-11-23 22:08:12.964\u001b[0m | \u001b[1mINFO    \u001b[0m | \u001b[36mtlspt.structures.file_octree\u001b[0m:\u001b[36m__init__\u001b[0m:\u001b[36m155\u001b[0m - \u001b[1mInitializing octree from <class 'str'> ../data/plot_octrees/allen-spain/octrees/SPA05_1,5m/SPA05.json\u001b[0m\n",
      "\u001b[32m2024-11-23 22:08:13.046\u001b[0m | \u001b[1mINFO    \u001b[0m | \u001b[36mtlspt.structures.file_octree\u001b[0m:\u001b[36m__init__\u001b[0m:\u001b[36m155\u001b[0m - \u001b[1mInitializing octree from <class 'str'> ../data/plot_octrees/allen-spain/octrees/SPA06_1,5m/SPA06.json\u001b[0m\n",
      "\u001b[32m2024-11-23 22:08:13.280\u001b[0m | \u001b[1mINFO    \u001b[0m | \u001b[36mtlspt.utils\u001b[0m:\u001b[36m__init__\u001b[0m:\u001b[36m37\u001b[0m - \u001b[1mCreating directory for stats_file ../data/plot_octrees/allen-spain/octrees/stats/stats_1e8a76cab6d75.pkl\u001b[0m\n",
      "\u001b[32m2024-11-23 22:08:13.297\u001b[0m | \u001b[1mINFO    \u001b[0m | \u001b[36mtlspt.utils\u001b[0m:\u001b[36m__init__\u001b[0m:\u001b[36m37\u001b[0m - \u001b[1mCreating directory for stats_file ../data/plot_octrees/allen-spain/octrees/stats/stats_1e8a76cab6d75.pkl\u001b[0m\n",
      "\u001b[32m2024-11-23 22:08:13.299\u001b[0m | \u001b[1mINFO    \u001b[0m | \u001b[36mtlspt.utils\u001b[0m:\u001b[36mprepare_data\u001b[0m:\u001b[36m196\u001b[0m - \u001b[1mNo features to normalize\u001b[0m\n"
     ]
    }
   ],
   "source": [
    "hdf5_dataset_disk = OctreeDatasetHdf5(split_file='../data/plot_octrees/allen-spain/octrees/allen-spain-plot_splits-tr0.7-val0.15-te0.15_seed0.csv',\n",
    "                                 split='train',\n",
    "                                 feature_names=feature_names,\n",
    "                                 features_to_normalize=features_to_normalize,\n",
    "                                 scale=1.5,\n",
    "                                 idx_sampler=HDF5ChunkSampler(num_points=num_points),\n",
    "                                 transform=Padder(num_points=num_points),\n",
    "                                 plots_keep=plots_keep)\n",
    "hdf5_dataset_disk.prepare_data(force_compute=False)\n",
    "hdf5_dataloader_disk = DataLoader(hdf5_dataset_disk, num_workers=0, batch_size=batch_size, shuffle=True)"
   ]
  },
  {
   "cell_type": "code",
   "execution_count": null,
   "metadata": {},
   "outputs": [],
   "source": [
    "%%time \n",
    "for i, batch in enumerate(ply_dataloader_disk):\n",
    "    print(batch['points'].shape)\n",
    "    if i > 10:\n",
    "        break\n",
    "    pass"
   ]
  },
  {
   "cell_type": "code",
   "execution_count": 4,
   "metadata": {},
   "outputs": [
    {
     "name": "stdout",
     "output_type": "stream",
     "text": [
      "torch.Size([128, 8192, 3])\n",
      "torch.Size([128, 8192, 3])\n",
      "torch.Size([128, 8192, 3])\n",
      "torch.Size([128, 8192, 3])\n",
      "torch.Size([128, 8192, 3])\n",
      "torch.Size([128, 8192, 3])\n",
      "torch.Size([128, 8192, 3])\n",
      "torch.Size([128, 8192, 3])\n",
      "torch.Size([128, 8192, 3])\n",
      "torch.Size([128, 8192, 3])\n",
      "torch.Size([128, 8192, 3])\n",
      "torch.Size([128, 8192, 3])\n",
      "CPU times: user 4min 37s, sys: 16.6 s, total: 4min 54s\n",
      "Wall time: 50.9 s\n"
     ]
    }
   ],
   "source": [
    "%%time \n",
    "for i, batch in enumerate(hdf5_dataloader_disk):\n",
    "    print(batch['points'].shape)\n",
    "    if i > 10:\n",
    "        break\n",
    "    pass"
   ]
  },
  {
   "cell_type": "code",
   "execution_count": null,
   "metadata": {},
   "outputs": [],
   "source": [
    "%%time \n",
    "for i, batch in enumerate(ply_dataloader_memory):\n",
    "    print(batch['points'].shape)\n",
    "    if i > 10:\n",
    "        break\n",
    "    pass"
   ]
  },
  {
   "cell_type": "code",
   "execution_count": null,
   "metadata": {},
   "outputs": [],
   "source": [
    "print(ply_dataloader_disk.dataset.in_memory)"
   ]
  },
  {
   "cell_type": "code",
   "execution_count": null,
   "metadata": {},
   "outputs": [],
   "source": [
    "print(ply_dataloader_memory.dataset.in_memory)"
   ]
  }
 ],
 "metadata": {
  "kernelspec": {
   "display_name": "tlspt",
   "language": "python",
   "name": "python3"
  },
  "language_info": {
   "codemirror_mode": {
    "name": "ipython",
    "version": 3
   },
   "file_extension": ".py",
   "mimetype": "text/x-python",
   "name": "python",
   "nbconvert_exporter": "python",
   "pygments_lexer": "ipython3",
   "version": "3.9.20"
  }
 },
 "nbformat": 4,
 "nbformat_minor": 2
}
