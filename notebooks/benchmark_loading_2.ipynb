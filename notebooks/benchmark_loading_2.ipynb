{
 "cells": [
  {
   "cell_type": "code",
   "execution_count": 1,
   "metadata": {},
   "outputs": [
    {
     "data": {
      "text/plain": [
       "1"
      ]
     },
     "execution_count": 1,
     "metadata": {},
     "output_type": "execute_result"
    }
   ],
   "source": [
    "from tlspt.datamodules.components.numpy_dataset import NumpyDataset\n",
    "from tlspt.datamodules.components.base_site import BaseSiteDataset\n",
    "from tlspt.datamodules.components.octree_dataset import OctreeDataset\n",
    "from tlspt.datamodules.components.merged_dataset import MergedOctreeDataset\n",
    "from tlspt.transforms import TLSSampler, UniformDownsample\n",
    "from tlspt.datamodules.single_datamodule import SingleDataModule\n",
    "\n",
    "from torch.utils.data import DataLoader\n",
    "\n",
    "from tlspt.datamodules.components.octree_dataset import OctreeDatasetHdf5\n",
    "from tlspt.transforms import Padder, HDF5ChunkSampler\n",
    "\n",
    "from matplotlib import pyplot as plt\n",
    "\n",
    "from loguru import logger\n",
    "\n",
    "import sys\n",
    "import numpy as np\n",
    "import time\n",
    "\n",
    "logger.remove()  # Remove the default handler\n",
    "logger.add(sys.stdout, level=\"INFO\")"
   ]
  },
  {
   "cell_type": "code",
   "execution_count": 2,
   "metadata": {},
   "outputs": [],
   "source": [
    "plots_keep = ['SPA01', 'SPA19']\n",
    "feature_names = None\n",
    "features_to_normalize = None\n",
    "num_points = 8192\n",
    "batch_size = 64"
   ]
  },
  {
   "cell_type": "code",
   "execution_count": 3,
   "metadata": {},
   "outputs": [
    {
     "name": "stdout",
     "output_type": "stream",
     "text": [
      "\u001b[32m2024-11-23 20:42:07.742\u001b[0m | \u001b[1mINFO    \u001b[0m | \u001b[36mtlspt.datamodules.components.base_site\u001b[0m:\u001b[36m__init__\u001b[0m:\u001b[36m49\u001b[0m - \u001b[1mOctreeDataset(../data/plot_octrees/allen-spain/octrees/allen-spain-plot_splits-tr0.7-val0.15-te0.15_seed0.csv, train, 1.5): reading splits from ../data/plot_octrees/allen-spain/octrees/allen-spain-plot_splits-tr0.7-val0.15-te0.15_seed0.csv\u001b[0m\n",
      "\u001b[32m2024-11-23 20:42:07.748\u001b[0m | \u001b[1mINFO    \u001b[0m | \u001b[36mtlspt.datamodules.components.base_site\u001b[0m:\u001b[36m__init__\u001b[0m:\u001b[36m56\u001b[0m - \u001b[1mOctreeDataset(../data/plot_octrees/allen-spain/octrees/allen-spain-plot_splits-tr0.7-val0.15-te0.15_seed0.csv, train, 1.5): looking for 14 folders in ../data/plot_octrees/allen-spain/octrees/\u001b[0m\n",
      "\u001b[32m2024-11-23 20:42:07.753\u001b[0m | \u001b[1mINFO    \u001b[0m | \u001b[36mtlspt.datamodules.components.base_site\u001b[0m:\u001b[36m__init__\u001b[0m:\u001b[36m64\u001b[0m - \u001b[1mOctreeDataset(../data/plot_octrees/allen-spain/octrees/allen-spain-plot_splits-tr0.7-val0.15-te0.15_seed0.csv, train, 1.5): found 14 plots for 'train' out of 14 plots defined in split file\u001b[0m\n",
      "\u001b[32m2024-11-23 20:42:07.759\u001b[0m | \u001b[1mINFO    \u001b[0m | \u001b[36mtlspt.structures.file_octree\u001b[0m:\u001b[36m__init__\u001b[0m:\u001b[36m155\u001b[0m - \u001b[1mInitializing octree from <class 'str'> ../data/plot_octrees/allen-spain/octrees/SPA01_1,5m/SPA01.json\u001b[0m\n",
      "\u001b[32m2024-11-23 20:42:08.372\u001b[0m | \u001b[1mINFO    \u001b[0m | \u001b[36mtlspt.utils\u001b[0m:\u001b[36m__init__\u001b[0m:\u001b[36m37\u001b[0m - \u001b[1mCreating directory for stats_file ../data/plot_octrees/allen-spain/octrees/stats/stats_05011dc331988.pkl\u001b[0m\n",
      "\u001b[32m2024-11-23 20:42:08.375\u001b[0m | \u001b[1mINFO    \u001b[0m | \u001b[36mtlspt.utils\u001b[0m:\u001b[36mprepare_data\u001b[0m:\u001b[36m45\u001b[0m - \u001b[1mNo features to normalize\u001b[0m\n"
     ]
    }
   ],
   "source": [
    "ply_dataset_disk = OctreeDataset(split_file='../data/plot_octrees/allen-spain/octrees/allen-spain-plot_splits-tr0.7-val0.15-te0.15_seed0.csv',\n",
    "                                 split='train',\n",
    "                                 feature_names=feature_names,\n",
    "                                 features_to_normalize=features_to_normalize,\n",
    "                                 scale=1.5,\n",
    "                                 transform=UniformDownsample(num_points=num_points, replace=\"resample_as_req\"),\n",
    "                                 plots_keep=plots_keep)\n",
    "ply_dataset_disk.prepare_data(force_compute=False)\n",
    "ply_dataloader_disk = DataLoader(ply_dataset_disk, num_workers=0, batch_size=batch_size, shuffle=True)"
   ]
  },
  {
   "cell_type": "code",
   "execution_count": 4,
   "metadata": {},
   "outputs": [
    {
     "name": "stdout",
     "output_type": "stream",
     "text": [
      "\u001b[32m2024-11-23 20:42:08.701\u001b[0m | \u001b[1mINFO    \u001b[0m | \u001b[36mtlspt.datamodules.components.base_site\u001b[0m:\u001b[36m__init__\u001b[0m:\u001b[36m49\u001b[0m - \u001b[1mOctreeDataset(../data/plot_octrees/allen-spain/octrees/allen-spain-plot_splits-tr0.7-val0.15-te0.15_seed0.csv, train, 1.5): reading splits from ../data/plot_octrees/allen-spain/octrees/allen-spain-plot_splits-tr0.7-val0.15-te0.15_seed0.csv\u001b[0m\n",
      "\u001b[32m2024-11-23 20:42:08.705\u001b[0m | \u001b[1mINFO    \u001b[0m | \u001b[36mtlspt.datamodules.components.base_site\u001b[0m:\u001b[36m__init__\u001b[0m:\u001b[36m56\u001b[0m - \u001b[1mOctreeDataset(../data/plot_octrees/allen-spain/octrees/allen-spain-plot_splits-tr0.7-val0.15-te0.15_seed0.csv, train, 1.5): looking for 14 folders in ../data/plot_octrees/allen-spain/octrees/\u001b[0m\n",
      "\u001b[32m2024-11-23 20:42:08.707\u001b[0m | \u001b[1mINFO    \u001b[0m | \u001b[36mtlspt.datamodules.components.base_site\u001b[0m:\u001b[36m__init__\u001b[0m:\u001b[36m64\u001b[0m - \u001b[1mOctreeDataset(../data/plot_octrees/allen-spain/octrees/allen-spain-plot_splits-tr0.7-val0.15-te0.15_seed0.csv, train, 1.5): found 14 plots for 'train' out of 14 plots defined in split file\u001b[0m\n",
      "\u001b[32m2024-11-23 20:42:08.708\u001b[0m | \u001b[1mINFO    \u001b[0m | \u001b[36mtlspt.structures.file_octree\u001b[0m:\u001b[36m__init__\u001b[0m:\u001b[36m155\u001b[0m - \u001b[1mInitializing octree from <class 'str'> ../data/plot_octrees/allen-spain/octrees/SPA01_1,5m/SPA01.json\u001b[0m\n",
      "\u001b[32m2024-11-23 20:42:08.794\u001b[0m | \u001b[1mINFO    \u001b[0m | \u001b[36mtlspt.utils\u001b[0m:\u001b[36m__init__\u001b[0m:\u001b[36m37\u001b[0m - \u001b[1mCreating directory for stats_file ../data/plot_octrees/allen-spain/octrees/stats/stats_05011dc331988.pkl\u001b[0m\n",
      "\u001b[32m2024-11-23 20:42:08.795\u001b[0m | \u001b[1mINFO    \u001b[0m | \u001b[36mtlspt.datamodules.components.octree_dataset\u001b[0m:\u001b[36mload_all_data\u001b[0m:\u001b[36m164\u001b[0m - \u001b[1mLoading dataset into memory\u001b[0m\n",
      "\u001b[32m2024-11-23 20:42:08.796\u001b[0m | \u001b[1mINFO    \u001b[0m | \u001b[36mtlspt.datamodules.components.octree_dataset\u001b[0m:\u001b[36mload_all_data\u001b[0m:\u001b[36m167\u001b[0m - \u001b[1mUsing chunksize of 62 files across 24 workers\u001b[0m\n"
     ]
    },
    {
     "name": "stderr",
     "output_type": "stream",
     "text": [
      "100%|██████████| 1492/1492 [01:55<00:00, 12.94it/s] \n"
     ]
    },
    {
     "name": "stdout",
     "output_type": "stream",
     "text": [
      "\u001b[32m2024-11-23 20:44:04.853\u001b[0m | \u001b[1mINFO    \u001b[0m | \u001b[36mtlspt.datamodules.components.octree_dataset\u001b[0m:\u001b[36mload_all_data\u001b[0m:\u001b[36m177\u001b[0m - \u001b[1mDataset loaded into memory\u001b[0m\n",
      "\u001b[32m2024-11-23 20:44:04.864\u001b[0m | \u001b[1mINFO    \u001b[0m | \u001b[36mtlspt.utils\u001b[0m:\u001b[36mprepare_data\u001b[0m:\u001b[36m45\u001b[0m - \u001b[1mNo features to normalize\u001b[0m\n"
     ]
    }
   ],
   "source": [
    "ply_dataset_memory = OctreeDataset(split_file='../data/plot_octrees/allen-spain/octrees/allen-spain-plot_splits-tr0.7-val0.15-te0.15_seed0.csv',\n",
    "                                 split='train',\n",
    "                                 feature_names=feature_names,\n",
    "                                 features_to_normalize=features_to_normalize,\n",
    "                                 scale=1.5,\n",
    "                                 transform=UniformDownsample(num_points=num_points, replace=\"resample_as_req\"),\n",
    "                                 plots_keep=plots_keep,\n",
    "                                 in_memory=True)\n",
    "ply_dataset_memory.prepare_data(force_compute=False)\n",
    "ply_dataloader_memory = DataLoader(ply_dataset_disk, num_workers=0, batch_size=batch_size, shuffle=True)"
   ]
  },
  {
   "cell_type": "code",
   "execution_count": 5,
   "metadata": {},
   "outputs": [
    {
     "name": "stdout",
     "output_type": "stream",
     "text": [
      "\u001b[32m2024-11-23 20:44:04.899\u001b[0m | \u001b[1mINFO    \u001b[0m | \u001b[36mtlspt.datamodules.components.base_site\u001b[0m:\u001b[36m__init__\u001b[0m:\u001b[36m49\u001b[0m - \u001b[1mOctreeDatasetHdf5(../data/plot_octrees/allen-spain/octrees/allen-spain-plot_splits-tr0.7-val0.15-te0.15_seed0.csv, train, 1.5): reading splits from ../data/plot_octrees/allen-spain/octrees/allen-spain-plot_splits-tr0.7-val0.15-te0.15_seed0.csv\u001b[0m\n",
      "\u001b[32m2024-11-23 20:44:04.903\u001b[0m | \u001b[1mINFO    \u001b[0m | \u001b[36mtlspt.datamodules.components.base_site\u001b[0m:\u001b[36m__init__\u001b[0m:\u001b[36m56\u001b[0m - \u001b[1mOctreeDatasetHdf5(../data/plot_octrees/allen-spain/octrees/allen-spain-plot_splits-tr0.7-val0.15-te0.15_seed0.csv, train, 1.5): looking for 14 folders in ../data/plot_octrees/allen-spain/octrees/\u001b[0m\n",
      "\u001b[32m2024-11-23 20:44:04.904\u001b[0m | \u001b[1mINFO    \u001b[0m | \u001b[36mtlspt.datamodules.components.base_site\u001b[0m:\u001b[36m__init__\u001b[0m:\u001b[36m64\u001b[0m - \u001b[1mOctreeDatasetHdf5(../data/plot_octrees/allen-spain/octrees/allen-spain-plot_splits-tr0.7-val0.15-te0.15_seed0.csv, train, 1.5): found 14 plots for 'train' out of 14 plots defined in split file\u001b[0m\n",
      "\u001b[32m2024-11-23 20:44:04.905\u001b[0m | \u001b[1mINFO    \u001b[0m | \u001b[36mtlspt.structures.file_octree\u001b[0m:\u001b[36m__init__\u001b[0m:\u001b[36m155\u001b[0m - \u001b[1mInitializing octree from <class 'str'> ../data/plot_octrees/allen-spain/octrees/SPA01_1,5m/SPA01.json\u001b[0m\n",
      "\u001b[32m2024-11-23 20:44:05.055\u001b[0m | \u001b[1mINFO    \u001b[0m | \u001b[36mtlspt.utils\u001b[0m:\u001b[36m__init__\u001b[0m:\u001b[36m37\u001b[0m - \u001b[1mCreating directory for stats_file ../data/plot_octrees/allen-spain/octrees/stats/stats_1e8a76cab6d75.pkl\u001b[0m\n",
      "\u001b[32m2024-11-23 20:44:05.062\u001b[0m | \u001b[1mINFO    \u001b[0m | \u001b[36mtlspt.utils\u001b[0m:\u001b[36m__init__\u001b[0m:\u001b[36m37\u001b[0m - \u001b[1mCreating directory for stats_file ../data/plot_octrees/allen-spain/octrees/stats/stats_1e8a76cab6d75.pkl\u001b[0m\n",
      "\u001b[32m2024-11-23 20:44:05.063\u001b[0m | \u001b[1mINFO    \u001b[0m | \u001b[36mtlspt.utils\u001b[0m:\u001b[36mprepare_data\u001b[0m:\u001b[36m196\u001b[0m - \u001b[1mNo features to normalize\u001b[0m\n"
     ]
    }
   ],
   "source": [
    "hdf5_dataset_disk = OctreeDatasetHdf5(split_file='../data/plot_octrees/allen-spain/octrees/allen-spain-plot_splits-tr0.7-val0.15-te0.15_seed0.csv',\n",
    "                                 split='train',\n",
    "                                 feature_names=feature_names,\n",
    "                                 features_to_normalize=features_to_normalize,\n",
    "                                 scale=1.5,\n",
    "                                 idx_sampler=HDF5ChunkSampler(num_points=num_points),\n",
    "                                 transform=Padder(num_points=num_points),\n",
    "                                 plots_keep=plots_keep)\n",
    "hdf5_dataset_disk.prepare_data(force_compute=False)\n",
    "hdf5_dataloader_disk = DataLoader(hdf5_dataset_disk, num_workers=0, batch_size=batch_size, shuffle=True)"
   ]
  },
  {
   "cell_type": "code",
   "execution_count": null,
   "metadata": {},
   "outputs": [],
   "source": []
  }
 ],
 "metadata": {
  "kernelspec": {
   "display_name": "tlspt",
   "language": "python",
   "name": "python3"
  },
  "language_info": {
   "codemirror_mode": {
    "name": "ipython",
    "version": 3
   },
   "file_extension": ".py",
   "mimetype": "text/x-python",
   "name": "python",
   "nbconvert_exporter": "python",
   "pygments_lexer": "ipython3",
   "version": "3.9.20"
  }
 },
 "nbformat": 4,
 "nbformat_minor": 2
}
