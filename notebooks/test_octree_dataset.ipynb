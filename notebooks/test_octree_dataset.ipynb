{
 "cells": [
  {
   "cell_type": "code",
   "execution_count": 1,
   "metadata": {},
   "outputs": [],
   "source": [
    "from tlspt.datamodules.components.numpy_dataset import NumpyDataset\n",
    "from tlspt.datamodules.components.base_site import BaseSiteDataset\n",
    "from tlspt.datamodules.components.octree_dataset import OctreeDataset\n",
    "from tlspt.transforms import TLSSampler\n",
    "from matplotlib import pyplot as plt\n",
    "\n",
    "import numpy as np"
   ]
  },
  {
   "cell_type": "code",
   "execution_count": 2,
   "metadata": {},
   "outputs": [
    {
     "name": "stderr",
     "output_type": "stream",
     "text": [
      "\u001b[32m2024-11-08 22:00:46.933\u001b[0m | \u001b[1mINFO    \u001b[0m | \u001b[36mtlspt.datamodules.components.base_site\u001b[0m:\u001b[36m__init__\u001b[0m:\u001b[36m49\u001b[0m - \u001b[1mtest: reading splits from ../data/plot_octrees/allen-spain/octrees/allen-spain-plot_splits-tr0.7-val0.15-te0.15_seed0.csv\u001b[0m\n",
      "\u001b[32m2024-11-08 22:00:46.937\u001b[0m | \u001b[1mINFO    \u001b[0m | \u001b[36mtlspt.datamodules.components.base_site\u001b[0m:\u001b[36m__init__\u001b[0m:\u001b[36m56\u001b[0m - \u001b[1mtest: looking for 14 folders in ../data/plot_octrees/allen-spain/octrees/\u001b[0m\n",
      "\u001b[32m2024-11-08 22:00:46.938\u001b[0m | \u001b[1mINFO    \u001b[0m | \u001b[36mtlspt.datamodules.components.base_site\u001b[0m:\u001b[36m__init__\u001b[0m:\u001b[36m64\u001b[0m - \u001b[1mtest: found 14 plots for 'train' out of 14 plots defined in split file\u001b[0m\n"
     ]
    }
   ],
   "source": [
    "base_dataset = BaseSiteDataset(split_file='../data/plot_octrees/allen-spain/octrees/allen-spain-plot_splits-tr0.7-val0.15-te0.15_seed0.csv', \n",
    "                               split='train', \n",
    "                               dataset='test', \n",
    "                               voxel_format='npy')"
   ]
  },
  {
   "cell_type": "code",
   "execution_count": 3,
   "metadata": {},
   "outputs": [
    {
     "name": "stderr",
     "output_type": "stream",
     "text": [
      "\u001b[32m2024-11-08 22:00:47.142\u001b[0m | \u001b[1mINFO    \u001b[0m | \u001b[36mtlspt.datamodules.components.base_site\u001b[0m:\u001b[36m__init__\u001b[0m:\u001b[36m49\u001b[0m - \u001b[1m0fae303131f5d: reading splits from ../data/plot_octrees/allen-spain/octrees/allen-spain-plot_splits-tr0.7-val0.15-te0.15_seed0.csv\u001b[0m\n",
      "\u001b[32m2024-11-08 22:00:47.145\u001b[0m | \u001b[1mINFO    \u001b[0m | \u001b[36mtlspt.datamodules.components.base_site\u001b[0m:\u001b[36m__init__\u001b[0m:\u001b[36m56\u001b[0m - \u001b[1m0fae303131f5d: looking for 14 folders in ../data/plot_octrees/allen-spain/octrees/\u001b[0m\n",
      "\u001b[32m2024-11-08 22:00:47.146\u001b[0m | \u001b[1mINFO    \u001b[0m | \u001b[36mtlspt.datamodules.components.base_site\u001b[0m:\u001b[36m__init__\u001b[0m:\u001b[36m64\u001b[0m - \u001b[1m0fae303131f5d: found 14 plots for 'train' out of 14 plots defined in split file\u001b[0m\n",
      "\u001b[32m2024-11-08 22:00:47.147\u001b[0m | \u001b[1mINFO    \u001b[0m | \u001b[36mtlspt.structures.file_octree\u001b[0m:\u001b[36m__init__\u001b[0m:\u001b[36m151\u001b[0m - \u001b[1mInitializing octree from <class 'str'> ../data/plot_octrees/allen-spain/octrees/SPA01_1,5m/SPA01.json\u001b[0m\n",
      "\u001b[32m2024-11-08 22:00:47.189\u001b[0m | \u001b[1mINFO    \u001b[0m | \u001b[36mtlspt.structures.file_octree\u001b[0m:\u001b[36m__init__\u001b[0m:\u001b[36m151\u001b[0m - \u001b[1mInitializing octree from <class 'str'> ../data/plot_octrees/allen-spain/octrees/SPA04_1,5m/SPA04.json\u001b[0m\n",
      "\u001b[32m2024-11-08 22:00:47.228\u001b[0m | \u001b[1mINFO    \u001b[0m | \u001b[36mtlspt.structures.file_octree\u001b[0m:\u001b[36m__init__\u001b[0m:\u001b[36m151\u001b[0m - \u001b[1mInitializing octree from <class 'str'> ../data/plot_octrees/allen-spain/octrees/SPA05_1,5m/SPA05.json\u001b[0m\n",
      "\u001b[32m2024-11-08 22:00:47.269\u001b[0m | \u001b[1mINFO    \u001b[0m | \u001b[36mtlspt.structures.file_octree\u001b[0m:\u001b[36m__init__\u001b[0m:\u001b[36m151\u001b[0m - \u001b[1mInitializing octree from <class 'str'> ../data/plot_octrees/allen-spain/octrees/SPA06_1,5m/SPA06.json\u001b[0m\n",
      "\u001b[32m2024-11-08 22:00:47.427\u001b[0m | \u001b[1mINFO    \u001b[0m | \u001b[36mtlspt.structures.file_octree\u001b[0m:\u001b[36m__init__\u001b[0m:\u001b[36m151\u001b[0m - \u001b[1mInitializing octree from <class 'str'> ../data/plot_octrees/allen-spain/octrees/SPA13_1,5m/SPA13.json\u001b[0m\n",
      "\u001b[32m2024-11-08 22:00:47.444\u001b[0m | \u001b[1mINFO    \u001b[0m | \u001b[36mtlspt.structures.file_octree\u001b[0m:\u001b[36m__init__\u001b[0m:\u001b[36m151\u001b[0m - \u001b[1mInitializing octree from <class 'str'> ../data/plot_octrees/allen-spain/octrees/SPA16_1,5m/SPA16.json\u001b[0m\n",
      "\u001b[32m2024-11-08 22:00:47.473\u001b[0m | \u001b[1mINFO    \u001b[0m | \u001b[36mtlspt.structures.file_octree\u001b[0m:\u001b[36m__init__\u001b[0m:\u001b[36m151\u001b[0m - \u001b[1mInitializing octree from <class 'str'> ../data/plot_octrees/allen-spain/octrees/SPA17_1,5m/SPA17.json\u001b[0m\n",
      "\u001b[32m2024-11-08 22:00:47.501\u001b[0m | \u001b[1mINFO    \u001b[0m | \u001b[36mtlspt.structures.file_octree\u001b[0m:\u001b[36m__init__\u001b[0m:\u001b[36m151\u001b[0m - \u001b[1mInitializing octree from <class 'str'> ../data/plot_octrees/allen-spain/octrees/SPA23_1,5m/SPA23.json\u001b[0m\n",
      "\u001b[32m2024-11-08 22:00:47.517\u001b[0m | \u001b[1mINFO    \u001b[0m | \u001b[36mtlspt.structures.file_octree\u001b[0m:\u001b[36m__init__\u001b[0m:\u001b[36m151\u001b[0m - \u001b[1mInitializing octree from <class 'str'> ../data/plot_octrees/allen-spain/octrees/SPA25_1,5m/SPA25.json\u001b[0m\n",
      "\u001b[32m2024-11-08 22:00:47.554\u001b[0m | \u001b[1mINFO    \u001b[0m | \u001b[36mtlspt.structures.file_octree\u001b[0m:\u001b[36m__init__\u001b[0m:\u001b[36m151\u001b[0m - \u001b[1mInitializing octree from <class 'str'> ../data/plot_octrees/allen-spain/octrees/SPA26_1,5m/SPA26.json\u001b[0m\n",
      "\u001b[32m2024-11-08 22:00:47.579\u001b[0m | \u001b[1mINFO    \u001b[0m | \u001b[36mtlspt.structures.file_octree\u001b[0m:\u001b[36m__init__\u001b[0m:\u001b[36m151\u001b[0m - \u001b[1mInitializing octree from <class 'str'> ../data/plot_octrees/allen-spain/octrees/SPA27_1,5m/SPA27.json\u001b[0m\n",
      "\u001b[32m2024-11-08 22:00:47.597\u001b[0m | \u001b[1mINFO    \u001b[0m | \u001b[36mtlspt.structures.file_octree\u001b[0m:\u001b[36m__init__\u001b[0m:\u001b[36m151\u001b[0m - \u001b[1mInitializing octree from <class 'str'> ../data/plot_octrees/allen-spain/octrees/SPA32_1,5m/SPA32.json\u001b[0m\n",
      "\u001b[32m2024-11-08 22:00:47.611\u001b[0m | \u001b[1mINFO    \u001b[0m | \u001b[36mtlspt.structures.file_octree\u001b[0m:\u001b[36m__init__\u001b[0m:\u001b[36m151\u001b[0m - \u001b[1mInitializing octree from <class 'str'> ../data/plot_octrees/allen-spain/octrees/SPA35_1,5m/SPA35.json\u001b[0m\n",
      "\u001b[32m2024-11-08 22:00:47.629\u001b[0m | \u001b[1mINFO    \u001b[0m | \u001b[36mtlspt.structures.file_octree\u001b[0m:\u001b[36m__init__\u001b[0m:\u001b[36m151\u001b[0m - \u001b[1mInitializing octree from <class 'str'> ../data/plot_octrees/allen-spain/octrees/SPA36_1,5m/SPA36.json\u001b[0m\n",
      "\u001b[32m2024-11-08 22:00:47.914\u001b[0m | \u001b[1mINFO    \u001b[0m | \u001b[36mtlspt.utils\u001b[0m:\u001b[36m__init__\u001b[0m:\u001b[36m36\u001b[0m - \u001b[1mCreating directory for stats_file ../data/plot_octrees/allen-spain/octrees/stats/stats_128a15cc4e5f0.pkl\u001b[0m\n"
     ]
    }
   ],
   "source": [
    "site_dataset = OctreeDataset(split_file='../data/plot_octrees/allen-spain/octrees/allen-spain-plot_splits-tr0.7-val0.15-te0.15_seed0.csv',\n",
    "                                 split='train',\n",
    "                                 feature_names=['red', 'green', 'blue'],\n",
    "                                 features_to_normalize=['red', 'green', 'blue'],\n",
    "                                 scale=1.5,\n",
    "                                 transform=TLSSampler(uniform_points=8192, farthest_points=1024))"
   ]
  },
  {
   "cell_type": "code",
   "execution_count": 4,
   "metadata": {},
   "outputs": [
    {
     "data": {
      "text/plain": [
       "<tlspt.structures.file_octree.FileOctree at 0x7fe9c222fc40>"
      ]
     },
     "execution_count": 4,
     "metadata": {},
     "output_type": "execute_result"
    }
   ],
   "source": [
    "site_dataset.octrees[0]"
   ]
  },
  {
   "cell_type": "code",
   "execution_count": 5,
   "metadata": {},
   "outputs": [
    {
     "data": {
      "text/plain": [
       "14"
      ]
     },
     "execution_count": 5,
     "metadata": {},
     "output_type": "execute_result"
    }
   ],
   "source": [
    "len(site_dataset.nodes)"
   ]
  },
  {
   "cell_type": "code",
   "execution_count": 6,
   "metadata": {},
   "outputs": [
    {
     "name": "stdout",
     "output_type": "stream",
     "text": [
      "Number of nodes in DS plot 0: 1632\n"
     ]
    }
   ],
   "source": [
    "print(f\"Number of nodes in DS plot 0: {len(site_dataset.nodes[0])}\")"
   ]
  },
  {
   "cell_type": "code",
   "execution_count": 7,
   "metadata": {},
   "outputs": [
    {
     "name": "stdout",
     "output_type": "stream",
     "text": [
      "Number of leaves total in DS plot 0: 1632\n"
     ]
    }
   ],
   "source": [
    "len(site_dataset.leaf_nodes[0])  #e.g. site_dataset.leaf_nodes[number of plot][number of parent node]\n",
    "num_leaves_per_node = [len(x) for x in site_dataset.leaf_nodes[0]]\n",
    "print(f\"Number of leaves total in DS plot 0: {sum(num_leaves_per_node)}\")"
   ]
  },
  {
   "cell_type": "code",
   "execution_count": 8,
   "metadata": {},
   "outputs": [
    {
     "data": {
      "text/plain": [
       "13962"
      ]
     },
     "execution_count": 8,
     "metadata": {},
     "output_type": "execute_result"
    }
   ],
   "source": [
    "len(site_dataset)"
   ]
  },
  {
   "cell_type": "code",
   "execution_count": 9,
   "metadata": {},
   "outputs": [
    {
     "data": {
      "text/plain": [
       "<tlspt.structures.pointclouds.TLSPointclouds at 0x7fe9c1a8e400>"
      ]
     },
     "execution_count": 9,
     "metadata": {},
     "output_type": "execute_result"
    }
   ],
   "source": [
    "site_dataset.load_item(0)"
   ]
  },
  {
   "cell_type": "code",
   "execution_count": 10,
   "metadata": {},
   "outputs": [
    {
     "name": "stderr",
     "output_type": "stream",
     "text": [
      "\u001b[32m2024-11-08 22:00:48.842\u001b[0m | \u001b[1mINFO    \u001b[0m | \u001b[36mtlspt.utils\u001b[0m:\u001b[36mprepare_data\u001b[0m:\u001b[36m90\u001b[0m - \u001b[1mreading stats from ../data/plot_octrees/allen-spain/octrees/stats/stats_128a15cc4e5f0.pkl\u001b[0m\n",
      "\u001b[32m2024-11-08 22:00:48.843\u001b[0m | \u001b[1mINFO    \u001b[0m | \u001b[36mtlspt.utils\u001b[0m:\u001b[36mprepare_data\u001b[0m:\u001b[36m91\u001b[0m - \u001b[1mfor dataset OctreeDataset.{'features_to_normalize': ['red', 'green', 'blue']}.train.128a15cc4e5f0\u001b[0m\n",
      "\u001b[32m2024-11-08 22:00:48.845\u001b[0m | \u001b[1mINFO    \u001b[0m | \u001b[36mtlspt.utils\u001b[0m:\u001b[36mprepare_data\u001b[0m:\u001b[36m100\u001b[0m - \u001b[1mmean: tensor([84.8191, 78.4194, 78.4236])\u001b[0m\n",
      "\u001b[32m2024-11-08 22:00:48.846\u001b[0m | \u001b[1mINFO    \u001b[0m | \u001b[36mtlspt.utils\u001b[0m:\u001b[36mprepare_data\u001b[0m:\u001b[36m101\u001b[0m - \u001b[1mstd: tensor([86.3282, 82.7727, 82.8428])\u001b[0m\n",
      "\u001b[32m2024-11-08 22:00:48.846\u001b[0m | \u001b[1mINFO    \u001b[0m | \u001b[36mtlspt.utils\u001b[0m:\u001b[36mprepare_data\u001b[0m:\u001b[36m105\u001b[0m - \u001b[1mtorch.float32\u001b[0m\n",
      "\u001b[32m2024-11-08 22:00:48.847\u001b[0m | \u001b[1mINFO    \u001b[0m | \u001b[36mtlspt.utils\u001b[0m:\u001b[36mprepare_data\u001b[0m:\u001b[36m109\u001b[0m - \u001b[1mDataset has 3 features named ['red', 'green', 'blue']. \n",
      " Normalizing ['red', 'green', 'blue'] by mean+std. \u001b[0m\n",
      "\u001b[32m2024-11-08 22:00:48.847\u001b[0m | \u001b[1mINFO    \u001b[0m | \u001b[36mtlspt.utils\u001b[0m:\u001b[36mprepare_data\u001b[0m:\u001b[36m112\u001b[0m - \u001b[1m3 channels will be zero centered and scaled to [-1,1].\u001b[0m\n"
     ]
    }
   ],
   "source": [
    "site_dataset.prepare_data(force_compute=False)"
   ]
  },
  {
   "cell_type": "code",
   "execution_count": 18,
   "metadata": {},
   "outputs": [
    {
     "data": {
      "text/plain": [
       "torch.Size([1024, 3])"
      ]
     },
     "execution_count": 18,
     "metadata": {},
     "output_type": "execute_result"
    }
   ],
   "source": [
    "site_dataset[0]['features'].shape"
   ]
  },
  {
   "cell_type": "code",
   "execution_count": 19,
   "metadata": {},
   "outputs": [
    {
     "data": {
      "text/plain": [
       "torch.Size([1024, 3])"
      ]
     },
     "execution_count": 19,
     "metadata": {},
     "output_type": "execute_result"
    }
   ],
   "source": [
    "site_dataset[0]['points'].shape"
   ]
  },
  {
   "cell_type": "code",
   "execution_count": null,
   "metadata": {},
   "outputs": [],
   "source": []
  }
 ],
 "metadata": {
  "kernelspec": {
   "display_name": "tlspt",
   "language": "python",
   "name": "python3"
  },
  "language_info": {
   "codemirror_mode": {
    "name": "ipython",
    "version": 3
   },
   "file_extension": ".py",
   "mimetype": "text/x-python",
   "name": "python",
   "nbconvert_exporter": "python",
   "pygments_lexer": "ipython3",
   "version": "3.9.20"
  }
 },
 "nbformat": 4,
 "nbformat_minor": 2
}
