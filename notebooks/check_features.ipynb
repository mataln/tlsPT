{
 "cells": [
  {
   "cell_type": "code",
   "execution_count": null,
   "metadata": {},
   "outputs": [],
   "source": [
    "import pandas as pd\n",
    "import pytorch3d\n",
    "import os\n",
    "\n",
    "from tlspt.structures.pointclouds import TLSPointclouds\n",
    "from tlspt.io.tls_reader import TLSReader as TR"
   ]
  },
  {
   "cell_type": "code",
   "execution_count": 2,
   "metadata": {},
   "outputs": [
    {
     "name": "stdout",
     "output_type": "stream",
     "text": [
      "Found 20 of 20 folders\n"
     ]
    }
   ],
   "source": [
    "split_file = \"/home/matt/work/tlsPT/data/plot_octrees/allen-spain/octrees/seg_allen-spain-plot_splits-tr0.7-val0.15-te0.15_seed0.csv\"\n",
    "base = os.path.dirname(split_file)\n",
    "\n",
    "splits = pd.read_csv(split_file)\n",
    "\n",
    "target_folders = [os.path.join(base, folder) for folder in splits[\"plot\"]]\n",
    "found_folders = [folder+'/voxels' for folder in target_folders if os.path.exists(folder)]\n",
    "\n",
    "print(f\"Found {len(found_folders)} of {len(target_folders)} folders\")"
   ]
  },
  {
   "cell_type": "code",
   "execution_count": 3,
   "metadata": {},
   "outputs": [],
   "source": [
    "reader = TR()\n",
    "\n",
    "def read(file):\n",
    "    return reader.load_pointcloud(\n",
    "        path=file, device=\"cpu\"\n",
    "    )\n",
    "\n",
    "def read_folder(folder):\n",
    "    files = [os.path.join(folder, f) for f in os.listdir(folder) if f.endswith(\".ply\")][:50]\n",
    "    clouds = [read(f) for f in files]\n",
    "    return clouds"
   ]
  },
  {
   "cell_type": "code",
   "execution_count": 6,
   "metadata": {},
   "outputs": [
    {
     "name": "stdout",
     "output_type": "stream",
     "text": [
      "SPA29_1,5m: ['red', 'green', 'blue']\n",
      "SPA32_1,5m: ['red', 'green', 'blue']\n",
      "SPA03_1,5m: ['red', 'green', 'blue']\n",
      "SPA04_1,5m: ['red', 'green', 'blue']\n",
      "SPA16_1,5m: ['red', 'green', 'blue']\n",
      "SPA19_1,5m: ['red', 'green', 'blue']\n",
      "SPA13_1,5m: ['red', 'green', 'blue']\n",
      "SPA25_1,5m: ['red', 'green', 'blue']\n",
      "SPA26_1,5m: ['red', 'green', 'blue']\n",
      "SPA36_1,5m: ['red', 'green', 'blue']\n",
      "SPA23_1,5m: ['red', 'green', 'blue']\n",
      "SPA28_1,5m: ['red', 'green', 'blue']\n",
      "SPA05_1,5m: ['red', 'green', 'blue', 'label', 't_clstr', 'wood', 'distance']\n",
      "SPA06_1,5m: ['red', 'green', 'blue']\n",
      "SPA24_1,5m: ['red', 'green', 'blue']\n",
      "SPA35_1,5m: ['red', 'green', 'blue']\n",
      "SPA27_1,5m: ['red', 'green', 'blue']\n",
      "SPA17_1,5m: ['red', 'green', 'blue']\n",
      "SPA02_1,5m: ['red', 'green', 'blue']\n",
      "SPA01_1,5m: ['red', 'green', 'blue', 'scalar_pathlength', 'scalar_distance', 'scalar_label']\n"
     ]
    }
   ],
   "source": [
    "for folder in found_folders:\n",
    "    clouds = read_folder(folder)\n",
    "    matched = all([clouds[i]._feature_names == clouds[0]._feature_names for i in range(1, len(clouds))])\n",
    "    if not(matched):\n",
    "        print(f\"Features don't match for {folder}\")\n",
    "    print(f\"{folder.split('/')[-2]}: {clouds[0]._feature_names}\")"
   ]
  },
  {
   "cell_type": "code",
   "execution_count": 10,
   "metadata": {},
   "outputs": [
    {
     "name": "stdout",
     "output_type": "stream",
     "text": [
      "Found 20 of 20 folders\n",
      "POL34_2021-08-24.PROJ_1,5m: ['red', 'green', 'blue']\n",
      "POL21_2021-08-25.PROJ_1,5m: ['red', 'green', 'blue']\n",
      "POL18_2021-08-21.PROJ_1,5m: ['red', 'green', 'blue']\n",
      "POL15_2021-08-22.PROJ_1,5m: ['red', 'green', 'blue']\n",
      "POL37_2021-08-19.PROJ_1,5m: ['red', 'green', 'blue']\n",
      "POL26_2021-08-24.PROJ_1,5m: ['red', 'green', 'blue']\n",
      "POL41_2021-08-20.PROJ_1,5m: ['red', 'green', 'blue']\n",
      "POL04_2021-08-28.PROJ_1,5m: ['red', 'green', 'blue']\n",
      "POL20_2021-08-25.PROJ_1,5m: ['red', 'green', 'blue']\n",
      "POL22_2021-08-26.PROJ_1,5m: ['red', 'green', 'blue']\n",
      "POL35_2021-08-20.PROJ_1,5m: ['red', 'green', 'blue']\n",
      "POL24_2021-08-21.PROJ_1,5m: ['red', 'green', 'blue']\n",
      "POL11_2021-08-18.PROJ_1,5m: ['red', 'green', 'blue']\n",
      "POL13_2021-08-27.PROJ_1,5m: ['red', 'green', 'blue']\n",
      "POL29_2021-08-27.PROJ_1,5m: ['red', 'green', 'blue']\n",
      "POL36_2021-08-27.PROJ_1,5m: ['red', 'green', 'blue']\n",
      "POL31_2021-08-18.PROJ_1,5m: ['red', 'green', 'blue']\n",
      "POL10_2021-08-17.PROJ_1,5m: ['red', 'green', 'blue']\n",
      "POL33_2021-08-25.PROJ_1,5m: ['red', 'green', 'blue']\n",
      "POL32_2021-08-22.PROJ_1,5m: ['red', 'green', 'blue']\n"
     ]
    }
   ],
   "source": [
    "split_file = \"/home/matt/work/tlsPT/data/plot_octrees/allen-poland/octrees/seg_allen-poland-plot_splits-tr0.7-val0.15-te0.15_seed0.csv\"\n",
    "base = os.path.dirname(split_file)\n",
    "\n",
    "splits = pd.read_csv(split_file)\n",
    "\n",
    "target_folders = [os.path.join(base, folder) for folder in splits[\"plot\"]]\n",
    "found_folders = [folder+'/voxels' for folder in target_folders if os.path.exists(folder)]\n",
    "\n",
    "print(f\"Found {len(found_folders)} of {len(target_folders)} folders\")\n",
    "\n",
    "for folder in found_folders:\n",
    "    clouds = read_folder(folder)\n",
    "    matched = all([clouds[i]._feature_names == clouds[0]._feature_names for i in range(1, len(clouds))])\n",
    "    if not(matched):\n",
    "        print(f\"Features don't match for {folder}\")\n",
    "    print(f\"{folder.split('/')[-2]}: {clouds[0]._feature_names}\")"
   ]
  },
  {
   "cell_type": "code",
   "execution_count": 11,
   "metadata": {},
   "outputs": [
    {
     "name": "stdout",
     "output_type": "stream",
     "text": [
      "Found 15 of 15 folders\n",
      "FIN09_1,5m: ['red', 'green', 'blue']\n",
      "FIN12_1,5m: ['red', 'green', 'blue']\n",
      "FIN02_1,5m: ['red', 'green', 'blue']\n",
      "FIN15_1,5m: ['red', 'green', 'blue']\n",
      "FIN19_1,5m: ['red', 'green', 'blue']\n",
      "FIN28_1,5m: ['red', 'green', 'blue']\n",
      "FIN27_1,5m: ['red', 'green', 'blue']\n",
      "FIN23_1,5m: ['red', 'green', 'blue']\n",
      "FIN01_1,5m: ['red', 'green', 'blue']\n",
      "FIN04_1,5m: ['red', 'green', 'blue']\n",
      "FIN14_1,5m: ['red', 'green', 'blue']\n",
      "FIN25_1,5m: ['red', 'green', 'blue']\n",
      "FIN13_1,5m: ['red', 'green', 'blue']\n",
      "FIN10_1,5m: ['red', 'green', 'blue']\n",
      "FIN18_1,5m: ['red', 'green', 'blue']\n"
     ]
    }
   ],
   "source": [
    "split_file = \"/home/matt/work/tlsPT/data/plot_octrees/allen-finland/octrees/seg_allen-finland-plot_splits-tr0.7-val0.15-te0.15_seed0.csv\"\n",
    "base = os.path.dirname(split_file)\n",
    "\n",
    "splits = pd.read_csv(split_file)\n",
    "\n",
    "target_folders = [os.path.join(base, folder) for folder in splits[\"plot\"]]\n",
    "found_folders = [folder+'/voxels' for folder in target_folders if os.path.exists(folder)]\n",
    "\n",
    "print(f\"Found {len(found_folders)} of {len(target_folders)} folders\")\n",
    "\n",
    "for folder in found_folders:\n",
    "    clouds = read_folder(folder)\n",
    "    matched = all([clouds[i]._feature_names == clouds[0]._feature_names for i in range(1, len(clouds))])\n",
    "    if not(matched):\n",
    "        print(f\"Features don't match for {folder}\")\n",
    "    print(f\"{folder.split('/')[-2]}: {clouds[0]._feature_names}\")"
   ]
  },
  {
   "cell_type": "code",
   "execution_count": null,
   "metadata": {},
   "outputs": [],
   "source": []
  }
 ],
 "metadata": {
  "kernelspec": {
   "display_name": "tlspt",
   "language": "python",
   "name": "python3"
  },
  "language_info": {
   "codemirror_mode": {
    "name": "ipython",
    "version": 3
   },
   "file_extension": ".py",
   "mimetype": "text/x-python",
   "name": "python",
   "nbconvert_exporter": "python",
   "pygments_lexer": "ipython3",
   "version": "3.9.20"
  }
 },
 "nbformat": 4,
 "nbformat_minor": 2
}
