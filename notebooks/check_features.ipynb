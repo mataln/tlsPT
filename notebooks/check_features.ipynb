{
 "cells": [
  {
   "cell_type": "code",
   "execution_count": 23,
   "metadata": {},
   "outputs": [],
   "source": [
    "import pandas as pd\n",
    "import pytorch3d\n",
    "import os\n",
    "\n",
    "from tlspt.structures.pointclouds import TLSPointclouds\n",
    "from tlspt.io.tls_reader import TLSReader as TR\n"
   ]
  },
  {
   "cell_type": "code",
   "execution_count": 24,
   "metadata": {},
   "outputs": [
    {
     "name": "stdout",
     "output_type": "stream",
     "text": [
      "Found 20 of 20 folders\n"
     ]
    }
   ],
   "source": [
    "split_file = \"/home/matt/work/tlsPT/data/plot_octrees/allen-spain/octrees/seg_allen-spain-plot_splits-tr0.7-val0.15-te0.15_seed0.csv\"\n",
    "base = os.path.dirname(split_file)\n",
    "\n",
    "splits = pd.read_csv(split_file)\n",
    "\n",
    "target_folders = [os.path.join(base, folder) for folder in splits[\"plot\"]]\n",
    "found_folders = [folder+'/voxels' for folder in target_folders if os.path.exists(folder)]\n",
    "\n",
    "print(f\"Found {len(found_folders)} of {len(target_folders)} folders\")"
   ]
  },
  {
   "cell_type": "code",
   "execution_count": null,
   "metadata": {},
   "outputs": [],
   "source": [
    "reader = TR()\n",
    "\n",
    "def read(file):\n",
    "    return reader.load_pointcloud(\n",
    "        path=file, device=\"cpu\"\n",
    "    )\n",
    "\n",
    "def read_folder(folder):\n",
    "    files = [os.path.join(folder, f) for f in os.listdir(folder) if f.endswith(\".ply\")]\n",
    "    clouds = [read(f) for f in files]\n",
    "    return clouds\n",
    "\n",
    "folder = found_folders[0]\n",
    "\n",
    "files = read_folder(folder)"
   ]
  },
  {
   "cell_type": "code",
   "execution_count": 30,
   "metadata": {},
   "outputs": [
    {
     "data": {
      "text/plain": [
       "'/home/matt/work/tlsPT/data/plot_octrees/allen-spain/octrees/SPA29_1,5m/voxels/155dddf91bd96f8f.ply'"
      ]
     },
     "execution_count": 30,
     "metadata": {},
     "output_type": "execute_result"
    }
   ],
   "source": [
    "files[0]"
   ]
  },
  {
   "cell_type": "code",
   "execution_count": null,
   "metadata": {},
   "outputs": [],
   "source": []
  }
 ],
 "metadata": {
  "kernelspec": {
   "display_name": "tlspt",
   "language": "python",
   "name": "python3"
  },
  "language_info": {
   "codemirror_mode": {
    "name": "ipython",
    "version": 3
   },
   "file_extension": ".py",
   "mimetype": "text/x-python",
   "name": "python",
   "nbconvert_exporter": "python",
   "pygments_lexer": "ipython3",
   "version": "3.9.20"
  }
 },
 "nbformat": 4,
 "nbformat_minor": 2
}
